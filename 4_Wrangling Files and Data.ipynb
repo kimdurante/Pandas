{
 "cells": [
  {
   "cell_type": "markdown",
   "metadata": {},
   "source": [
    "## Wrangling Files and Data\n",
    "\n",
    "Reading files with unstructured data. \n",
    "\n",
    "Import pandas as pd:"
   ]
  },
  {
   "cell_type": "code",
   "execution_count": 87,
   "metadata": {},
   "outputs": [],
   "source": [
    "import pandas as pd"
   ]
  },
  {
   "cell_type": "markdown",
   "metadata": {},
   "source": [
    "From the Berkeley Earth surface temperature dataset, download localized data for New York City:"
   ]
  },
  {
   "cell_type": "code",
   "execution_count": 1,
   "metadata": {},
   "outputs": [
    {
     "name": "stdout",
     "output_type": "stream",
     "text": [
      "  % Total    % Received % Xferd  Average Speed   Time    Time     Time  Current\n",
      "                                 Dload  Upload   Total   Spent    Left  Speed\n",
      "100  313k  100  313k    0     0  2520k      0 --:--:-- --:--:-- --:--:-- 2527k\n"
     ]
    }
   ],
   "source": [
    "! curl -o ./data/nyc_temp.txt http://berkeleyearth.lbl.gov/auto/Local/TAVG/Text/40.99N-74.56W-TAVG-Trend.txt"
   ]
  },
  {
   "cell_type": "markdown",
   "metadata": {},
   "source": [
    "Inspect the file:\n",
    "\n",
    "`! head ./data/nyc_temp.txt`\n",
    "\n",
    "This file is not well-formatted. Use head/tail to narrow the selection:\n",
    "\n",
    "`! head -72 nyc_temp.txt | tail -8`"
   ]
  },
  {
   "cell_type": "code",
   "execution_count": 2,
   "metadata": {},
   "outputs": [],
   "source": []
  },
  {
   "cell_type": "markdown",
   "metadata": {},
   "source": [
    "### Reading and Formatting Files\n",
    "\n",
    "Create a list of column names:\n",
    "\n",
    "`col_names = ['year', 'month', 'monthly_anom']`\n",
    "\n",
    "Supply the following arguments in `read_csv`:\n",
    "\n",
    "`header=None`\n",
    "\n",
    "`usecols=[0,1,2]`\n",
    "\n",
    "`names = col_names`\n",
    "\n",
    "`delim_whitespace=True`\n",
    "\n",
    "`comment=\"%\"`\n",
    "\n",
    "`temp = pd.read_csv('nyc_temp.txt', header=None, delim_whitespace=True, usecols=[0,1,2], names=col_names, comment=\"%\")`\n",
    "\n"
   ]
  },
  {
   "cell_type": "code",
   "execution_count": null,
   "metadata": {},
   "outputs": [],
   "source": []
  },
  {
   "cell_type": "markdown",
   "metadata": {},
   "source": [
    "### Create a DateTime Index\n",
    "\n",
    "`date_df = temp.drop('monthly_anom', axis=1)`\n",
    "\n",
    "`date_df[\"day\"] = 1`\n",
    "\n",
    "`date_index = pd.DatetimeIndex(pd.to_datetime(date_df))`\n",
    "\n",
    "`temp = temp.set_index(date_index).drop([\"year\", \"month\"], axis=1)`"
   ]
  },
  {
   "cell_type": "code",
   "execution_count": 3,
   "metadata": {},
   "outputs": [],
   "source": [
    "col_names = ['year', 'month', 'monthly_anom']\n",
    "temp = pd.read_csv('nyc_temp.txt', header=None, usecols=[0, 1, 2], names=col_names, delim_whitespace=True, comment='%')\n",
    "\n"
   ]
  },
  {
   "cell_type": "markdown",
   "metadata": {},
   "source": [
    "### Fill Missing Values\n",
    "\n",
    "`temp = temp.fillna(method=\"ffill\")`"
   ]
  },
  {
   "cell_type": "code",
   "execution_count": null,
   "metadata": {},
   "outputs": [],
   "source": []
  },
  {
   "cell_type": "markdown",
   "metadata": {},
   "source": [
    "## Working with Large Datasets\n",
    "\n",
    "Using the `chunksize` argument of `read_csv` to parse or perfrom operations on large files\n",
    "\n",
    "`filename = \"./data/311_Cases2019.csv\"`\n",
    "\n",
    "`c_size = 200000`\n",
    "\n",
    "`for sf_chunk in pd.read_csv(filename, chunksize=c_size):`\n",
    "\n",
    "&nbsp;&nbsp;&nbsp;&nbsp;`print (sf_chunk.shape)`"
   ]
  },
  {
   "cell_type": "code",
   "execution_count": null,
   "metadata": {},
   "outputs": [],
   "source": []
  },
  {
   "cell_type": "markdown",
   "metadata": {},
   "source": [
    "Chunking Multiple Operations"
   ]
  },
  {
   "cell_type": "markdown",
   "metadata": {},
   "source": [
    "`for sf_chunk in pd.read_csv(filename, chunksize=c_size):`\n",
    "\n",
    "&nbsp;&nbsp;&nbsp;&nbsp;`sf_chunk = sf_chunk.iloc[:, 0:18]`\n",
    "\n",
    "&nbsp;&nbsp;&nbsp;&nbsp;`sf_chunk = sf_chunk.fillna(\"None\")`\n",
    "\n",
    "&nbsp;&nbsp;&nbsp;&nbsp;`date_index = pd.DatetimeIndex(pd.to_datetime(sf_chunk[\"Opened\"]))`\n",
    "\n",
    "&nbsp;&nbsp;&nbsp;&nbsp;`sf_chunk.loc[:,\"Opened\"] = date_index` \n",
    "\n",
    "&nbsp;&nbsp;&nbsp;&nbsp;`sf_chunk.loc[:,\"Weekday\"] = date_index.weekday_name` \n",
    "\n",
    "&nbsp;&nbsp;&nbsp;&nbsp;`print (sf_chunk[\"Neighborhood\"])`"
   ]
  },
  {
   "cell_type": "code",
   "execution_count": null,
   "metadata": {},
   "outputs": [],
   "source": []
  },
  {
   "cell_type": "markdown",
   "metadata": {},
   "source": [
    "### NaN Functions\n",
    "\n",
    "`import numpy as np`\n",
    "\n",
    "`df = pd.DataFrame(np.random.randn(3, 3), index=['a', 'c', 'e'], columns=['one','two', 'three'])`\n",
    "\n",
    "`print (\"Original\" + \"\\n\")`\n",
    "\n",
    "`print (df)`\n",
    "\n",
    "`df = df.reindex(['a', 'b', 'c'])`\n",
    "\n",
    "`print (\"\\n\"  + \"Reindexed:\" + '\\n')`\n",
    "\n",
    "`print (df)`\n",
    "\n",
    "`print (\"\\n\"  + \"NaN replaced with '0':\" + \"\\n\")`\n",
    "\n",
    "`print (df.fillna(0))`"
   ]
  },
  {
   "cell_type": "code",
   "execution_count": 137,
   "metadata": {},
   "outputs": [
    {
     "name": "stdout",
     "output_type": "stream",
     "text": [
      "Original\n",
      "\n",
      "        one       two     three\n",
      "a  1.982738  0.486554  1.536442\n",
      "c -0.854264  0.861779  0.962401\n",
      "e -1.045314 -0.060082 -1.786305\n",
      "\n",
      "Reindexed:\n",
      "\n",
      "        one       two     three\n",
      "a  1.982738  0.486554  1.536442\n",
      "b       NaN       NaN       NaN\n",
      "c -0.854264  0.861779  0.962401\n",
      "\n",
      "NaN replaced with '0':\n",
      "\n",
      "        one       two     three\n",
      "a  1.982738  0.486554  1.536442\n",
      "b  0.000000  0.000000  0.000000\n",
      "c -0.854264  0.861779  0.962401\n"
     ]
    }
   ],
   "source": [
    "import numpy as np\n",
    "\n",
    "df = pd.DataFrame(np.random.randn(3, 3), index=['a', 'c', 'e'], columns=['one','two', 'three'])\n",
    "print (\"Original\" + \"\\n\")\n",
    "print (df)\n",
    "df = df.reindex(['a', 'b', 'c'])\n",
    "print (\"\\n\"  + \"Reindexed:\" + '\\n')\n",
    "print (df)\n",
    "print (\"\\n\"  + \"NaN replaced with '0':\" + \"\\n\")\n",
    "print (df.fillna(0))"
   ]
  },
  {
   "cell_type": "code",
   "execution_count": 138,
   "metadata": {},
   "outputs": [
    {
     "name": "stdout",
     "output_type": "stream",
     "text": [
      "Original\n",
      "\n",
      "        one       two     three\n",
      "a  1.064932  2.136276 -0.430257\n",
      "c -1.537479 -1.293200  0.211070\n",
      "e -1.499677 -0.138826 -1.030252\n",
      "\n",
      "Reindexed:\n",
      "\n",
      "        one       two     three\n",
      "a  1.064932  2.136276 -0.430257\n",
      "b       NaN       NaN       NaN\n",
      "c -1.537479 -1.293200  0.211070\n",
      "\n",
      "After Dropping NaN rows:\n",
      "\n",
      "        one       two     three\n",
      "a  1.064932  2.136276 -0.430257\n",
      "c -1.537479 -1.293200  0.211070\n"
     ]
    }
   ],
   "source": [
    "df = pd.DataFrame(np.random.randn(3, 3), index=['a', 'c', 'e'], columns=['one','two', 'three'])\n",
    "print (\"Original\" + \"\\n\")\n",
    "print (df)\n",
    "df = df.reindex(['a', 'b', 'c'])\n",
    "print (\"\\n\"  + \"Reindexed:\" + '\\n')\n",
    "print (df)\n",
    "df = df.dropna()\n",
    "print (\"\\n\"  + \"After Dropping NaN rows:\" + '\\n')\n",
    "print (df)"
   ]
  },
  {
   "cell_type": "code",
   "execution_count": null,
   "metadata": {},
   "outputs": [],
   "source": []
  }
 ],
 "metadata": {
  "kernelspec": {
   "display_name": "Python 3",
   "language": "python",
   "name": "python3"
  },
  "language_info": {
   "codemirror_mode": {
    "name": "ipython",
    "version": 3
   },
   "file_extension": ".py",
   "mimetype": "text/x-python",
   "name": "python",
   "nbconvert_exporter": "python",
   "pygments_lexer": "ipython3",
   "version": "3.6.7"
  }
 },
 "nbformat": 4,
 "nbformat_minor": 4
}
