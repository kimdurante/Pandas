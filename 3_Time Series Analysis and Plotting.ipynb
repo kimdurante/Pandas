{
 "cells": [
  {
   "cell_type": "markdown",
   "metadata": {},
   "source": [
    "## Time Series Data Analysis and Plotting\n",
    "\n",
    "Time series analysis - investigating climate data using Python and Pandas. Time series data are repeated measurements of the same phenomenon, taken sequentially over time.\n",
    "\n",
    "`import pandas as pd`\n",
    "\n",
    "`from matplotlib import pyplot as plt`\n",
    "\n",
    "`from zipfile import ZipFile`\n",
    "\n",
    "`%matplotlib inline`"
   ]
  },
  {
   "cell_type": "code",
   "execution_count": 1,
   "metadata": {},
   "outputs": [],
   "source": [
    "import pandas as pd\n",
    "from matplotlib import pyplot as plt\n",
    "from zipfile import ZipFile\n",
    "%matplotlib inline"
   ]
  },
  {
   "cell_type": "markdown",
   "metadata": {},
   "source": [
    "## Getting the Data\n",
    "\n",
    "Download the following 2 datasets:\n",
    "\n",
    "1. Estimate of global surface temperature change (NASA)\n",
    "\n",
    "These data represent temperature anomalies (differences from the mean/expected value) per month and per season (DJF=Dec-Feb, MAM=Mar-May, etc).\n",
    "\n",
    "`! curl -o ./data/GISTEMP.csv https://data.giss.nasa.gov/gistemp/tabledata_v3/GLB.Ts+dSST.csv`"
   ]
  },
  {
   "cell_type": "code",
   "execution_count": 4,
   "metadata": {},
   "outputs": [
    {
     "name": "stdout",
     "output_type": "stream",
     "text": [
      "  % Total    % Received % Xferd  Average Speed   Time    Time     Time  Current\n",
      "                                 Dload  Upload   Total   Spent    Left  Speed\n",
      "100 12274  100 12274    0     0  11111      0  0:00:01  0:00:01 --:--:-- 11117\n"
     ]
    }
   ],
   "source": [
    "! curl -o ./data/GISTEMP.csv https://data.giss.nasa.gov/gistemp/tabledata_v3/GLB.Ts+dSST.csv"
   ]
  },
  {
   "cell_type": "markdown",
   "metadata": {},
   "source": [
    "2. Estimate of CO2 emissions, in metric tons per capita (World Bank)\n",
    "\n",
    "These data give us the average CO₂ emission (in metric tons) per person. The dataset is divided up by countries and other categories such as ‘World’ or ‘Upper middle income.’\n",
    "\n",
    "Download and unzip the files.\n",
    "\n",
    "`! curl -o ./data/CO2.zip http://api.worldbank.org/v2/en/indicator/EN.ATM.CO2E.PC?downloadformat=csv`\n",
    "\n",
    "`with ZipFile(\"./data/CO2.zip\", \"r\") as zip:\n",
    "    zip.extractall(\"./data/\")`"
   ]
  },
  {
   "cell_type": "code",
   "execution_count": 24,
   "metadata": {},
   "outputs": [],
   "source": [
    "! curl -o ./data/CO2.zip http://api.worldbank.org/v2/en/indicator/EN.ATM.CO2E.PC?downloadformat=csv\n",
    "\n",
    "    "
   ]
  },
  {
   "cell_type": "markdown",
   "metadata": {},
   "source": [
    "## Create DataFrames\n",
    "\n",
    "Read in the raw temperature and CO₂ emissions datasets. Use `skiprows` to structure the data in the DataFrame.\n",
    "\n",
    "`raw_t = pd.read_csv(\"./data/GISTEMP.csv\", skiprows=1)`\n",
    "\n",
    "`raw_e = pd.read_csv(\"./data/API_EN.ATM.CO2E.PC_DS2_en_csv_v2_713061.csv\", skiprows=3)`"
   ]
  },
  {
   "cell_type": "code",
   "execution_count": null,
   "metadata": {},
   "outputs": [],
   "source": []
  },
  {
   "cell_type": "code",
   "execution_count": null,
   "metadata": {},
   "outputs": [],
   "source": []
  },
  {
   "cell_type": "markdown",
   "metadata": {},
   "source": [
    "## Data Wrangling\n",
    "\n",
    "Transforming data from one format to another to make them usable\n",
    "\n",
    "### Wrangling Temperature Data\n",
    "\n",
    "* Create a DateTime index\n",
    "\n",
    "* Handling missing values\n",
    "\n",
    "* Resampling to a different frequency\n",
    "\n",
    "\n",
    "### Creating a DateTime index\n",
    "\n",
    "For the temperature data, create an empty dataframe with a DateTime index of monthly frequency - then use the raw data to populate the new dataframe.\n",
    "\n",
    "Use the `date_range` function to create a date range index. The index will range from January 1880 to June 2019.\n",
    "\n",
    "`date_rng = pd.date_range(start=\"1/1/1880\", end=\"6/1/2019\", freq=\"M\")`\n",
    "\n",
    "Create an empty dataframe with one column named `date` containing the values from the date index\n",
    "\n",
    "`t = pd.DataFrame(date_rng, columns=[\"date\"])`\n",
    "\n",
    "Create a column for the anomoly values\n",
    "\n",
    "`t[\"Avg_Anomaly_deg_C\"] = None`\n",
    "\n",
    "Set the index to the date column (DateTime index)\n",
    "\n",
    "`t.set_index(\"date\", inplace=True)`"
   ]
  },
  {
   "cell_type": "code",
   "execution_count": null,
   "metadata": {},
   "outputs": [],
   "source": []
  },
  {
   "cell_type": "markdown",
   "metadata": {},
   "source": [
    "Extract the raw temperature data from the year and month columns.\n",
    "\n",
    "`raw_t = raw_t.iloc[:,:13]` *Select all rows of columns 0 through 12*"
   ]
  },
  {
   "cell_type": "code",
   "execution_count": null,
   "metadata": {},
   "outputs": [],
   "source": []
  },
  {
   "cell_type": "markdown",
   "metadata": {},
   "source": [
    "### Apply \n",
    "\n",
    "Use the `apply` function to step through the rows of the raw data (`axis=1` for rows, `axis=0` for columns) and apply them to the new dataframe.\n",
    "\n",
    "Import the following libraries\n",
    "\n",
    "`from datetime import datetime` *useful for parsing dates and times*\n",
    "\n",
    "`import calendar` *used to get the last day of each month*"
   ]
  },
  {
   "cell_type": "code",
   "execution_count": 8,
   "metadata": {},
   "outputs": [],
   "source": [
    "from datetime import datetime\n",
    "import calendar"
   ]
  },
  {
   "cell_type": "markdown",
   "metadata": {},
   "source": [
    "Define a function to populate the dataframe with row values from the raw temperature data:\n",
    "\n",
    "`def populate_anom():`\n",
    "\n",
    "&nbsp;&nbsp;&nbsp;&nbsp;`year = row[\"Year\"]`\n",
    "\n",
    "&nbsp;&nbsp;&nbsp;&nbsp;`monthly_anomolies = row.iloc[1:]`\n",
    "\n",
    "&nbsp;&nbsp;&nbsp;&nbsp;`months = monthly_anomolies.index`\n",
    "\n",
    "&nbsp;&nbsp;&nbsp;&nbsp;`for month in monthly_anomolies.index:`\n",
    "\n",
    "&nbsp;&nbsp;&nbsp;&nbsp;&nbsp;&nbsp;&nbsp;&nbsp;`last_day = calendar.monthrange(year,datetime.strptime(month, '%b').month)[1]`\n",
    "\n",
    "&nbsp;&nbsp;&nbsp;&nbsp;&nbsp;&nbsp;&nbsp;&nbsp;`date_index = datetime.strptime(f'{year} {month} {last_day}', '%Y %b %d')`\n",
    "\n",
    "&nbsp;&nbsp;&nbsp;&nbsp;&nbsp;&nbsp;&nbsp;&nbsp;`t.loc[date_index] = monthly_anomolies[month]`\n",
    "\n",
    "`strptime` creates a  date time object from a string\n",
    "\n",
    "`strftime` creates a string from a date time object\n",
    "\n",
    "For more on strptime and strftime see https://docs.python.org/3/library/datetime.html#strftime-strptime-behavior"
   ]
  },
  {
   "cell_type": "code",
   "execution_count": null,
   "metadata": {},
   "outputs": [],
   "source": []
  },
  {
   "cell_type": "markdown",
   "metadata": {},
   "source": [
    "\n",
    "        \n",
    "### Lambda\n",
    " \n",
    " A lambda function is a small anonymous function that can take any number of arguments, but can only have one expression.\n",
    " \n",
    "Example:\n",
    " \n",
    "`x = lambda a : a + 10`\n",
    "\n",
    "`(x(5))`"
   ]
  },
  {
   "cell_type": "code",
   "execution_count": null,
   "metadata": {},
   "outputs": [],
   "source": []
  },
  {
   "cell_type": "markdown",
   "metadata": {},
   "source": [
    "Using lambda, apply the `populate_df()` function to each row of raw data (axis=1)\n",
    "\n",
    "`_ = raw_t.apply(lambda row: populate_anom(row), axis=1)`"
   ]
  },
  {
   "cell_type": "code",
   "execution_count": 25,
   "metadata": {},
   "outputs": [],
   "source": [
    "def populate_anom(row):\n",
    "    year = row[\"Year\"]\n",
    "    monthly_anomolies = row.iloc[1:]\n",
    "    months = monthly_anomolies.index\n",
    "    for month in monthly_anomolies.index:\n",
    "        last_day = calendar.monthrange(year,datetime.strptime(month, \"%b\").month)[1]\n",
    "        date_index = datetime.strptime(f\"{year} {month} {last_day}\", \"%Y %b %d\")\n",
    "        t.loc[date_index] = monthly_anomolies[month]\n"
   ]
  },
  {
   "cell_type": "code",
   "execution_count": null,
   "metadata": {},
   "outputs": [],
   "source": []
  },
  {
   "cell_type": "markdown",
   "metadata": {},
   "source": [
    "## Formatting Values\n",
    "\n",
    "Handling missing values and converting data types\n",
    "\n",
    "Using the `fillna` function to populate `Nan` values\n",
    "\n",
    "Define a function to convert values to floats, and return a 'NaN = Not a Number' if not possible\n",
    "\n",
    "`import numpy as np`\n",
    "\n",
    "`def clean_anomaly_value(raw_value):`\n",
    "\n",
    "&nbsp;&nbsp;&nbsp;&nbsp;`try:`\n",
    "\n",
    "&nbsp;&nbsp;&nbsp;&nbsp;&nbsp;&nbsp;&nbsp;&nbsp;`return float(raw_value)`\n",
    "\n",
    "&nbsp;&nbsp;&nbsp;&nbsp;`except:`\n",
    "\n",
    "&nbsp;&nbsp;&nbsp;&nbsp;&nbsp;&nbsp;&nbsp;&nbsp;`return np.NaN`\n",
    "\n",
    "`apply` the function to each raw_value in the `\"Avg_Anomaly_deg_C\"` column\n",
    "\n",
    "`t[\"Avg_Anomaly_deg_C\"] = t[\"Avg_Anomaly_deg_C\"].apply(lambda raw_value: clean_anomaly_value(raw_value))`\n",
    "\n",
    "Fill NaN values using `method=\"ffill\"`\n",
    "\n",
    "`t.fillna(method=\"ffill\", inplace=True)`"
   ]
  },
  {
   "cell_type": "code",
   "execution_count": null,
   "metadata": {},
   "outputs": [],
   "source": []
  },
  {
   "cell_type": "markdown",
   "metadata": {},
   "source": [
    "### Create a Simple Plot\n",
    "\n",
    "`plt.figure(figsize=(10,8))`\n",
    "\n",
    "`plt.xlabel('Time')`\n",
    "\n",
    "`plt.ylabel('Temperature Anomaly (°Celsius)')`\n",
    "\n",
    "`plt.plot(t, color='#1C7C54', linewidth=1.0)`"
   ]
  },
  {
   "cell_type": "code",
   "execution_count": null,
   "metadata": {},
   "outputs": [],
   "source": []
  },
  {
   "cell_type": "markdown",
   "metadata": {},
   "source": [
    "### Resampling Data\n",
    "\n",
    "Sometimes data are too granular to visualize nicely. The `resample` function can change the frequency from months to years.\n",
    "\n",
    "Downsample the temperature data into years, the string ‘A’ represents ‘calendar year-end’. \n",
    "\n",
    "`t.resample('A').mean().head()`"
   ]
  },
  {
   "cell_type": "code",
   "execution_count": null,
   "metadata": {},
   "outputs": [],
   "source": []
  },
  {
   "cell_type": "markdown",
   "metadata": {},
   "source": [
    "#### Plot the Resampled Data\n",
    "\n",
    "`plt.figure(figsize=(10,8))`\n",
    "\n",
    "`plt.xlabel(\"Time\")`\n",
    "\n",
    "`plt.ylabel(\"Temperature Anomaly (°Celsius)\")`\n",
    "\n",
    "`plt.plot(t.resample(\"A\").mean(), color=\"#1C7C54\", linewidth=1.0)`\n"
   ]
  },
  {
   "cell_type": "code",
   "execution_count": null,
   "metadata": {},
   "outputs": [],
   "source": []
  },
  {
   "cell_type": "markdown",
   "metadata": {},
   "source": [
    "### Wrangling CO2 Data\n",
    "\n",
    "* Slicing and Searching\n",
    "\n",
    "* Useful functions\n",
    "\n",
    "Select only the row representing the CO₂ emissions for the entire world. Create a new dataframe that uses a DateTime index — and then use the raw data to populate it."
   ]
  },
  {
   "cell_type": "code",
   "execution_count": 29,
   "metadata": {},
   "outputs": [],
   "source": [
    "raw_e"
   ]
  },
  {
   "cell_type": "markdown",
   "metadata": {},
   "source": [
    "Create a function to wrangle the raw CO2 data into a new dataframe"
   ]
  },
  {
   "cell_type": "code",
   "execution_count": 19,
   "metadata": {},
   "outputs": [
    {
     "data": {
      "text/html": [
       "<div>\n",
       "<style scoped>\n",
       "    .dataframe tbody tr th:only-of-type {\n",
       "        vertical-align: middle;\n",
       "    }\n",
       "\n",
       "    .dataframe tbody tr th {\n",
       "        vertical-align: top;\n",
       "    }\n",
       "\n",
       "    .dataframe thead th {\n",
       "        text-align: right;\n",
       "    }\n",
       "</style>\n",
       "<table border=\"1\" class=\"dataframe\">\n",
       "  <thead>\n",
       "    <tr style=\"text-align: right;\">\n",
       "      <th></th>\n",
       "      <th>Global CO2 Emissions per Capita</th>\n",
       "    </tr>\n",
       "    <tr>\n",
       "      <th>date</th>\n",
       "      <th></th>\n",
       "    </tr>\n",
       "  </thead>\n",
       "  <tbody>\n",
       "    <tr>\n",
       "      <th>1960-12-31</th>\n",
       "      <td>3.099157</td>\n",
       "    </tr>\n",
       "    <tr>\n",
       "      <th>1961-12-31</th>\n",
       "      <td>3.070018</td>\n",
       "    </tr>\n",
       "    <tr>\n",
       "      <th>1962-12-31</th>\n",
       "      <td>3.140957</td>\n",
       "    </tr>\n",
       "    <tr>\n",
       "      <th>1963-12-31</th>\n",
       "      <td>3.245109</td>\n",
       "    </tr>\n",
       "    <tr>\n",
       "      <th>1964-12-31</th>\n",
       "      <td>3.361380</td>\n",
       "    </tr>\n",
       "  </tbody>\n",
       "</table>\n",
       "</div>"
      ],
      "text/plain": [
       "            Global CO2 Emissions per Capita\n",
       "date                                       \n",
       "1960-12-31                         3.099157\n",
       "1961-12-31                         3.070018\n",
       "1962-12-31                         3.140957\n",
       "1963-12-31                         3.245109\n",
       "1964-12-31                         3.361380"
      ]
     },
     "execution_count": 19,
     "metadata": {},
     "output_type": "execute_result"
    }
   ],
   "source": [
    "# Define function to pull value from raw data, using DateIndex from new DataFrame row\n",
    "def populate_df(row):\n",
    "    index = str(row['date'].year)\n",
    "    value = raw_e_world.loc[index]\n",
    "    return value\n",
    "  \n",
    "# Select just the row with co2 emissions for the 'world', and the columns for the years 1960-2018 \n",
    "raw_e_world = raw_e[raw_e['Country Name']=='World'].loc[:,'1960':'2018']\n",
    "#print (raw_e_world)\n",
    "\n",
    "# 'Traspose' the resulting slice, making the columns become rows and vice versa\n",
    "raw_e_world = raw_e_world.T\n",
    "#print (raw_e_world)\n",
    "raw_e_world.columns = ['value']\n",
    "\n",
    "# Create a new DataFrame with a daterange the same the range for.\n",
    "# the Temperature data (after resampling to years)\n",
    "date_rng = pd.date_range(start='31/12/1960', end='31/12/2018', freq='y')\n",
    "e = pd.DataFrame(date_rng, columns=['date'])\n",
    "\n",
    "# Populate the new DataFrame using the values from the raw data slice\n",
    "v = e.apply(lambda row: populate_df(row), axis=1)\n",
    "e['Global CO2 Emissions per Capita'] = v\n",
    "e.set_index('date', inplace=True)\n",
    "e.head()\n"
   ]
  },
  {
   "cell_type": "markdown",
   "metadata": {},
   "source": [
    "Select all data after the year 2011:\n",
    "\n",
    "`e[e.index.year>2011]`"
   ]
  },
  {
   "cell_type": "code",
   "execution_count": null,
   "metadata": {},
   "outputs": [],
   "source": []
  },
  {
   "cell_type": "markdown",
   "metadata": {},
   "source": [
    "Fill NaN vales using forward fill\n",
    "\n",
    "`e.fillna(method='ffill', inplace=True)`\n",
    "\n",
    "`e[e.index.year>2011]`"
   ]
  },
  {
   "cell_type": "code",
   "execution_count": null,
   "metadata": {},
   "outputs": [],
   "source": []
  },
  {
   "cell_type": "markdown",
   "metadata": {},
   "source": [
    "Use the DateTime index to search on a range\n",
    "\n",
    "`e['1984-01-04':'1990-01-06']`"
   ]
  },
  {
   "cell_type": "code",
   "execution_count": null,
   "metadata": {},
   "outputs": [],
   "source": []
  },
  {
   "cell_type": "markdown",
   "metadata": {},
   "source": [
    "#### Plotting the Temperature Data"
   ]
  },
  {
   "cell_type": "code",
   "execution_count": null,
   "metadata": {},
   "outputs": [],
   "source": [
    "import matplotlib.pyplot as plt\n",
    "%matplotlib inline\n",
    "\n",
    "t_resampled = t.resample('A').mean()\n",
    "\n",
    "fig, ax = plt.subplots(figsize=(10,8))\n",
    "ax.plot(t_resampled, color='#1C7C54', linewidth=2.5)\n",
    "ax.set(xlabel=\"Time (years)\", ylabel=\"Temperature Anomaly (deg. Celsius)\", title=\"Global Temperature Anomalies\")\n",
    "ax.grid()"
   ]
  },
  {
   "cell_type": "markdown",
   "metadata": {},
   "source": [
    "#### Plot the CO2 Data\n",
    "\n",
    "Create figures and axes\n",
    "\n",
    "`fig, ax = plt.subplots(figsize=(10,8))`\n",
    "\n",
    "Plot co2 emissions data with specific colour and line thickness\n",
    "\n",
    "`ax.plot(e, color='#3393FF', linewidth=2.5)`\n",
    "\n",
    "Set axis labels and graph title\n",
    "\n",
    "`ax.set(xlabel=\"Time (years)\", ylabel=\"Emissions (Metric Tons per Capita)\", title=\"Global CO2 Emission over Time\")`\n",
    "\n",
    "Enable grid\n",
    "\n",
    "`ax.grid()`"
   ]
  },
  {
   "cell_type": "code",
   "execution_count": null,
   "metadata": {},
   "outputs": [],
   "source": []
  },
  {
   "cell_type": "markdown",
   "metadata": {},
   "source": [
    "#### Creating Interactive Plots"
   ]
  },
  {
   "cell_type": "code",
   "execution_count": 443,
   "metadata": {},
   "outputs": [
    {
     "data": {
      "text/html": [
       "        <script type=\"text/javascript\">\n",
       "        window.PlotlyConfig = {MathJaxConfig: 'local'};\n",
       "        if (window.MathJax) {MathJax.Hub.Config({SVG: {font: \"STIX-Web\"}});}\n",
       "        if (typeof require !== 'undefined') {\n",
       "        require.undef(\"plotly\");\n",
       "        requirejs.config({\n",
       "            paths: {\n",
       "                'plotly': ['https://cdn.plot.ly/plotly-latest.min']\n",
       "            }\n",
       "        });\n",
       "        require(['plotly'], function(Plotly) {\n",
       "            window._Plotly = Plotly;\n",
       "        });\n",
       "        }\n",
       "        </script>\n",
       "        "
      ]
     },
     "metadata": {},
     "output_type": "display_data"
    },
    {
     "data": {
      "text/html": [
       "        <script type=\"text/javascript\">\n",
       "        window.PlotlyConfig = {MathJaxConfig: 'local'};\n",
       "        if (window.MathJax) {MathJax.Hub.Config({SVG: {font: \"STIX-Web\"}});}\n",
       "        if (typeof require !== 'undefined') {\n",
       "        require.undef(\"plotly\");\n",
       "        requirejs.config({\n",
       "            paths: {\n",
       "                'plotly': ['https://cdn.plot.ly/plotly-latest.min']\n",
       "            }\n",
       "        });\n",
       "        require(['plotly'], function(Plotly) {\n",
       "            window._Plotly = Plotly;\n",
       "        });\n",
       "        }\n",
       "        </script>\n",
       "        "
      ]
     },
     "metadata": {},
     "output_type": "display_data"
    }
   ],
   "source": [
    "import chart_studio.plotly as py\n",
    "import plotly.graph_objs as go\n",
    "from plotly.offline import iplot, init_notebook_mode\n",
    "import cufflinks\n",
    "cufflinks.go_offline(connected=True)\n",
    "init_notebook_mode(connected=True)"
   ]
  },
  {
   "cell_type": "markdown",
   "metadata": {},
   "source": [
    "`t.resample('A').mean().iplot(kind='line', xTitle='Time (years)', color='#1C7C54',\n",
    "                  yTitle='Temperature Anomaly (deg. Celsius)', title='Global Temperature Anomalies')"
   ]
  },
  {
   "cell_type": "code",
   "execution_count": null,
   "metadata": {},
   "outputs": [],
   "source": []
  },
  {
   "cell_type": "markdown",
   "metadata": {},
   "source": [
    "`e.iplot(kind='line', xTitle='Time (years)', color='#3393FF', yTitle='Emissions (Metric Tons per Capita)', title='Global CO2 Emission over Time')`"
   ]
  },
  {
   "cell_type": "code",
   "execution_count": null,
   "metadata": {},
   "outputs": [],
   "source": []
  },
  {
   "cell_type": "code",
   "execution_count": null,
   "metadata": {},
   "outputs": [],
   "source": []
  }
 ],
 "metadata": {
  "kernelspec": {
   "display_name": "Python 3",
   "language": "python",
   "name": "python3"
  },
  "language_info": {
   "codemirror_mode": {
    "name": "ipython",
    "version": 3
   },
   "file_extension": ".py",
   "mimetype": "text/x-python",
   "name": "python",
   "nbconvert_exporter": "python",
   "pygments_lexer": "ipython3",
   "version": "3.6.7"
  }
 },
 "nbformat": 4,
 "nbformat_minor": 2
}
