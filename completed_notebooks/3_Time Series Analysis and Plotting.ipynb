{
 "cells": [
  {
   "cell_type": "markdown",
   "metadata": {},
   "source": [
    "## Time Series Data Analysis and Plotting\n",
    "\n",
    "Time series analysis - investigating climate data using Python and Pandas. Time series data are repeated measurements of the same phenomenon, taken sequentially over time.\n",
    "\n",
    "`import pandas as pd`\n",
    "\n",
    "`from matplotlib import pyplot as plt`\n",
    "\n",
    "`from zipfile import ZipFile`\n",
    "\n",
    "`%matplotlib inline`"
   ]
  },
  {
   "cell_type": "code",
   "execution_count": 9,
   "metadata": {},
   "outputs": [],
   "source": [
    "import pandas as pd\n",
    "from matplotlib import pyplot as plt\n",
    "from zipfile import ZipFile\n",
    "%matplotlib inline"
   ]
  },
  {
   "cell_type": "markdown",
   "metadata": {},
   "source": [
    "## Getting the Data\n",
    "\n",
    "Download the following 2 datasets:\n",
    "\n",
    "1. Estimate of global surface temperature change (NASA)\n",
    "\n",
    "These data represent temperature anomalies (differences from the mean/expected value) per month and per season (DJF=Dec-Feb, MAM=Mar-May, etc).\n",
    "\n",
    "`! curl -o ./data/GISTEMP.csv https://data.giss.nasa.gov/gistemp/tabledata_v3/GLB.Ts+dSST.csv`"
   ]
  },
  {
   "cell_type": "code",
   "execution_count": 10,
   "metadata": {},
   "outputs": [
    {
     "name": "stdout",
     "output_type": "stream",
     "text": [
      "  % Total    % Received % Xferd  Average Speed   Time    Time     Time  Current\n",
      "                                 Dload  Upload   Total   Spent    Left  Speed\n",
      "100 12274  100 12274    0     0  26108      0 --:--:-- --:--:-- --:--:-- 26059\n"
     ]
    }
   ],
   "source": [
    "! curl -o ./data/GISTEMP.csv https://data.giss.nasa.gov/gistemp/tabledata_v3/GLB.Ts+dSST.csv"
   ]
  },
  {
   "cell_type": "markdown",
   "metadata": {},
   "source": [
    "2. Estimate of CO2 emissions, in metric tons per capita (World Bank)\n",
    "\n",
    "These data give us the average CO₂ emission (in metric tons) per person. The dataset is divided up by countries and other categories such as ‘World’ or ‘Upper middle income.’\n",
    "\n",
    "Download and unzip the files.\n",
    "\n",
    "`! curl -o ./data/CO2.zip http://api.worldbank.org/v2/en/indicator/EN.ATM.CO2E.PC?downloadformat=csv`\n",
    "\n",
    "`with ZipFile(\"./data/CO2.zip\", \"r\") as zip:\n",
    "    zip.extractall(\"./data/\")`"
   ]
  },
  {
   "cell_type": "code",
   "execution_count": 11,
   "metadata": {},
   "outputs": [
    {
     "name": "stdout",
     "output_type": "stream",
     "text": [
      "  % Total    % Received % Xferd  Average Speed   Time    Time     Time  Current\n",
      "                                 Dload  Upload   Total   Spent    Left  Speed\n",
      "100  117k  100  117k    0     0   177k      0 --:--:-- --:--:-- --:--:--  177k\n"
     ]
    }
   ],
   "source": [
    "! curl -o ./data/CO2.zip http://api.worldbank.org/v2/en/indicator/EN.ATM.CO2E.PC?downloadformat=csv\n",
    "    \n",
    "with ZipFile(\"../data/CO2.zip\", \"r\") as zip:\n",
    "   zip.extractall(\"../data/\")"
   ]
  },
  {
   "cell_type": "markdown",
   "metadata": {},
   "source": [
    "## Create DataFrames\n",
    "\n",
    "Read in the raw temperature and CO₂ emissions datasets. Use `skiprows` to structure the data in the DataFrame.\n",
    "\n",
    "`raw_t = pd.read_csv(\"./data/GISTEMP.csv\", skiprows=1)`\n",
    "\n",
    "`raw_e = pd.read_csv(\"./data/API_EN.ATM.CO2E.PC_DS2_en_csv_v2_713061.csv\", skiprows=3)`"
   ]
  },
  {
   "cell_type": "code",
   "execution_count": 12,
   "metadata": {},
   "outputs": [
    {
     "data": {
      "text/html": [
       "<div>\n",
       "<style scoped>\n",
       "    .dataframe tbody tr th:only-of-type {\n",
       "        vertical-align: middle;\n",
       "    }\n",
       "\n",
       "    .dataframe tbody tr th {\n",
       "        vertical-align: top;\n",
       "    }\n",
       "\n",
       "    .dataframe thead th {\n",
       "        text-align: right;\n",
       "    }\n",
       "</style>\n",
       "<table border=\"1\" class=\"dataframe\">\n",
       "  <thead>\n",
       "    <tr style=\"text-align: right;\">\n",
       "      <th></th>\n",
       "      <th>Year</th>\n",
       "      <th>Jan</th>\n",
       "      <th>Feb</th>\n",
       "      <th>Mar</th>\n",
       "      <th>Apr</th>\n",
       "      <th>May</th>\n",
       "      <th>Jun</th>\n",
       "      <th>Jul</th>\n",
       "      <th>Aug</th>\n",
       "      <th>Sep</th>\n",
       "      <th>Oct</th>\n",
       "      <th>Nov</th>\n",
       "      <th>Dec</th>\n",
       "      <th>J-D</th>\n",
       "      <th>D-N</th>\n",
       "      <th>DJF</th>\n",
       "      <th>MAM</th>\n",
       "      <th>JJA</th>\n",
       "      <th>SON</th>\n",
       "    </tr>\n",
       "  </thead>\n",
       "  <tbody>\n",
       "    <tr>\n",
       "      <th>0</th>\n",
       "      <td>1880</td>\n",
       "      <td>-0.29</td>\n",
       "      <td>-0.18</td>\n",
       "      <td>-0.11</td>\n",
       "      <td>-0.20</td>\n",
       "      <td>-0.12</td>\n",
       "      <td>-0.23</td>\n",
       "      <td>-0.21</td>\n",
       "      <td>-.09</td>\n",
       "      <td>-.16</td>\n",
       "      <td>-.23</td>\n",
       "      <td>-.20</td>\n",
       "      <td>-.23</td>\n",
       "      <td>-.19</td>\n",
       "      <td>***</td>\n",
       "      <td>***</td>\n",
       "      <td>-0.14</td>\n",
       "      <td>-.18</td>\n",
       "      <td>-.20</td>\n",
       "    </tr>\n",
       "    <tr>\n",
       "      <th>1</th>\n",
       "      <td>1881</td>\n",
       "      <td>-0.16</td>\n",
       "      <td>-0.17</td>\n",
       "      <td>0.04</td>\n",
       "      <td>0.04</td>\n",
       "      <td>0.02</td>\n",
       "      <td>-0.20</td>\n",
       "      <td>-0.07</td>\n",
       "      <td>-.03</td>\n",
       "      <td>-.14</td>\n",
       "      <td>-.21</td>\n",
       "      <td>-.22</td>\n",
       "      <td>-.11</td>\n",
       "      <td>-.10</td>\n",
       "      <td>-.11</td>\n",
       "      <td>-.18</td>\n",
       "      <td>0.03</td>\n",
       "      <td>-.10</td>\n",
       "      <td>-.19</td>\n",
       "    </tr>\n",
       "    <tr>\n",
       "      <th>2</th>\n",
       "      <td>1882</td>\n",
       "      <td>0.14</td>\n",
       "      <td>0.15</td>\n",
       "      <td>0.03</td>\n",
       "      <td>-0.19</td>\n",
       "      <td>-0.16</td>\n",
       "      <td>-0.26</td>\n",
       "      <td>-0.21</td>\n",
       "      <td>-.06</td>\n",
       "      <td>-.10</td>\n",
       "      <td>-.25</td>\n",
       "      <td>-.16</td>\n",
       "      <td>-.25</td>\n",
       "      <td>-.11</td>\n",
       "      <td>-.10</td>\n",
       "      <td>.06</td>\n",
       "      <td>-0.10</td>\n",
       "      <td>-.17</td>\n",
       "      <td>-.17</td>\n",
       "    </tr>\n",
       "    <tr>\n",
       "      <th>3</th>\n",
       "      <td>1883</td>\n",
       "      <td>-0.32</td>\n",
       "      <td>-0.39</td>\n",
       "      <td>-0.13</td>\n",
       "      <td>-0.17</td>\n",
       "      <td>-0.20</td>\n",
       "      <td>-0.13</td>\n",
       "      <td>-0.08</td>\n",
       "      <td>-.15</td>\n",
       "      <td>-.21</td>\n",
       "      <td>-.14</td>\n",
       "      <td>-.22</td>\n",
       "      <td>-.16</td>\n",
       "      <td>-.19</td>\n",
       "      <td>-.20</td>\n",
       "      <td>-.32</td>\n",
       "      <td>-0.17</td>\n",
       "      <td>-.12</td>\n",
       "      <td>-.19</td>\n",
       "    </tr>\n",
       "    <tr>\n",
       "      <th>4</th>\n",
       "      <td>1884</td>\n",
       "      <td>-0.16</td>\n",
       "      <td>-0.08</td>\n",
       "      <td>-0.37</td>\n",
       "      <td>-0.43</td>\n",
       "      <td>-0.37</td>\n",
       "      <td>-0.41</td>\n",
       "      <td>-0.35</td>\n",
       "      <td>-.26</td>\n",
       "      <td>-.27</td>\n",
       "      <td>-.24</td>\n",
       "      <td>-.30</td>\n",
       "      <td>-.29</td>\n",
       "      <td>-.29</td>\n",
       "      <td>-.28</td>\n",
       "      <td>-.13</td>\n",
       "      <td>-0.39</td>\n",
       "      <td>-.34</td>\n",
       "      <td>-.27</td>\n",
       "    </tr>\n",
       "  </tbody>\n",
       "</table>\n",
       "</div>"
      ],
      "text/plain": [
       "   Year   Jan   Feb   Mar   Apr   May   Jun   Jul   Aug   Sep   Oct   Nov  \\\n",
       "0  1880 -0.29 -0.18 -0.11 -0.20 -0.12 -0.23 -0.21  -.09  -.16  -.23  -.20   \n",
       "1  1881 -0.16 -0.17  0.04  0.04  0.02 -0.20 -0.07  -.03  -.14  -.21  -.22   \n",
       "2  1882  0.14  0.15  0.03 -0.19 -0.16 -0.26 -0.21  -.06  -.10  -.25  -.16   \n",
       "3  1883 -0.32 -0.39 -0.13 -0.17 -0.20 -0.13 -0.08  -.15  -.21  -.14  -.22   \n",
       "4  1884 -0.16 -0.08 -0.37 -0.43 -0.37 -0.41 -0.35  -.26  -.27  -.24  -.30   \n",
       "\n",
       "    Dec   J-D   D-N   DJF   MAM   JJA   SON  \n",
       "0  -.23  -.19   ***   *** -0.14  -.18  -.20  \n",
       "1  -.11  -.10  -.11  -.18  0.03  -.10  -.19  \n",
       "2  -.25  -.11  -.10   .06 -0.10  -.17  -.17  \n",
       "3  -.16  -.19  -.20  -.32 -0.17  -.12  -.19  \n",
       "4  -.29  -.29  -.28  -.13 -0.39  -.34  -.27  "
      ]
     },
     "execution_count": 12,
     "metadata": {},
     "output_type": "execute_result"
    }
   ],
   "source": [
    "raw_t = pd.read_csv(\"../data/GISTEMP.csv\", skiprows=1)\n",
    "raw_t.head()"
   ]
  },
  {
   "cell_type": "code",
   "execution_count": 13,
   "metadata": {},
   "outputs": [
    {
     "data": {
      "text/html": [
       "<div>\n",
       "<style scoped>\n",
       "    .dataframe tbody tr th:only-of-type {\n",
       "        vertical-align: middle;\n",
       "    }\n",
       "\n",
       "    .dataframe tbody tr th {\n",
       "        vertical-align: top;\n",
       "    }\n",
       "\n",
       "    .dataframe thead th {\n",
       "        text-align: right;\n",
       "    }\n",
       "</style>\n",
       "<table border=\"1\" class=\"dataframe\">\n",
       "  <thead>\n",
       "    <tr style=\"text-align: right;\">\n",
       "      <th></th>\n",
       "      <th>Country Name</th>\n",
       "      <th>Country Code</th>\n",
       "      <th>Indicator Name</th>\n",
       "      <th>Indicator Code</th>\n",
       "      <th>1960</th>\n",
       "      <th>1961</th>\n",
       "      <th>1962</th>\n",
       "      <th>1963</th>\n",
       "      <th>1964</th>\n",
       "      <th>1965</th>\n",
       "      <th>...</th>\n",
       "      <th>2011</th>\n",
       "      <th>2012</th>\n",
       "      <th>2013</th>\n",
       "      <th>2014</th>\n",
       "      <th>2015</th>\n",
       "      <th>2016</th>\n",
       "      <th>2017</th>\n",
       "      <th>2018</th>\n",
       "      <th>2019</th>\n",
       "      <th>Unnamed: 64</th>\n",
       "    </tr>\n",
       "  </thead>\n",
       "  <tbody>\n",
       "    <tr>\n",
       "      <th>0</th>\n",
       "      <td>Aruba</td>\n",
       "      <td>ABW</td>\n",
       "      <td>CO2 emissions (metric tons per capita)</td>\n",
       "      <td>EN.ATM.CO2E.PC</td>\n",
       "      <td>NaN</td>\n",
       "      <td>NaN</td>\n",
       "      <td>NaN</td>\n",
       "      <td>NaN</td>\n",
       "      <td>NaN</td>\n",
       "      <td>NaN</td>\n",
       "      <td>...</td>\n",
       "      <td>24.507516</td>\n",
       "      <td>13.157722</td>\n",
       "      <td>8.353561</td>\n",
       "      <td>8.410064</td>\n",
       "      <td>NaN</td>\n",
       "      <td>NaN</td>\n",
       "      <td>NaN</td>\n",
       "      <td>NaN</td>\n",
       "      <td>NaN</td>\n",
       "      <td>NaN</td>\n",
       "    </tr>\n",
       "    <tr>\n",
       "      <th>1</th>\n",
       "      <td>Afghanistan</td>\n",
       "      <td>AFG</td>\n",
       "      <td>CO2 emissions (metric tons per capita)</td>\n",
       "      <td>EN.ATM.CO2E.PC</td>\n",
       "      <td>0.046057</td>\n",
       "      <td>0.053589</td>\n",
       "      <td>0.073721</td>\n",
       "      <td>0.074161</td>\n",
       "      <td>0.086174</td>\n",
       "      <td>0.101285</td>\n",
       "      <td>...</td>\n",
       "      <td>0.406424</td>\n",
       "      <td>0.345149</td>\n",
       "      <td>0.310341</td>\n",
       "      <td>0.293946</td>\n",
       "      <td>NaN</td>\n",
       "      <td>NaN</td>\n",
       "      <td>NaN</td>\n",
       "      <td>NaN</td>\n",
       "      <td>NaN</td>\n",
       "      <td>NaN</td>\n",
       "    </tr>\n",
       "    <tr>\n",
       "      <th>2</th>\n",
       "      <td>Angola</td>\n",
       "      <td>AGO</td>\n",
       "      <td>CO2 emissions (metric tons per capita)</td>\n",
       "      <td>EN.ATM.CO2E.PC</td>\n",
       "      <td>0.100835</td>\n",
       "      <td>0.082204</td>\n",
       "      <td>0.210531</td>\n",
       "      <td>0.202737</td>\n",
       "      <td>0.213560</td>\n",
       "      <td>0.205891</td>\n",
       "      <td>...</td>\n",
       "      <td>1.252681</td>\n",
       "      <td>1.330219</td>\n",
       "      <td>1.253776</td>\n",
       "      <td>1.290307</td>\n",
       "      <td>NaN</td>\n",
       "      <td>NaN</td>\n",
       "      <td>NaN</td>\n",
       "      <td>NaN</td>\n",
       "      <td>NaN</td>\n",
       "      <td>NaN</td>\n",
       "    </tr>\n",
       "    <tr>\n",
       "      <th>3</th>\n",
       "      <td>Albania</td>\n",
       "      <td>ALB</td>\n",
       "      <td>CO2 emissions (metric tons per capita)</td>\n",
       "      <td>EN.ATM.CO2E.PC</td>\n",
       "      <td>1.258195</td>\n",
       "      <td>1.374186</td>\n",
       "      <td>1.439956</td>\n",
       "      <td>1.181681</td>\n",
       "      <td>1.111742</td>\n",
       "      <td>1.166099</td>\n",
       "      <td>...</td>\n",
       "      <td>1.803715</td>\n",
       "      <td>1.692908</td>\n",
       "      <td>1.749211</td>\n",
       "      <td>1.978763</td>\n",
       "      <td>NaN</td>\n",
       "      <td>NaN</td>\n",
       "      <td>NaN</td>\n",
       "      <td>NaN</td>\n",
       "      <td>NaN</td>\n",
       "      <td>NaN</td>\n",
       "    </tr>\n",
       "    <tr>\n",
       "      <th>4</th>\n",
       "      <td>Andorra</td>\n",
       "      <td>AND</td>\n",
       "      <td>CO2 emissions (metric tons per capita)</td>\n",
       "      <td>EN.ATM.CO2E.PC</td>\n",
       "      <td>NaN</td>\n",
       "      <td>NaN</td>\n",
       "      <td>NaN</td>\n",
       "      <td>NaN</td>\n",
       "      <td>NaN</td>\n",
       "      <td>NaN</td>\n",
       "      <td>...</td>\n",
       "      <td>5.867410</td>\n",
       "      <td>5.916884</td>\n",
       "      <td>5.901775</td>\n",
       "      <td>5.832906</td>\n",
       "      <td>NaN</td>\n",
       "      <td>NaN</td>\n",
       "      <td>NaN</td>\n",
       "      <td>NaN</td>\n",
       "      <td>NaN</td>\n",
       "      <td>NaN</td>\n",
       "    </tr>\n",
       "  </tbody>\n",
       "</table>\n",
       "<p>5 rows × 65 columns</p>\n",
       "</div>"
      ],
      "text/plain": [
       "  Country Name Country Code                          Indicator Name  \\\n",
       "0        Aruba          ABW  CO2 emissions (metric tons per capita)   \n",
       "1  Afghanistan          AFG  CO2 emissions (metric tons per capita)   \n",
       "2       Angola          AGO  CO2 emissions (metric tons per capita)   \n",
       "3      Albania          ALB  CO2 emissions (metric tons per capita)   \n",
       "4      Andorra          AND  CO2 emissions (metric tons per capita)   \n",
       "\n",
       "   Indicator Code      1960      1961      1962      1963      1964      1965  \\\n",
       "0  EN.ATM.CO2E.PC       NaN       NaN       NaN       NaN       NaN       NaN   \n",
       "1  EN.ATM.CO2E.PC  0.046057  0.053589  0.073721  0.074161  0.086174  0.101285   \n",
       "2  EN.ATM.CO2E.PC  0.100835  0.082204  0.210531  0.202737  0.213560  0.205891   \n",
       "3  EN.ATM.CO2E.PC  1.258195  1.374186  1.439956  1.181681  1.111742  1.166099   \n",
       "4  EN.ATM.CO2E.PC       NaN       NaN       NaN       NaN       NaN       NaN   \n",
       "\n",
       "   ...       2011       2012      2013      2014  2015  2016  2017  2018  \\\n",
       "0  ...  24.507516  13.157722  8.353561  8.410064   NaN   NaN   NaN   NaN   \n",
       "1  ...   0.406424   0.345149  0.310341  0.293946   NaN   NaN   NaN   NaN   \n",
       "2  ...   1.252681   1.330219  1.253776  1.290307   NaN   NaN   NaN   NaN   \n",
       "3  ...   1.803715   1.692908  1.749211  1.978763   NaN   NaN   NaN   NaN   \n",
       "4  ...   5.867410   5.916884  5.901775  5.832906   NaN   NaN   NaN   NaN   \n",
       "\n",
       "   2019  Unnamed: 64  \n",
       "0   NaN          NaN  \n",
       "1   NaN          NaN  \n",
       "2   NaN          NaN  \n",
       "3   NaN          NaN  \n",
       "4   NaN          NaN  \n",
       "\n",
       "[5 rows x 65 columns]"
      ]
     },
     "execution_count": 13,
     "metadata": {},
     "output_type": "execute_result"
    }
   ],
   "source": [
    "raw_e = pd.read_csv(\"../data/API_EN.ATM.CO2E.PC_DS2_en_csv_v2_713061.csv\", skiprows=3)\n",
    "raw_e.head()"
   ]
  },
  {
   "cell_type": "markdown",
   "metadata": {},
   "source": [
    "## Data Wrangling\n",
    "\n",
    "Transforming data from one format to another to make them usable\n",
    "\n",
    "### Wrangling Temperature Data\n",
    "\n",
    "* Create a DateTime index\n",
    "\n",
    "* Handling missing values\n",
    "\n",
    "* Resampling to a different frequency\n",
    "\n",
    "\n",
    "### Creating a DateTime index\n",
    "\n",
    "For the temperature data, create an empty dataframe with a DateTime index of monthly frequency - then use the raw data to populate the new dataframe.\n",
    "\n",
    "Use the `date_range` function to create a date range index. The index will range from January 1880 to June 2019.\n",
    "\n",
    "`date_rng = pd.date_range(start=\"1/1/1880\", end=\"6/1/2019\", freq=\"M\")`\n",
    "\n",
    "Create an empty dataframe with one column named `date` containing the values from the date index\n",
    "\n",
    "`t = pd.DataFrame(date_rng, columns=[\"date\"])`\n",
    "\n",
    "Create a column for the anomoly values\n",
    "\n",
    "`t[\"Avg_Anomaly_deg_C\"] = None`\n",
    "\n",
    "Set the index to the date column (DateTime index)\n",
    "\n",
    "`t.set_index(\"date\", inplace=True)`"
   ]
  },
  {
   "cell_type": "code",
   "execution_count": 14,
   "metadata": {},
   "outputs": [
    {
     "data": {
      "text/html": [
       "<div>\n",
       "<style scoped>\n",
       "    .dataframe tbody tr th:only-of-type {\n",
       "        vertical-align: middle;\n",
       "    }\n",
       "\n",
       "    .dataframe tbody tr th {\n",
       "        vertical-align: top;\n",
       "    }\n",
       "\n",
       "    .dataframe thead th {\n",
       "        text-align: right;\n",
       "    }\n",
       "</style>\n",
       "<table border=\"1\" class=\"dataframe\">\n",
       "  <thead>\n",
       "    <tr style=\"text-align: right;\">\n",
       "      <th></th>\n",
       "      <th>Avg_Anomaly_deg_C</th>\n",
       "    </tr>\n",
       "    <tr>\n",
       "      <th>date</th>\n",
       "      <th></th>\n",
       "    </tr>\n",
       "  </thead>\n",
       "  <tbody>\n",
       "    <tr>\n",
       "      <th>1880-01-31</th>\n",
       "      <td>None</td>\n",
       "    </tr>\n",
       "    <tr>\n",
       "      <th>1880-02-29</th>\n",
       "      <td>None</td>\n",
       "    </tr>\n",
       "    <tr>\n",
       "      <th>1880-03-31</th>\n",
       "      <td>None</td>\n",
       "    </tr>\n",
       "    <tr>\n",
       "      <th>1880-04-30</th>\n",
       "      <td>None</td>\n",
       "    </tr>\n",
       "    <tr>\n",
       "      <th>1880-05-31</th>\n",
       "      <td>None</td>\n",
       "    </tr>\n",
       "    <tr>\n",
       "      <th>...</th>\n",
       "      <td>...</td>\n",
       "    </tr>\n",
       "    <tr>\n",
       "      <th>2019-01-31</th>\n",
       "      <td>None</td>\n",
       "    </tr>\n",
       "    <tr>\n",
       "      <th>2019-02-28</th>\n",
       "      <td>None</td>\n",
       "    </tr>\n",
       "    <tr>\n",
       "      <th>2019-03-31</th>\n",
       "      <td>None</td>\n",
       "    </tr>\n",
       "    <tr>\n",
       "      <th>2019-04-30</th>\n",
       "      <td>None</td>\n",
       "    </tr>\n",
       "    <tr>\n",
       "      <th>2019-05-31</th>\n",
       "      <td>None</td>\n",
       "    </tr>\n",
       "  </tbody>\n",
       "</table>\n",
       "<p>1673 rows × 1 columns</p>\n",
       "</div>"
      ],
      "text/plain": [
       "           Avg_Anomaly_deg_C\n",
       "date                        \n",
       "1880-01-31              None\n",
       "1880-02-29              None\n",
       "1880-03-31              None\n",
       "1880-04-30              None\n",
       "1880-05-31              None\n",
       "...                      ...\n",
       "2019-01-31              None\n",
       "2019-02-28              None\n",
       "2019-03-31              None\n",
       "2019-04-30              None\n",
       "2019-05-31              None\n",
       "\n",
       "[1673 rows x 1 columns]"
      ]
     },
     "execution_count": 14,
     "metadata": {},
     "output_type": "execute_result"
    }
   ],
   "source": [
    "date_rng = pd.date_range(start=\"1/1/1880\", end=\"6/1/2019\", freq=\"M\")\n",
    "t = pd.DataFrame(date_rng, columns=[\"date\"])\n",
    "t[\"Avg_Anomaly_deg_C\"] = None\n",
    "t.set_index(\"date\", inplace=True)\n",
    "t"
   ]
  },
  {
   "cell_type": "markdown",
   "metadata": {},
   "source": [
    "Extract the raw temperature data from the year and month columns.\n",
    "\n",
    "`raw_t = raw_t.iloc[:,:13]` *Select all rows of columns 0 through 12*"
   ]
  },
  {
   "cell_type": "code",
   "execution_count": 15,
   "metadata": {},
   "outputs": [
    {
     "data": {
      "text/html": [
       "<div>\n",
       "<style scoped>\n",
       "    .dataframe tbody tr th:only-of-type {\n",
       "        vertical-align: middle;\n",
       "    }\n",
       "\n",
       "    .dataframe tbody tr th {\n",
       "        vertical-align: top;\n",
       "    }\n",
       "\n",
       "    .dataframe thead th {\n",
       "        text-align: right;\n",
       "    }\n",
       "</style>\n",
       "<table border=\"1\" class=\"dataframe\">\n",
       "  <thead>\n",
       "    <tr style=\"text-align: right;\">\n",
       "      <th></th>\n",
       "      <th>Year</th>\n",
       "      <th>Jan</th>\n",
       "      <th>Feb</th>\n",
       "      <th>Mar</th>\n",
       "      <th>Apr</th>\n",
       "      <th>May</th>\n",
       "      <th>Jun</th>\n",
       "      <th>Jul</th>\n",
       "      <th>Aug</th>\n",
       "      <th>Sep</th>\n",
       "      <th>Oct</th>\n",
       "      <th>Nov</th>\n",
       "      <th>Dec</th>\n",
       "    </tr>\n",
       "  </thead>\n",
       "  <tbody>\n",
       "    <tr>\n",
       "      <th>0</th>\n",
       "      <td>1880</td>\n",
       "      <td>-0.29</td>\n",
       "      <td>-0.18</td>\n",
       "      <td>-0.11</td>\n",
       "      <td>-0.20</td>\n",
       "      <td>-0.12</td>\n",
       "      <td>-0.23</td>\n",
       "      <td>-0.21</td>\n",
       "      <td>-.09</td>\n",
       "      <td>-.16</td>\n",
       "      <td>-.23</td>\n",
       "      <td>-.20</td>\n",
       "      <td>-.23</td>\n",
       "    </tr>\n",
       "    <tr>\n",
       "      <th>1</th>\n",
       "      <td>1881</td>\n",
       "      <td>-0.16</td>\n",
       "      <td>-0.17</td>\n",
       "      <td>0.04</td>\n",
       "      <td>0.04</td>\n",
       "      <td>0.02</td>\n",
       "      <td>-0.20</td>\n",
       "      <td>-0.07</td>\n",
       "      <td>-.03</td>\n",
       "      <td>-.14</td>\n",
       "      <td>-.21</td>\n",
       "      <td>-.22</td>\n",
       "      <td>-.11</td>\n",
       "    </tr>\n",
       "    <tr>\n",
       "      <th>2</th>\n",
       "      <td>1882</td>\n",
       "      <td>0.14</td>\n",
       "      <td>0.15</td>\n",
       "      <td>0.03</td>\n",
       "      <td>-0.19</td>\n",
       "      <td>-0.16</td>\n",
       "      <td>-0.26</td>\n",
       "      <td>-0.21</td>\n",
       "      <td>-.06</td>\n",
       "      <td>-.10</td>\n",
       "      <td>-.25</td>\n",
       "      <td>-.16</td>\n",
       "      <td>-.25</td>\n",
       "    </tr>\n",
       "    <tr>\n",
       "      <th>3</th>\n",
       "      <td>1883</td>\n",
       "      <td>-0.32</td>\n",
       "      <td>-0.39</td>\n",
       "      <td>-0.13</td>\n",
       "      <td>-0.17</td>\n",
       "      <td>-0.20</td>\n",
       "      <td>-0.13</td>\n",
       "      <td>-0.08</td>\n",
       "      <td>-.15</td>\n",
       "      <td>-.21</td>\n",
       "      <td>-.14</td>\n",
       "      <td>-.22</td>\n",
       "      <td>-.16</td>\n",
       "    </tr>\n",
       "    <tr>\n",
       "      <th>4</th>\n",
       "      <td>1884</td>\n",
       "      <td>-0.16</td>\n",
       "      <td>-0.08</td>\n",
       "      <td>-0.37</td>\n",
       "      <td>-0.43</td>\n",
       "      <td>-0.37</td>\n",
       "      <td>-0.41</td>\n",
       "      <td>-0.35</td>\n",
       "      <td>-.26</td>\n",
       "      <td>-.27</td>\n",
       "      <td>-.24</td>\n",
       "      <td>-.30</td>\n",
       "      <td>-.29</td>\n",
       "    </tr>\n",
       "    <tr>\n",
       "      <th>...</th>\n",
       "      <td>...</td>\n",
       "      <td>...</td>\n",
       "      <td>...</td>\n",
       "      <td>...</td>\n",
       "      <td>...</td>\n",
       "      <td>...</td>\n",
       "      <td>...</td>\n",
       "      <td>...</td>\n",
       "      <td>...</td>\n",
       "      <td>...</td>\n",
       "      <td>...</td>\n",
       "      <td>...</td>\n",
       "      <td>...</td>\n",
       "    </tr>\n",
       "    <tr>\n",
       "      <th>135</th>\n",
       "      <td>2015</td>\n",
       "      <td>0.81</td>\n",
       "      <td>0.87</td>\n",
       "      <td>0.90</td>\n",
       "      <td>0.75</td>\n",
       "      <td>0.75</td>\n",
       "      <td>0.79</td>\n",
       "      <td>0.71</td>\n",
       "      <td>.79</td>\n",
       "      <td>.82</td>\n",
       "      <td>1.07</td>\n",
       "      <td>1.03</td>\n",
       "      <td>1.10</td>\n",
       "    </tr>\n",
       "    <tr>\n",
       "      <th>136</th>\n",
       "      <td>2016</td>\n",
       "      <td>1.15</td>\n",
       "      <td>1.35</td>\n",
       "      <td>1.31</td>\n",
       "      <td>1.07</td>\n",
       "      <td>0.91</td>\n",
       "      <td>0.77</td>\n",
       "      <td>0.82</td>\n",
       "      <td>1.00</td>\n",
       "      <td>.88</td>\n",
       "      <td>.90</td>\n",
       "      <td>.91</td>\n",
       "      <td>.83</td>\n",
       "    </tr>\n",
       "    <tr>\n",
       "      <th>137</th>\n",
       "      <td>2017</td>\n",
       "      <td>0.98</td>\n",
       "      <td>1.13</td>\n",
       "      <td>1.13</td>\n",
       "      <td>0.92</td>\n",
       "      <td>0.89</td>\n",
       "      <td>0.70</td>\n",
       "      <td>0.82</td>\n",
       "      <td>.87</td>\n",
       "      <td>.76</td>\n",
       "      <td>.88</td>\n",
       "      <td>.86</td>\n",
       "      <td>.89</td>\n",
       "    </tr>\n",
       "    <tr>\n",
       "      <th>138</th>\n",
       "      <td>2018</td>\n",
       "      <td>0.77</td>\n",
       "      <td>0.85</td>\n",
       "      <td>0.91</td>\n",
       "      <td>0.87</td>\n",
       "      <td>0.81</td>\n",
       "      <td>0.74</td>\n",
       "      <td>0.78</td>\n",
       "      <td>.73</td>\n",
       "      <td>.76</td>\n",
       "      <td>.99</td>\n",
       "      <td>.78</td>\n",
       "      <td>.89</td>\n",
       "    </tr>\n",
       "    <tr>\n",
       "      <th>139</th>\n",
       "      <td>2019</td>\n",
       "      <td>0.87</td>\n",
       "      <td>0.92</td>\n",
       "      <td>1.11</td>\n",
       "      <td>0.97</td>\n",
       "      <td>0.85</td>\n",
       "      <td>0.86</td>\n",
       "      <td>0.90</td>\n",
       "      <td>***</td>\n",
       "      <td>***</td>\n",
       "      <td>***</td>\n",
       "      <td>***</td>\n",
       "      <td>***</td>\n",
       "    </tr>\n",
       "  </tbody>\n",
       "</table>\n",
       "<p>140 rows × 13 columns</p>\n",
       "</div>"
      ],
      "text/plain": [
       "     Year   Jan   Feb   Mar   Apr   May   Jun   Jul   Aug   Sep   Oct   Nov  \\\n",
       "0    1880 -0.29 -0.18 -0.11 -0.20 -0.12 -0.23 -0.21  -.09  -.16  -.23  -.20   \n",
       "1    1881 -0.16 -0.17  0.04  0.04  0.02 -0.20 -0.07  -.03  -.14  -.21  -.22   \n",
       "2    1882  0.14  0.15  0.03 -0.19 -0.16 -0.26 -0.21  -.06  -.10  -.25  -.16   \n",
       "3    1883 -0.32 -0.39 -0.13 -0.17 -0.20 -0.13 -0.08  -.15  -.21  -.14  -.22   \n",
       "4    1884 -0.16 -0.08 -0.37 -0.43 -0.37 -0.41 -0.35  -.26  -.27  -.24  -.30   \n",
       "..    ...   ...   ...   ...   ...   ...   ...   ...   ...   ...   ...   ...   \n",
       "135  2015  0.81  0.87  0.90  0.75  0.75  0.79  0.71   .79   .82  1.07  1.03   \n",
       "136  2016  1.15  1.35  1.31  1.07  0.91  0.77  0.82  1.00   .88   .90   .91   \n",
       "137  2017  0.98  1.13  1.13  0.92  0.89  0.70  0.82   .87   .76   .88   .86   \n",
       "138  2018  0.77  0.85  0.91  0.87  0.81  0.74  0.78   .73   .76   .99   .78   \n",
       "139  2019  0.87  0.92  1.11  0.97  0.85  0.86  0.90   ***   ***   ***   ***   \n",
       "\n",
       "      Dec  \n",
       "0    -.23  \n",
       "1    -.11  \n",
       "2    -.25  \n",
       "3    -.16  \n",
       "4    -.29  \n",
       "..    ...  \n",
       "135  1.10  \n",
       "136   .83  \n",
       "137   .89  \n",
       "138   .89  \n",
       "139   ***  \n",
       "\n",
       "[140 rows x 13 columns]"
      ]
     },
     "execution_count": 15,
     "metadata": {},
     "output_type": "execute_result"
    }
   ],
   "source": [
    "raw_t = raw_t.iloc[:,:13]\n",
    "raw_t"
   ]
  },
  {
   "cell_type": "markdown",
   "metadata": {},
   "source": [
    "### Apply \n",
    "\n",
    "Use the `apply` function to step through the rows of the raw data (`axis=1` for rows, `axis=0` for columns) and apply them to the new dataframe.\n",
    "\n",
    "Import the following libraries\n",
    "\n",
    "`from datetime import datetime` *useful for parsing dates and times*\n",
    "\n",
    "`import calendar` *used to get the last day of each month*"
   ]
  },
  {
   "cell_type": "code",
   "execution_count": 16,
   "metadata": {},
   "outputs": [],
   "source": [
    "from datetime import datetime\n",
    "import calendar"
   ]
  },
  {
   "cell_type": "markdown",
   "metadata": {},
   "source": [
    "Define a function to populate the dataframe with row values from the raw temperature data:\n",
    "\n",
    "`def populate_anom():`\n",
    "\n",
    "&nbsp;&nbsp;&nbsp;&nbsp;`year = row[\"Year\"]`\n",
    "\n",
    "&nbsp;&nbsp;&nbsp;&nbsp;`monthly_anomolies = row.iloc[1:]`\n",
    "\n",
    "&nbsp;&nbsp;&nbsp;&nbsp;`months = monthly_anomolies.index`\n",
    "\n",
    "&nbsp;&nbsp;&nbsp;&nbsp;`for month in monthly_anomolies.index:`\n",
    "\n",
    "&nbsp;&nbsp;&nbsp;&nbsp;&nbsp;&nbsp;&nbsp;&nbsp;`last_day = calendar.monthrange(year,datetime.strptime(month, '%b').month)[1]`\n",
    "\n",
    "&nbsp;&nbsp;&nbsp;&nbsp;&nbsp;&nbsp;&nbsp;&nbsp;`date_index = datetime.strptime(f'{year} {month} {last_day}', '%Y %b %d')`\n",
    "\n",
    "&nbsp;&nbsp;&nbsp;&nbsp;&nbsp;&nbsp;&nbsp;&nbsp;`t.loc[date_index] = monthly_anomolies[month]`\n",
    "\n",
    "`strptime` creates a  date time object from a string\n",
    "\n",
    "`strftime` creates a string from a date time object\n",
    "\n",
    "For more on strptime and strftime see https://docs.python.org/3/library/datetime.html#strftime-strptime-behavior"
   ]
  },
  {
   "cell_type": "code",
   "execution_count": 17,
   "metadata": {},
   "outputs": [],
   "source": [
    "def populate_anom(row):\n",
    "    year = row[\"Year\"]\n",
    "    monthly_anomolies = row.iloc[1:]\n",
    "    months = monthly_anomolies.index\n",
    "    for month in monthly_anomolies.index:\n",
    "        last_day = calendar.monthrange(year,datetime.strptime(month, \"%b\").month)[1]\n",
    "        date_index = datetime.strptime(f\"{year} {month} {last_day}\", \"%Y %b %d\")\n",
    "        t.loc[date_index] = monthly_anomolies[month]"
   ]
  },
  {
   "cell_type": "markdown",
   "metadata": {},
   "source": [
    "\n",
    "        \n",
    "### Lambda\n",
    " \n",
    " A lambda function is a small anonymous function that can take any number of arguments, but can only have one expression.\n",
    " \n",
    "Example:\n",
    " \n",
    "`x = lambda a : a + 10`\n",
    "\n",
    "`(x(5))`"
   ]
  },
  {
   "cell_type": "code",
   "execution_count": 18,
   "metadata": {},
   "outputs": [
    {
     "data": {
      "text/plain": [
       "12"
      ]
     },
     "execution_count": 18,
     "metadata": {},
     "output_type": "execute_result"
    }
   ],
   "source": [
    "x = lambda a : a + 10\n",
    "(x(2))"
   ]
  },
  {
   "cell_type": "markdown",
   "metadata": {},
   "source": [
    "Using lambda, apply the `populate_df()` function to each row of raw data (axis=1)\n",
    "\n",
    "`_ = raw_t.apply(lambda row: populate_anom(row), axis=1)`"
   ]
  },
  {
   "cell_type": "code",
   "execution_count": 19,
   "metadata": {},
   "outputs": [
    {
     "data": {
      "text/html": [
       "<div>\n",
       "<style scoped>\n",
       "    .dataframe tbody tr th:only-of-type {\n",
       "        vertical-align: middle;\n",
       "    }\n",
       "\n",
       "    .dataframe tbody tr th {\n",
       "        vertical-align: top;\n",
       "    }\n",
       "\n",
       "    .dataframe thead th {\n",
       "        text-align: right;\n",
       "    }\n",
       "</style>\n",
       "<table border=\"1\" class=\"dataframe\">\n",
       "  <thead>\n",
       "    <tr style=\"text-align: right;\">\n",
       "      <th></th>\n",
       "      <th>Avg_Anomaly_deg_C</th>\n",
       "    </tr>\n",
       "    <tr>\n",
       "      <th>date</th>\n",
       "      <th></th>\n",
       "    </tr>\n",
       "  </thead>\n",
       "  <tbody>\n",
       "    <tr>\n",
       "      <th>1880-01-31</th>\n",
       "      <td>-0.29</td>\n",
       "    </tr>\n",
       "    <tr>\n",
       "      <th>1880-02-29</th>\n",
       "      <td>-0.18</td>\n",
       "    </tr>\n",
       "    <tr>\n",
       "      <th>1880-03-31</th>\n",
       "      <td>-0.11</td>\n",
       "    </tr>\n",
       "    <tr>\n",
       "      <th>1880-04-30</th>\n",
       "      <td>-0.2</td>\n",
       "    </tr>\n",
       "    <tr>\n",
       "      <th>1880-05-31</th>\n",
       "      <td>-0.12</td>\n",
       "    </tr>\n",
       "  </tbody>\n",
       "</table>\n",
       "</div>"
      ],
      "text/plain": [
       "           Avg_Anomaly_deg_C\n",
       "date                        \n",
       "1880-01-31             -0.29\n",
       "1880-02-29             -0.18\n",
       "1880-03-31             -0.11\n",
       "1880-04-30              -0.2\n",
       "1880-05-31             -0.12"
      ]
     },
     "execution_count": 19,
     "metadata": {},
     "output_type": "execute_result"
    }
   ],
   "source": [
    "def populate_anom(row):\n",
    "    year = row[\"Year\"]\n",
    "    monthly_anomolies = row.iloc[1:]\n",
    "    months = monthly_anomolies.index\n",
    "    for month in monthly_anomolies.index:\n",
    "        last_day = calendar.monthrange(year,datetime.strptime(month, \"%b\").month)[1]\n",
    "        date_index = datetime.strptime(f\"{year} {month} {last_day}\", \"%Y %b %d\")\n",
    "        t.loc[date_index] = monthly_anomolies[month]\n",
    "        \n",
    "_ = raw_t.apply(lambda row: populate_anom(row), axis=1)\n",
    "t.head()"
   ]
  },
  {
   "cell_type": "code",
   "execution_count": 20,
   "metadata": {},
   "outputs": [
    {
     "name": "stdout",
     "output_type": "stream",
     "text": [
      "Variable        Type             Data/Info\n",
      "------------------------------------------\n",
      "ZipFile         type             <class 'zipfile.ZipFile'>\n",
      "calendar        module           <module 'calendar' from '<...>b/python3.6/calendar.py'>\n",
      "date_rng        DatetimeIndex    DatetimeIndex(['1880-01-3<...>', length=1673, freq='M')\n",
      "datetime        type             <class 'datetime.datetime'>\n",
      "pd              module           <module 'pandas' from '/a<...>ages/pandas/__init__.py'>\n",
      "plt             module           <module 'matplotlib.pyplo<...>es/matplotlib/pyplot.py'>\n",
      "populate_anom   function         <function populate_anom at 0x10ba56378>\n",
      "raw_e           DataFrame             Country Name Country<...>\\n[264 rows x 65 columns]\n",
      "raw_t           DataFrame             Year   Jan   Feb   M<...>\\n[140 rows x 13 columns]\n",
      "t               DataFrame                   Avg_Anomaly_de<...>\\n[1680 rows x 1 columns]\n",
      "x               function         <function <lambda> at 0x10ba2bf28>\n",
      "zip             ZipFile          <zipfile.ZipFile [closed]>\n"
     ]
    }
   ],
   "source": [
    "%whos"
   ]
  },
  {
   "cell_type": "code",
   "execution_count": 21,
   "metadata": {},
   "outputs": [
    {
     "data": {
      "text/html": [
       "<div>\n",
       "<style scoped>\n",
       "    .dataframe tbody tr th:only-of-type {\n",
       "        vertical-align: middle;\n",
       "    }\n",
       "\n",
       "    .dataframe tbody tr th {\n",
       "        vertical-align: top;\n",
       "    }\n",
       "\n",
       "    .dataframe thead th {\n",
       "        text-align: right;\n",
       "    }\n",
       "</style>\n",
       "<table border=\"1\" class=\"dataframe\">\n",
       "  <thead>\n",
       "    <tr style=\"text-align: right;\">\n",
       "      <th></th>\n",
       "      <th>Avg_Anomaly_deg_C</th>\n",
       "    </tr>\n",
       "    <tr>\n",
       "      <th>date</th>\n",
       "      <th></th>\n",
       "    </tr>\n",
       "  </thead>\n",
       "  <tbody>\n",
       "    <tr>\n",
       "      <th>1880-01-31</th>\n",
       "      <td>-0.29</td>\n",
       "    </tr>\n",
       "    <tr>\n",
       "      <th>1880-02-29</th>\n",
       "      <td>-0.18</td>\n",
       "    </tr>\n",
       "    <tr>\n",
       "      <th>1880-03-31</th>\n",
       "      <td>-0.11</td>\n",
       "    </tr>\n",
       "    <tr>\n",
       "      <th>1880-04-30</th>\n",
       "      <td>-0.2</td>\n",
       "    </tr>\n",
       "    <tr>\n",
       "      <th>1880-05-31</th>\n",
       "      <td>-0.12</td>\n",
       "    </tr>\n",
       "  </tbody>\n",
       "</table>\n",
       "</div>"
      ],
      "text/plain": [
       "           Avg_Anomaly_deg_C\n",
       "date                        \n",
       "1880-01-31             -0.29\n",
       "1880-02-29             -0.18\n",
       "1880-03-31             -0.11\n",
       "1880-04-30              -0.2\n",
       "1880-05-31             -0.12"
      ]
     },
     "execution_count": 21,
     "metadata": {},
     "output_type": "execute_result"
    }
   ],
   "source": [
    "_ = raw_t.apply(lambda row: populate_anom(row), axis=1)\n",
    "\n",
    "t.head()"
   ]
  },
  {
   "cell_type": "markdown",
   "metadata": {},
   "source": [
    "## Formatting Values\n",
    "\n",
    "Handling missing values and converting data types\n",
    "\n",
    "Using the `fillna` function to populate `Nan` values\n",
    "\n",
    "Define a function to convert values to floats, and return a 'NaN = Not a Number' if not possible\n",
    "\n",
    "`import numpy as np`\n",
    "\n",
    "`def clean_anomaly_value(raw_value):`\n",
    "\n",
    "&nbsp;&nbsp;&nbsp;&nbsp;`try:`\n",
    "\n",
    "&nbsp;&nbsp;&nbsp;&nbsp;&nbsp;&nbsp;&nbsp;&nbsp;`return float(raw_value)`\n",
    "\n",
    "&nbsp;&nbsp;&nbsp;&nbsp;`except:`\n",
    "\n",
    "&nbsp;&nbsp;&nbsp;&nbsp;&nbsp;&nbsp;&nbsp;&nbsp;`return np.NaN`\n",
    "\n",
    "`apply` the function to each raw_value in the `\"Avg_Anomaly_deg_C\"` column\n",
    "\n",
    "Fill NaN values using `method=\"ffill\"`\n",
    "\n",
    "`t.fillna(method=\"ffill\", inplace=True)`"
   ]
  },
  {
   "cell_type": "code",
   "execution_count": 22,
   "metadata": {},
   "outputs": [
    {
     "data": {
      "text/html": [
       "<div>\n",
       "<style scoped>\n",
       "    .dataframe tbody tr th:only-of-type {\n",
       "        vertical-align: middle;\n",
       "    }\n",
       "\n",
       "    .dataframe tbody tr th {\n",
       "        vertical-align: top;\n",
       "    }\n",
       "\n",
       "    .dataframe thead th {\n",
       "        text-align: right;\n",
       "    }\n",
       "</style>\n",
       "<table border=\"1\" class=\"dataframe\">\n",
       "  <thead>\n",
       "    <tr style=\"text-align: right;\">\n",
       "      <th></th>\n",
       "      <th>Avg_Anomaly_deg_C</th>\n",
       "    </tr>\n",
       "    <tr>\n",
       "      <th>date</th>\n",
       "      <th></th>\n",
       "    </tr>\n",
       "  </thead>\n",
       "  <tbody>\n",
       "    <tr>\n",
       "      <th>1880-01-31</th>\n",
       "      <td>-0.29</td>\n",
       "    </tr>\n",
       "    <tr>\n",
       "      <th>1880-02-29</th>\n",
       "      <td>-0.18</td>\n",
       "    </tr>\n",
       "    <tr>\n",
       "      <th>1880-03-31</th>\n",
       "      <td>-0.11</td>\n",
       "    </tr>\n",
       "    <tr>\n",
       "      <th>1880-04-30</th>\n",
       "      <td>-0.20</td>\n",
       "    </tr>\n",
       "    <tr>\n",
       "      <th>1880-05-31</th>\n",
       "      <td>-0.12</td>\n",
       "    </tr>\n",
       "  </tbody>\n",
       "</table>\n",
       "</div>"
      ],
      "text/plain": [
       "            Avg_Anomaly_deg_C\n",
       "date                         \n",
       "1880-01-31              -0.29\n",
       "1880-02-29              -0.18\n",
       "1880-03-31              -0.11\n",
       "1880-04-30              -0.20\n",
       "1880-05-31              -0.12"
      ]
     },
     "execution_count": 22,
     "metadata": {},
     "output_type": "execute_result"
    }
   ],
   "source": [
    "import numpy as np\n",
    "\n",
    "def clean_anomaly_value(raw_value):\n",
    "    try:\n",
    "        return float(raw_value)\n",
    "    except:\n",
    "        return np.NaN\n",
    "    \n",
    "t[\"Avg_Anomaly_deg_C\"] = t[\"Avg_Anomaly_deg_C\"].apply(lambda raw_value: clean_anomaly_value(raw_value))\n",
    "t.fillna(method=\"ffill\", inplace=True)\n",
    "t.head()"
   ]
  },
  {
   "cell_type": "markdown",
   "metadata": {},
   "source": [
    "### Create a Simple Plot\n",
    "\n",
    "`plt.figure(figsize=(10,8))`\n",
    "\n",
    "`plt.xlabel('Time')`\n",
    "\n",
    "`plt.ylabel('Temperature Anomaly (°Celsius)')`\n",
    "\n",
    "`plt.plot(t, color='#1C7C54', linewidth=1.0)`"
   ]
  },
  {
   "cell_type": "code",
   "execution_count": 23,
   "metadata": {},
   "outputs": [
    {
     "name": "stderr",
     "output_type": "stream",
     "text": [
      "/anaconda3/lib/python3.6/site-packages/pandas/plotting/_matplotlib/converter.py:103: FutureWarning: Using an implicitly registered datetime converter for a matplotlib plotting method. The converter was registered by pandas on import. Future versions of pandas will require you to explicitly register matplotlib converters.\n",
      "\n",
      "To register the converters:\n",
      "\t>>> from pandas.plotting import register_matplotlib_converters\n",
      "\t>>> register_matplotlib_converters()\n",
      "  warnings.warn(msg, FutureWarning)\n"
     ]
    },
    {
     "data": {
      "text/plain": [
       "[<matplotlib.lines.Line2D at 0x10c8ec470>]"
      ]
     },
     "execution_count": 23,
     "metadata": {},
     "output_type": "execute_result"
    },
    {
     "data": {
      "image/png": "[encoded data removed]",
      "text/plain": [
       "<matplotlib.figure.Figure at 0x10ba50e80>"
      ]
     },
     "metadata": {
      "needs_background": "light"
     },
     "output_type": "display_data"
    }
   ],
   "source": [
    "plt.figure(figsize=(10,8))\n",
    "plt.xlabel('Time')\n",
    "plt.ylabel('Temperature Anomaly (°Celsius)')\n",
    "plt.plot(t, color='#1C7C54', linewidth=1.0)"
   ]
  },
  {
   "cell_type": "markdown",
   "metadata": {},
   "source": [
    "### Resampling Data\n",
    "\n",
    "Sometimes data are too granular to visualize nicely. The `resample` function can change the frequency from months to years.\n",
    "\n",
    "Downsample the temperature data into years, the string ‘A’ represents ‘calendar year-end’. \n",
    "\n",
    "`t.resample('A').mean().head()`"
   ]
  },
  {
   "cell_type": "code",
   "execution_count": 24,
   "metadata": {},
   "outputs": [
    {
     "data": {
      "text/html": [
       "<div>\n",
       "<style scoped>\n",
       "    .dataframe tbody tr th:only-of-type {\n",
       "        vertical-align: middle;\n",
       "    }\n",
       "\n",
       "    .dataframe tbody tr th {\n",
       "        vertical-align: top;\n",
       "    }\n",
       "\n",
       "    .dataframe thead th {\n",
       "        text-align: right;\n",
       "    }\n",
       "</style>\n",
       "<table border=\"1\" class=\"dataframe\">\n",
       "  <thead>\n",
       "    <tr style=\"text-align: right;\">\n",
       "      <th></th>\n",
       "      <th>Avg_Anomaly_deg_C</th>\n",
       "    </tr>\n",
       "    <tr>\n",
       "      <th>date</th>\n",
       "      <th></th>\n",
       "    </tr>\n",
       "  </thead>\n",
       "  <tbody>\n",
       "    <tr>\n",
       "      <th>1880-12-31</th>\n",
       "      <td>-0.187500</td>\n",
       "    </tr>\n",
       "    <tr>\n",
       "      <th>1881-12-31</th>\n",
       "      <td>-0.100833</td>\n",
       "    </tr>\n",
       "    <tr>\n",
       "      <th>1882-12-31</th>\n",
       "      <td>-0.110000</td>\n",
       "    </tr>\n",
       "    <tr>\n",
       "      <th>1883-12-31</th>\n",
       "      <td>-0.191667</td>\n",
       "    </tr>\n",
       "    <tr>\n",
       "      <th>1884-12-31</th>\n",
       "      <td>-0.294167</td>\n",
       "    </tr>\n",
       "  </tbody>\n",
       "</table>\n",
       "</div>"
      ],
      "text/plain": [
       "            Avg_Anomaly_deg_C\n",
       "date                         \n",
       "1880-12-31          -0.187500\n",
       "1881-12-31          -0.100833\n",
       "1882-12-31          -0.110000\n",
       "1883-12-31          -0.191667\n",
       "1884-12-31          -0.294167"
      ]
     },
     "execution_count": 24,
     "metadata": {},
     "output_type": "execute_result"
    }
   ],
   "source": [
    "t.resample('A').mean().head()"
   ]
  },
  {
   "cell_type": "markdown",
   "metadata": {},
   "source": [
    "#### Plot the Resampled Data\n",
    "\n",
    "`plt.figure(figsize=(10,8))`\n",
    "\n",
    "`plt.xlabel(\"Time\")`\n",
    "\n",
    "`plt.ylabel(\"Temperature Anomaly (°Celsius)\")`\n",
    "\n",
    "`plt.plot(t.resample(\"A\").mean(), color=\"#1C7C54\", linewidth=1.0)`\n"
   ]
  },
  {
   "cell_type": "code",
   "execution_count": 25,
   "metadata": {},
   "outputs": [
    {
     "data": {
      "text/plain": [
       "[<matplotlib.lines.Line2D at 0x11b27da90>]"
      ]
     },
     "execution_count": 25,
     "metadata": {},
     "output_type": "execute_result"
    },
    {
     "data": {
      "image/png": "[encoded data removed]",
      "text/plain": [
       "<matplotlib.figure.Figure at 0x11b30c6a0>"
      ]
     },
     "metadata": {
      "needs_background": "light"
     },
     "output_type": "display_data"
    }
   ],
   "source": [
    "plt.figure(figsize=(10, 8))\n",
    "plt.xlabel(\"Time\")\n",
    "plt.ylabel(\"Temperature Anomaly (°Celsius)\")\n",
    "plt.plot(t.resample(\"A\").mean(), color=\"#1C7C54\", linewidth=1.0)"
   ]
  },
  {
   "cell_type": "markdown",
   "metadata": {},
   "source": [
    "### Wrangling CO2 Data\n",
    "\n",
    "* Slicing and Searching\n",
    "\n",
    "* Useful functions\n",
    "\n",
    "Select only the row representing the CO₂ emissions for the entire world. Create a new dataframe that uses a DateTime index — and then use the raw data to populate it."
   ]
  },
  {
   "cell_type": "code",
   "execution_count": 26,
   "metadata": {},
   "outputs": [
    {
     "data": {
      "text/html": [
       "<div>\n",
       "<style scoped>\n",
       "    .dataframe tbody tr th:only-of-type {\n",
       "        vertical-align: middle;\n",
       "    }\n",
       "\n",
       "    .dataframe tbody tr th {\n",
       "        vertical-align: top;\n",
       "    }\n",
       "\n",
       "    .dataframe thead th {\n",
       "        text-align: right;\n",
       "    }\n",
       "</style>\n",
       "<table border=\"1\" class=\"dataframe\">\n",
       "  <thead>\n",
       "    <tr style=\"text-align: right;\">\n",
       "      <th></th>\n",
       "      <th>Country Name</th>\n",
       "      <th>Country Code</th>\n",
       "      <th>Indicator Name</th>\n",
       "      <th>Indicator Code</th>\n",
       "      <th>1960</th>\n",
       "      <th>1961</th>\n",
       "      <th>1962</th>\n",
       "      <th>1963</th>\n",
       "      <th>1964</th>\n",
       "      <th>1965</th>\n",
       "      <th>...</th>\n",
       "      <th>2011</th>\n",
       "      <th>2012</th>\n",
       "      <th>2013</th>\n",
       "      <th>2014</th>\n",
       "      <th>2015</th>\n",
       "      <th>2016</th>\n",
       "      <th>2017</th>\n",
       "      <th>2018</th>\n",
       "      <th>2019</th>\n",
       "      <th>Unnamed: 64</th>\n",
       "    </tr>\n",
       "  </thead>\n",
       "  <tbody>\n",
       "    <tr>\n",
       "      <th>259</th>\n",
       "      <td>Kosovo</td>\n",
       "      <td>XKX</td>\n",
       "      <td>CO2 emissions (metric tons per capita)</td>\n",
       "      <td>EN.ATM.CO2E.PC</td>\n",
       "      <td>NaN</td>\n",
       "      <td>NaN</td>\n",
       "      <td>NaN</td>\n",
       "      <td>NaN</td>\n",
       "      <td>NaN</td>\n",
       "      <td>NaN</td>\n",
       "      <td>...</td>\n",
       "      <td>NaN</td>\n",
       "      <td>NaN</td>\n",
       "      <td>NaN</td>\n",
       "      <td>NaN</td>\n",
       "      <td>NaN</td>\n",
       "      <td>NaN</td>\n",
       "      <td>NaN</td>\n",
       "      <td>NaN</td>\n",
       "      <td>NaN</td>\n",
       "      <td>NaN</td>\n",
       "    </tr>\n",
       "    <tr>\n",
       "      <th>260</th>\n",
       "      <td>Yemen, Rep.</td>\n",
       "      <td>YEM</td>\n",
       "      <td>CO2 emissions (metric tons per capita)</td>\n",
       "      <td>EN.ATM.CO2E.PC</td>\n",
       "      <td>0.683679</td>\n",
       "      <td>0.494324</td>\n",
       "      <td>0.71013</td>\n",
       "      <td>0.525293</td>\n",
       "      <td>0.644143</td>\n",
       "      <td>0.686312</td>\n",
       "      <td>...</td>\n",
       "      <td>0.826044</td>\n",
       "      <td>0.762823</td>\n",
       "      <td>1.013900</td>\n",
       "      <td>0.878996</td>\n",
       "      <td>NaN</td>\n",
       "      <td>NaN</td>\n",
       "      <td>NaN</td>\n",
       "      <td>NaN</td>\n",
       "      <td>NaN</td>\n",
       "      <td>NaN</td>\n",
       "    </tr>\n",
       "    <tr>\n",
       "      <th>261</th>\n",
       "      <td>South Africa</td>\n",
       "      <td>ZAF</td>\n",
       "      <td>CO2 emissions (metric tons per capita)</td>\n",
       "      <td>EN.ATM.CO2E.PC</td>\n",
       "      <td>5.727221</td>\n",
       "      <td>5.832621</td>\n",
       "      <td>5.88717</td>\n",
       "      <td>5.961336</td>\n",
       "      <td>6.332342</td>\n",
       "      <td>6.616544</td>\n",
       "      <td>...</td>\n",
       "      <td>9.048936</td>\n",
       "      <td>8.872523</td>\n",
       "      <td>8.686590</td>\n",
       "      <td>8.979062</td>\n",
       "      <td>NaN</td>\n",
       "      <td>NaN</td>\n",
       "      <td>NaN</td>\n",
       "      <td>NaN</td>\n",
       "      <td>NaN</td>\n",
       "      <td>NaN</td>\n",
       "    </tr>\n",
       "    <tr>\n",
       "      <th>262</th>\n",
       "      <td>Zambia</td>\n",
       "      <td>ZMB</td>\n",
       "      <td>CO2 emissions (metric tons per capita)</td>\n",
       "      <td>EN.ATM.CO2E.PC</td>\n",
       "      <td>NaN</td>\n",
       "      <td>NaN</td>\n",
       "      <td>NaN</td>\n",
       "      <td>NaN</td>\n",
       "      <td>0.946606</td>\n",
       "      <td>1.096876</td>\n",
       "      <td>...</td>\n",
       "      <td>0.209458</td>\n",
       "      <td>0.253506</td>\n",
       "      <td>0.265078</td>\n",
       "      <td>0.292412</td>\n",
       "      <td>NaN</td>\n",
       "      <td>NaN</td>\n",
       "      <td>NaN</td>\n",
       "      <td>NaN</td>\n",
       "      <td>NaN</td>\n",
       "      <td>NaN</td>\n",
       "    </tr>\n",
       "    <tr>\n",
       "      <th>263</th>\n",
       "      <td>Zimbabwe</td>\n",
       "      <td>ZWE</td>\n",
       "      <td>CO2 emissions (metric tons per capita)</td>\n",
       "      <td>EN.ATM.CO2E.PC</td>\n",
       "      <td>NaN</td>\n",
       "      <td>NaN</td>\n",
       "      <td>NaN</td>\n",
       "      <td>NaN</td>\n",
       "      <td>1.034903</td>\n",
       "      <td>1.166242</td>\n",
       "      <td>...</td>\n",
       "      <td>0.741686</td>\n",
       "      <td>0.594152</td>\n",
       "      <td>0.874563</td>\n",
       "      <td>0.884721</td>\n",
       "      <td>NaN</td>\n",
       "      <td>NaN</td>\n",
       "      <td>NaN</td>\n",
       "      <td>NaN</td>\n",
       "      <td>NaN</td>\n",
       "      <td>NaN</td>\n",
       "    </tr>\n",
       "  </tbody>\n",
       "</table>\n",
       "<p>5 rows × 65 columns</p>\n",
       "</div>"
      ],
      "text/plain": [
       "     Country Name Country Code                          Indicator Name  \\\n",
       "259        Kosovo          XKX  CO2 emissions (metric tons per capita)   \n",
       "260   Yemen, Rep.          YEM  CO2 emissions (metric tons per capita)   \n",
       "261  South Africa          ZAF  CO2 emissions (metric tons per capita)   \n",
       "262        Zambia          ZMB  CO2 emissions (metric tons per capita)   \n",
       "263      Zimbabwe          ZWE  CO2 emissions (metric tons per capita)   \n",
       "\n",
       "     Indicator Code      1960      1961     1962      1963      1964  \\\n",
       "259  EN.ATM.CO2E.PC       NaN       NaN      NaN       NaN       NaN   \n",
       "260  EN.ATM.CO2E.PC  0.683679  0.494324  0.71013  0.525293  0.644143   \n",
       "261  EN.ATM.CO2E.PC  5.727221  5.832621  5.88717  5.961336  6.332342   \n",
       "262  EN.ATM.CO2E.PC       NaN       NaN      NaN       NaN  0.946606   \n",
       "263  EN.ATM.CO2E.PC       NaN       NaN      NaN       NaN  1.034903   \n",
       "\n",
       "         1965  ...      2011      2012      2013      2014  2015  2016  2017  \\\n",
       "259       NaN  ...       NaN       NaN       NaN       NaN   NaN   NaN   NaN   \n",
       "260  0.686312  ...  0.826044  0.762823  1.013900  0.878996   NaN   NaN   NaN   \n",
       "261  6.616544  ...  9.048936  8.872523  8.686590  8.979062   NaN   NaN   NaN   \n",
       "262  1.096876  ...  0.209458  0.253506  0.265078  0.292412   NaN   NaN   NaN   \n",
       "263  1.166242  ...  0.741686  0.594152  0.874563  0.884721   NaN   NaN   NaN   \n",
       "\n",
       "     2018  2019  Unnamed: 64  \n",
       "259   NaN   NaN          NaN  \n",
       "260   NaN   NaN          NaN  \n",
       "261   NaN   NaN          NaN  \n",
       "262   NaN   NaN          NaN  \n",
       "263   NaN   NaN          NaN  \n",
       "\n",
       "[5 rows x 65 columns]"
      ]
     },
     "execution_count": 26,
     "metadata": {},
     "output_type": "execute_result"
    }
   ],
   "source": [
    "raw_e.tail()"
   ]
  },
  {
   "cell_type": "code",
   "execution_count": 27,
   "metadata": {},
   "outputs": [
    {
     "data": {
      "text/html": [
       "<div>\n",
       "<style scoped>\n",
       "    .dataframe tbody tr th:only-of-type {\n",
       "        vertical-align: middle;\n",
       "    }\n",
       "\n",
       "    .dataframe tbody tr th {\n",
       "        vertical-align: top;\n",
       "    }\n",
       "\n",
       "    .dataframe thead th {\n",
       "        text-align: right;\n",
       "    }\n",
       "</style>\n",
       "<table border=\"1\" class=\"dataframe\">\n",
       "  <thead>\n",
       "    <tr style=\"text-align: right;\">\n",
       "      <th></th>\n",
       "      <th>Global CO2 Emissions per Capita</th>\n",
       "    </tr>\n",
       "    <tr>\n",
       "      <th>date</th>\n",
       "      <th></th>\n",
       "    </tr>\n",
       "  </thead>\n",
       "  <tbody>\n",
       "    <tr>\n",
       "      <th>1960-12-31</th>\n",
       "      <td>3.099157</td>\n",
       "    </tr>\n",
       "    <tr>\n",
       "      <th>1961-12-31</th>\n",
       "      <td>3.070018</td>\n",
       "    </tr>\n",
       "    <tr>\n",
       "      <th>1962-12-31</th>\n",
       "      <td>3.140957</td>\n",
       "    </tr>\n",
       "    <tr>\n",
       "      <th>1963-12-31</th>\n",
       "      <td>3.245109</td>\n",
       "    </tr>\n",
       "    <tr>\n",
       "      <th>1964-12-31</th>\n",
       "      <td>3.361380</td>\n",
       "    </tr>\n",
       "  </tbody>\n",
       "</table>\n",
       "</div>"
      ],
      "text/plain": [
       "            Global CO2 Emissions per Capita\n",
       "date                                       \n",
       "1960-12-31                         3.099157\n",
       "1961-12-31                         3.070018\n",
       "1962-12-31                         3.140957\n",
       "1963-12-31                         3.245109\n",
       "1964-12-31                         3.361380"
      ]
     },
     "execution_count": 27,
     "metadata": {},
     "output_type": "execute_result"
    }
   ],
   "source": [
    "# Define function to pull value from raw data, using DateIndex from new DataFrame row\n",
    "def populate_df(row):\n",
    "    index = str(row['date'].year)\n",
    "    value = raw_e_world.loc[index]\n",
    "    return value\n",
    "  \n",
    "# Select just the row with co2 emissions for the 'world', and the columns for the years 1960-2018 \n",
    "raw_e_world = raw_e[raw_e['Country Name']=='World'].loc[:,'1960':'2018']\n",
    "#print (raw_e_world)\n",
    "\n",
    "# 'Traspose' the resulting slice, making the columns become rows and vice versa\n",
    "raw_e_world = raw_e_world.T\n",
    "#print (raw_e_world)\n",
    "raw_e_world.columns = ['value']\n",
    "\n",
    "# Create a new DataFrame with a daterange the same the range for.\n",
    "# the Temperature data (after resampling to years)\n",
    "date_rng = pd.date_range(start='31/12/1960', end='31/12/2018', freq='y')\n",
    "e = pd.DataFrame(date_rng, columns=['date'])\n",
    "\n",
    "# Populate the new DataFrame using the values from the raw data slice\n",
    "v = e.apply(lambda row: populate_df(row), axis=1)\n",
    "e['Global CO2 Emissions per Capita'] = v\n",
    "e.set_index('date', inplace=True)\n",
    "e.head()\n"
   ]
  },
  {
   "cell_type": "markdown",
   "metadata": {},
   "source": [
    "Select all data after the year 2011:\n",
    "\n",
    "`e[e.index.year>2011]`"
   ]
  },
  {
   "cell_type": "code",
   "execution_count": 28,
   "metadata": {},
   "outputs": [
    {
     "data": {
      "text/html": [
       "<div>\n",
       "<style scoped>\n",
       "    .dataframe tbody tr th:only-of-type {\n",
       "        vertical-align: middle;\n",
       "    }\n",
       "\n",
       "    .dataframe tbody tr th {\n",
       "        vertical-align: top;\n",
       "    }\n",
       "\n",
       "    .dataframe thead th {\n",
       "        text-align: right;\n",
       "    }\n",
       "</style>\n",
       "<table border=\"1\" class=\"dataframe\">\n",
       "  <thead>\n",
       "    <tr style=\"text-align: right;\">\n",
       "      <th></th>\n",
       "      <th>Global CO2 Emissions per Capita</th>\n",
       "    </tr>\n",
       "    <tr>\n",
       "      <th>date</th>\n",
       "      <th></th>\n",
       "    </tr>\n",
       "  </thead>\n",
       "  <tbody>\n",
       "    <tr>\n",
       "      <th>2012-12-31</th>\n",
       "      <td>5.005069</td>\n",
       "    </tr>\n",
       "    <tr>\n",
       "      <th>2013-12-31</th>\n",
       "      <td>4.997599</td>\n",
       "    </tr>\n",
       "    <tr>\n",
       "      <th>2014-12-31</th>\n",
       "      <td>4.980707</td>\n",
       "    </tr>\n",
       "    <tr>\n",
       "      <th>2015-12-31</th>\n",
       "      <td>NaN</td>\n",
       "    </tr>\n",
       "    <tr>\n",
       "      <th>2016-12-31</th>\n",
       "      <td>NaN</td>\n",
       "    </tr>\n",
       "    <tr>\n",
       "      <th>2017-12-31</th>\n",
       "      <td>NaN</td>\n",
       "    </tr>\n",
       "    <tr>\n",
       "      <th>2018-12-31</th>\n",
       "      <td>NaN</td>\n",
       "    </tr>\n",
       "  </tbody>\n",
       "</table>\n",
       "</div>"
      ],
      "text/plain": [
       "            Global CO2 Emissions per Capita\n",
       "date                                       \n",
       "2012-12-31                         5.005069\n",
       "2013-12-31                         4.997599\n",
       "2014-12-31                         4.980707\n",
       "2015-12-31                              NaN\n",
       "2016-12-31                              NaN\n",
       "2017-12-31                              NaN\n",
       "2018-12-31                              NaN"
      ]
     },
     "execution_count": 28,
     "metadata": {},
     "output_type": "execute_result"
    }
   ],
   "source": [
    "e[e.index.year>2011]"
   ]
  },
  {
   "cell_type": "markdown",
   "metadata": {},
   "source": [
    "Fill NaN vales using forward fill\n",
    "\n",
    "`e.fillna(method='ffill', inplace=True)`\n",
    "\n",
    "`e[e.index.year>2011]`"
   ]
  },
  {
   "cell_type": "code",
   "execution_count": 29,
   "metadata": {},
   "outputs": [
    {
     "data": {
      "text/html": [
       "<div>\n",
       "<style scoped>\n",
       "    .dataframe tbody tr th:only-of-type {\n",
       "        vertical-align: middle;\n",
       "    }\n",
       "\n",
       "    .dataframe tbody tr th {\n",
       "        vertical-align: top;\n",
       "    }\n",
       "\n",
       "    .dataframe thead th {\n",
       "        text-align: right;\n",
       "    }\n",
       "</style>\n",
       "<table border=\"1\" class=\"dataframe\">\n",
       "  <thead>\n",
       "    <tr style=\"text-align: right;\">\n",
       "      <th></th>\n",
       "      <th>Global CO2 Emissions per Capita</th>\n",
       "    </tr>\n",
       "    <tr>\n",
       "      <th>date</th>\n",
       "      <th></th>\n",
       "    </tr>\n",
       "  </thead>\n",
       "  <tbody>\n",
       "    <tr>\n",
       "      <th>2012-12-31</th>\n",
       "      <td>5.005069</td>\n",
       "    </tr>\n",
       "    <tr>\n",
       "      <th>2013-12-31</th>\n",
       "      <td>4.997599</td>\n",
       "    </tr>\n",
       "    <tr>\n",
       "      <th>2014-12-31</th>\n",
       "      <td>4.980707</td>\n",
       "    </tr>\n",
       "    <tr>\n",
       "      <th>2015-12-31</th>\n",
       "      <td>4.980707</td>\n",
       "    </tr>\n",
       "    <tr>\n",
       "      <th>2016-12-31</th>\n",
       "      <td>4.980707</td>\n",
       "    </tr>\n",
       "    <tr>\n",
       "      <th>2017-12-31</th>\n",
       "      <td>4.980707</td>\n",
       "    </tr>\n",
       "    <tr>\n",
       "      <th>2018-12-31</th>\n",
       "      <td>4.980707</td>\n",
       "    </tr>\n",
       "  </tbody>\n",
       "</table>\n",
       "</div>"
      ],
      "text/plain": [
       "            Global CO2 Emissions per Capita\n",
       "date                                       \n",
       "2012-12-31                         5.005069\n",
       "2013-12-31                         4.997599\n",
       "2014-12-31                         4.980707\n",
       "2015-12-31                         4.980707\n",
       "2016-12-31                         4.980707\n",
       "2017-12-31                         4.980707\n",
       "2018-12-31                         4.980707"
      ]
     },
     "execution_count": 29,
     "metadata": {},
     "output_type": "execute_result"
    }
   ],
   "source": [
    "e.fillna(method='ffill', inplace=True)\n",
    "e[e.index.year>2011]"
   ]
  },
  {
   "cell_type": "markdown",
   "metadata": {},
   "source": [
    "Use the DateTime index to search on a range\n",
    "\n",
    "`e['1984-01-04':'1990-01-06']`"
   ]
  },
  {
   "cell_type": "code",
   "execution_count": 30,
   "metadata": {},
   "outputs": [
    {
     "data": {
      "text/html": [
       "<div>\n",
       "<style scoped>\n",
       "    .dataframe tbody tr th:only-of-type {\n",
       "        vertical-align: middle;\n",
       "    }\n",
       "\n",
       "    .dataframe tbody tr th {\n",
       "        vertical-align: top;\n",
       "    }\n",
       "\n",
       "    .dataframe thead th {\n",
       "        text-align: right;\n",
       "    }\n",
       "</style>\n",
       "<table border=\"1\" class=\"dataframe\">\n",
       "  <thead>\n",
       "    <tr style=\"text-align: right;\">\n",
       "      <th></th>\n",
       "      <th>Global CO2 Emissions per Capita</th>\n",
       "    </tr>\n",
       "    <tr>\n",
       "      <th>date</th>\n",
       "      <th></th>\n",
       "    </tr>\n",
       "  </thead>\n",
       "  <tbody>\n",
       "    <tr>\n",
       "      <th>1984-12-31</th>\n",
       "      <td>4.024779</td>\n",
       "    </tr>\n",
       "    <tr>\n",
       "      <th>1985-12-31</th>\n",
       "      <td>4.074093</td>\n",
       "    </tr>\n",
       "    <tr>\n",
       "      <th>1986-12-31</th>\n",
       "      <td>4.124274</td>\n",
       "    </tr>\n",
       "    <tr>\n",
       "      <th>1987-12-31</th>\n",
       "      <td>4.152156</td>\n",
       "    </tr>\n",
       "    <tr>\n",
       "      <th>1988-12-31</th>\n",
       "      <td>4.226610</td>\n",
       "    </tr>\n",
       "    <tr>\n",
       "      <th>1989-12-31</th>\n",
       "      <td>4.243794</td>\n",
       "    </tr>\n",
       "  </tbody>\n",
       "</table>\n",
       "</div>"
      ],
      "text/plain": [
       "            Global CO2 Emissions per Capita\n",
       "date                                       \n",
       "1984-12-31                         4.024779\n",
       "1985-12-31                         4.074093\n",
       "1986-12-31                         4.124274\n",
       "1987-12-31                         4.152156\n",
       "1988-12-31                         4.226610\n",
       "1989-12-31                         4.243794"
      ]
     },
     "execution_count": 30,
     "metadata": {},
     "output_type": "execute_result"
    }
   ],
   "source": [
    "e['1984-01-04':'1990-01-06']"
   ]
  },
  {
   "cell_type": "markdown",
   "metadata": {},
   "source": [
    "#### Plotting the Temperature Data"
   ]
  },
  {
   "cell_type": "code",
   "execution_count": 31,
   "metadata": {},
   "outputs": [
    {
     "data": {
      "image/png": "[encoded data removed]",
      "text/plain": [
       "<matplotlib.figure.Figure at 0x11b062208>"
      ]
     },
     "metadata": {
      "needs_background": "light"
     },
     "output_type": "display_data"
    }
   ],
   "source": [
    "import matplotlib.pyplot as plt\n",
    "%matplotlib inline\n",
    "\n",
    "t_resampled = t.resample('A').mean()\n",
    "\n",
    "fig, ax = plt.subplots(figsize=(10,8))\n",
    "ax.plot(t_resampled, color='#1C7C54', linewidth=2.5)\n",
    "ax.set(xlabel=\"Time (years)\", ylabel=\"Temperature Anomaly (deg. Celsius)\", title=\"Global Temperature Anomalies\")\n",
    "ax.grid()"
   ]
  },
  {
   "cell_type": "markdown",
   "metadata": {},
   "source": [
    "#### Plot the CO2 Data\n",
    "\n",
    "Create figures and axes\n",
    "\n",
    "`fig, ax = plt.subplots(figsize=(10,8))`\n",
    "\n",
    "Plot co2 emissions data with specific colour and line thickness\n",
    "\n",
    "`ax.plot(e, color='#3393FF', linewidth=2.5)`\n",
    "\n",
    "Set axis labels and graph title\n",
    "\n",
    "`ax.set(xlabel=\"Time (years)\", ylabel=\"Emissions (Metric Tons per Capita)\", title=\"Global CO2 Emission over Time\")`\n",
    "\n",
    "Enable grid\n",
    "\n",
    "`ax.grid()`"
   ]
  },
  {
   "cell_type": "code",
   "execution_count": 32,
   "metadata": {},
   "outputs": [
    {
     "data": {
      "image/png": "[encoded data removed]",
      "text/plain": [
       "<matplotlib.figure.Figure at 0x11ba024a8>"
      ]
     },
     "metadata": {
      "needs_background": "light"
     },
     "output_type": "display_data"
    }
   ],
   "source": [
    "fig, ax = plt.subplots(figsize=(10,8))\n",
    "ax.plot(e, color=\"#3393FF\", linewidth=2.5)\n",
    "ax.set(xlabel='Time (years)', ylabel=\"Emissions (Metric Tons per Capita)\",title=\"Global CO2 Emission over Time\")\n",
    "\n",
    "ax.grid()"
   ]
  },
  {
   "cell_type": "markdown",
   "metadata": {},
   "source": [
    "#### Creating Interactive Plots"
   ]
  },
  {
   "cell_type": "code",
   "execution_count": 33,
   "metadata": {},
   "outputs": [
    {
     "data": {
      "text/html": [
       "        <script type=\"text/javascript\">\n",
       "        window.PlotlyConfig = {MathJaxConfig: 'local'};\n",
       "        if (window.MathJax) {MathJax.Hub.Config({SVG: {font: \"STIX-Web\"}});}\n",
       "        if (typeof require !== 'undefined') {\n",
       "        require.undef(\"plotly\");\n",
       "        requirejs.config({\n",
       "            paths: {\n",
       "                'plotly': ['https://cdn.plot.ly/plotly-latest.min']\n",
       "            }\n",
       "        });\n",
       "        require(['plotly'], function(Plotly) {\n",
       "            window._Plotly = Plotly;\n",
       "        });\n",
       "        }\n",
       "        </script>\n",
       "        "
      ]
     },
     "metadata": {},
     "output_type": "display_data"
    },
    {
     "data": {
      "text/html": [
       "        <script type=\"text/javascript\">\n",
       "        window.PlotlyConfig = {MathJaxConfig: 'local'};\n",
       "        if (window.MathJax) {MathJax.Hub.Config({SVG: {font: \"STIX-Web\"}});}\n",
       "        if (typeof require !== 'undefined') {\n",
       "        require.undef(\"plotly\");\n",
       "        requirejs.config({\n",
       "            paths: {\n",
       "                'plotly': ['https://cdn.plot.ly/plotly-latest.min']\n",
       "            }\n",
       "        });\n",
       "        require(['plotly'], function(Plotly) {\n",
       "            window._Plotly = Plotly;\n",
       "        });\n",
       "        }\n",
       "        </script>\n",
       "        "
      ]
     },
     "metadata": {},
     "output_type": "display_data"
    }
   ],
   "source": [
    "import chart_studio.plotly as py\n",
    "import plotly.graph_objs as go\n",
    "from plotly.offline import iplot, init_notebook_mode\n",
    "import cufflinks\n",
    "cufflinks.go_offline(connected=True)\n",
    "init_notebook_mode(connected=True)"
   ]
  },
  {
   "cell_type": "code",
   "execution_count": 34,
   "metadata": {},
   "outputs": [
    {
     "data": {
      "application/vnd.plotly.v1+json": {
       "config": {
        "linkText": "Export to plot.ly",
        "plotlyServerURL": "https://plot.ly",
        "showLink": true
       },
       "data": [
        {
         "line": {
          "color": "rgba(28, 124, 84, 1.0)",
          "dash": "solid",
          "shape": "linear",
          "width": 1.3
         },
         "mode": "lines",
         "name": "Avg_Anomaly_deg_C",
         "text": "",
         "type": "scatter",
         "x": [
          "1880-12-31",
          "1881-12-31",
          "1882-12-31",
          "1883-12-31",
          "1884-12-31",
          "1885-12-31",
          "1886-12-31",
          "1887-12-31",
          "1888-12-31",
          "1889-12-31",
          "1890-12-31",
          "1891-12-31",
          "1892-12-31",
          "1893-12-31",
          "1894-12-31",
          "1895-12-31",
          "1896-12-31",
          "1897-12-31",
          "1898-12-31",
          "1899-12-31",
          "1900-12-31",
          "1901-12-31",
          "1902-12-31",
          "1903-12-31",
          "1904-12-31",
          "1905-12-31",
          "1906-12-31",
          "1907-12-31",
          "1908-12-31",
          "1909-12-31",
          "1910-12-31",
          "1911-12-31",
          "1912-12-31",
          "1913-12-31",
          "1914-12-31",
          "1915-12-31",
          "1916-12-31",
          "1917-12-31",
          "1918-12-31",
          "1919-12-31",
          "1920-12-31",
          "1921-12-31",
          "1922-12-31",
          "1923-12-31",
          "1924-12-31",
          "1925-12-31",
          "1926-12-31",
          "1927-12-31",
          "1928-12-31",
          "1929-12-31",
          "1930-12-31",
          "1931-12-31",
          "1932-12-31",
          "1933-12-31",
          "1934-12-31",
          "1935-12-31",
          "1936-12-31",
          "1937-12-31",
          "1938-12-31",
          "1939-12-31",
          "1940-12-31",
          "1941-12-31",
          "1942-12-31",
          "1943-12-31",
          "1944-12-31",
          "1945-12-31",
          "1946-12-31",
          "1947-12-31",
          "1948-12-31",
          "1949-12-31",
          "1950-12-31",
          "1951-12-31",
          "1952-12-31",
          "1953-12-31",
          "1954-12-31",
          "1955-12-31",
          "1956-12-31",
          "1957-12-31",
          "1958-12-31",
          "1959-12-31",
          "1960-12-31",
          "1961-12-31",
          "1962-12-31",
          "1963-12-31",
          "1964-12-31",
          "1965-12-31",
          "1966-12-31",
          "1967-12-31",
          "1968-12-31",
          "1969-12-31",
          "1970-12-31",
          "1971-12-31",
          "1972-12-31",
          "1973-12-31",
          "1974-12-31",
          "1975-12-31",
          "1976-12-31",
          "1977-12-31",
          "1978-12-31",
          "1979-12-31",
          "1980-12-31",
          "1981-12-31",
          "1982-12-31",
          "1983-12-31",
          "1984-12-31",
          "1985-12-31",
          "1986-12-31",
          "1987-12-31",
          "1988-12-31",
          "1989-12-31",
          "1990-12-31",
          "1991-12-31",
          "1992-12-31",
          "1993-12-31",
          "1994-12-31",
          "1995-12-31",
          "1996-12-31",
          "1997-12-31",
          "1998-12-31",
          "1999-12-31",
          "2000-12-31",
          "2001-12-31",
          "2002-12-31",
          "2003-12-31",
          "2004-12-31",
          "2005-12-31",
          "2006-12-31",
          "2007-12-31",
          "2008-12-31",
          "2009-12-31",
          "2010-12-31",
          "2011-12-31",
          "2012-12-31",
          "2013-12-31",
          "2014-12-31",
          "2015-12-31",
          "2016-12-31",
          "2017-12-31",
          "2018-12-31",
          "2019-12-31"
         ],
         "y": [
          -0.1875,
          -0.10083333333333334,
          -0.10999999999999999,
          -0.19166666666666668,
          -0.29416666666666663,
          -0.315,
          -0.3233333333333333,
          -0.3516666666666666,
          -0.1791666666666667,
          -0.10833333333333334,
          -0.37083333333333335,
          -0.23666666666666666,
          -0.26833333333333337,
          -0.32,
          -0.31500000000000006,
          -0.2275,
          -0.11750000000000001,
          -0.11916666666666664,
          -0.2816666666666667,
          -0.18250000000000002,
          -0.09166666666666667,
          -0.15666666666666668,
          -0.29750000000000004,
          -0.38916666666666666,
          -0.4941666666666667,
          -0.2891666666666667,
          -0.22500000000000006,
          -0.39666666666666667,
          -0.43583333333333335,
          -0.4749999999999999,
          -0.43249999999999994,
          -0.43333333333333335,
          -0.3575,
          -0.35666666666666674,
          -0.15666666666666668,
          -0.12666666666666668,
          -0.3333333333333333,
          -0.44083333333333335,
          -0.2883333333333333,
          -0.2741666666666667,
          -0.265,
          -0.18333333333333332,
          -0.2775,
          -0.2508333333333333,
          -0.2591666666666667,
          -0.20833333333333337,
          -0.09583333333333334,
          -0.20833333333333334,
          -0.19666666666666666,
          -0.3508333333333334,
          -0.1491666666666667,
          -0.10083333333333334,
          -0.165,
          -0.295,
          -0.13583333333333333,
          -0.2041666666666667,
          -0.1575,
          -0.035833333333333335,
          -0.030833333333333334,
          -0.02666666666666667,
          0.1175,
          0.18333333333333335,
          0.05499999999999999,
          0.07083333333333335,
          0.20833333333333334,
          0.08750000000000001,
          -0.06999999999999999,
          -0.03833333333333333,
          -0.1025,
          -0.10666666666666667,
          -0.18166666666666667,
          -0.06666666666666667,
          0.007499999999999999,
          0.06833333333333334,
          -0.1475,
          -0.14333333333333334,
          -0.205,
          0.0425,
          0.06916666666666667,
          0.02833333333333334,
          -0.02166666666666667,
          0.05583333333333334,
          0.03833333333333334,
          0.06916666666666667,
          -0.1975,
          -0.10583333333333335,
          -0.04916666666666667,
          -0.023333333333333334,
          -0.07666666666666667,
          0.0675,
          0.03166666666666666,
          -0.09083333333333334,
          0.013333333333333336,
          0.16166666666666665,
          -0.07916666666666668,
          -0.013333333333333334,
          -0.1075,
          0.1708333333333333,
          0.06416666666666668,
          0.15833333333333333,
          0.27083333333333337,
          0.33083333333333326,
          0.13249999999999998,
          0.315,
          0.1608333333333333,
          0.11833333333333335,
          0.18000000000000002,
          0.3325000000000001,
          0.4075,
          0.2891666666666666,
          0.44083333333333335,
          0.41416666666666657,
          0.2233333333333333,
          0.2383333333333334,
          0.30750000000000005,
          0.445,
          0.335,
          0.4683333333333333,
          0.6225,
          0.3966666666666667,
          0.39916666666666667,
          0.5291666666666667,
          0.6208333333333333,
          0.6050000000000001,
          0.5316666666666666,
          0.6666666666666666,
          0.6166666666666667,
          0.6375000000000001,
          0.5158333333333333,
          0.6316666666666667,
          0.6966666666666667,
          0.5824999999999999,
          0.6175,
          0.6466666666666668,
          0.7316666666666666,
          0.8658333333333332,
          0.9916666666666668,
          0.9025000000000002,
          0.8233333333333334,
          0.9150000000000001
         ]
        }
       ],
       "layout": {
        "legend": {
         "bgcolor": "#F5F6F9",
         "font": {
          "color": "#4D5663"
         }
        },
        "paper_bgcolor": "#F5F6F9",
        "plot_bgcolor": "#F5F6F9",
        "template": {
         "data": {
          "bar": [
           {
            "error_x": {
             "color": "#2a3f5f"
            },
            "error_y": {
             "color": "#2a3f5f"
            },
            "marker": {
             "line": {
              "color": "#E5ECF6",
              "width": 0.5
             }
            },
            "type": "bar"
           }
          ],
          "barpolar": [
           {
            "marker": {
             "line": {
              "color": "#E5ECF6",
              "width": 0.5
             }
            },
            "type": "barpolar"
           }
          ],
          "carpet": [
           {
            "aaxis": {
             "endlinecolor": "#2a3f5f",
             "gridcolor": "white",
             "linecolor": "white",
             "minorgridcolor": "white",
             "startlinecolor": "#2a3f5f"
            },
            "baxis": {
             "endlinecolor": "#2a3f5f",
             "gridcolor": "white",
             "linecolor": "white",
             "minorgridcolor": "white",
             "startlinecolor": "#2a3f5f"
            },
            "type": "carpet"
           }
          ],
          "choropleth": [
           {
            "colorbar": {
             "outlinewidth": 0,
             "ticks": ""
            },
            "type": "choropleth"
           }
          ],
          "contour": [
           {
            "colorbar": {
             "outlinewidth": 0,
             "ticks": ""
            },
            "colorscale": [
             [
              0,
              "#0d0887"
             ],
             [
              0.1111111111111111,
              "#46039f"
             ],
             [
              0.2222222222222222,
              "#7201a8"
             ],
             [
              0.3333333333333333,
              "#9c179e"
             ],
             [
              0.4444444444444444,
              "#bd3786"
             ],
             [
              0.5555555555555556,
              "#d8576b"
             ],
             [
              0.6666666666666666,
              "#ed7953"
             ],
             [
              0.7777777777777778,
              "#fb9f3a"
             ],
             [
              0.8888888888888888,
              "#fdca26"
             ],
             [
              1,
              "#f0f921"
             ]
            ],
            "type": "contour"
           }
          ],
          "contourcarpet": [
           {
            "colorbar": {
             "outlinewidth": 0,
             "ticks": ""
            },
            "type": "contourcarpet"
           }
          ],
          "heatmap": [
           {
            "colorbar": {
             "outlinewidth": 0,
             "ticks": ""
            },
            "colorscale": [
             [
              0,
              "#0d0887"
             ],
             [
              0.1111111111111111,
              "#46039f"
             ],
             [
              0.2222222222222222,
              "#7201a8"
             ],
             [
              0.3333333333333333,
              "#9c179e"
             ],
             [
              0.4444444444444444,
              "#bd3786"
             ],
             [
              0.5555555555555556,
              "#d8576b"
             ],
             [
              0.6666666666666666,
              "#ed7953"
             ],
             [
              0.7777777777777778,
              "#fb9f3a"
             ],
             [
              0.8888888888888888,
              "#fdca26"
             ],
             [
              1,
              "#f0f921"
             ]
            ],
            "type": "heatmap"
           }
          ],
          "heatmapgl": [
           {
            "colorbar": {
             "outlinewidth": 0,
             "ticks": ""
            },
            "colorscale": [
             [
              0,
              "#0d0887"
             ],
             [
              0.1111111111111111,
              "#46039f"
             ],
             [
              0.2222222222222222,
              "#7201a8"
             ],
             [
              0.3333333333333333,
              "#9c179e"
             ],
             [
              0.4444444444444444,
              "#bd3786"
             ],
             [
              0.5555555555555556,
              "#d8576b"
             ],
             [
              0.6666666666666666,
              "#ed7953"
             ],
             [
              0.7777777777777778,
              "#fb9f3a"
             ],
             [
              0.8888888888888888,
              "#fdca26"
             ],
             [
              1,
              "#f0f921"
             ]
            ],
            "type": "heatmapgl"
           }
          ],
          "histogram": [
           {
            "marker": {
             "colorbar": {
              "outlinewidth": 0,
              "ticks": ""
             }
            },
            "type": "histogram"
           }
          ],
          "histogram2d": [
           {
            "colorbar": {
             "outlinewidth": 0,
             "ticks": ""
            },
            "colorscale": [
             [
              0,
              "#0d0887"
             ],
             [
              0.1111111111111111,
              "#46039f"
             ],
             [
              0.2222222222222222,
              "#7201a8"
             ],
             [
              0.3333333333333333,
              "#9c179e"
             ],
             [
              0.4444444444444444,
              "#bd3786"
             ],
             [
              0.5555555555555556,
              "#d8576b"
             ],
             [
              0.6666666666666666,
              "#ed7953"
             ],
             [
              0.7777777777777778,
              "#fb9f3a"
             ],
             [
              0.8888888888888888,
              "#fdca26"
             ],
             [
              1,
              "#f0f921"
             ]
            ],
            "type": "histogram2d"
           }
          ],
          "histogram2dcontour": [
           {
            "colorbar": {
             "outlinewidth": 0,
             "ticks": ""
            },
            "colorscale": [
             [
              0,
              "#0d0887"
             ],
             [
              0.1111111111111111,
              "#46039f"
             ],
             [
              0.2222222222222222,
              "#7201a8"
             ],
             [
              0.3333333333333333,
              "#9c179e"
             ],
             [
              0.4444444444444444,
              "#bd3786"
             ],
             [
              0.5555555555555556,
              "#d8576b"
             ],
             [
              0.6666666666666666,
              "#ed7953"
             ],
             [
              0.7777777777777778,
              "#fb9f3a"
             ],
             [
              0.8888888888888888,
              "#fdca26"
             ],
             [
              1,
              "#f0f921"
             ]
            ],
            "type": "histogram2dcontour"
           }
          ],
          "mesh3d": [
           {
            "colorbar": {
             "outlinewidth": 0,
             "ticks": ""
            },
            "type": "mesh3d"
           }
          ],
          "parcoords": [
           {
            "line": {
             "colorbar": {
              "outlinewidth": 0,
              "ticks": ""
             }
            },
            "type": "parcoords"
           }
          ],
          "pie": [
           {
            "automargin": true,
            "type": "pie"
           }
          ],
          "scatter": [
           {
            "marker": {
             "colorbar": {
              "outlinewidth": 0,
              "ticks": ""
             }
            },
            "type": "scatter"
           }
          ],
          "scatter3d": [
           {
            "line": {
             "colorbar": {
              "outlinewidth": 0,
              "ticks": ""
             }
            },
            "marker": {
             "colorbar": {
              "outlinewidth": 0,
              "ticks": ""
             }
            },
            "type": "scatter3d"
           }
          ],
          "scattercarpet": [
           {
            "marker": {
             "colorbar": {
              "outlinewidth": 0,
              "ticks": ""
             }
            },
            "type": "scattercarpet"
           }
          ],
          "scattergeo": [
           {
            "marker": {
             "colorbar": {
              "outlinewidth": 0,
              "ticks": ""
             }
            },
            "type": "scattergeo"
           }
          ],
          "scattergl": [
           {
            "marker": {
             "colorbar": {
              "outlinewidth": 0,
              "ticks": ""
             }
            },
            "type": "scattergl"
           }
          ],
          "scattermapbox": [
           {
            "marker": {
             "colorbar": {
              "outlinewidth": 0,
              "ticks": ""
             }
            },
            "type": "scattermapbox"
           }
          ],
          "scatterpolar": [
           {
            "marker": {
             "colorbar": {
              "outlinewidth": 0,
              "ticks": ""
             }
            },
            "type": "scatterpolar"
           }
          ],
          "scatterpolargl": [
           {
            "marker": {
             "colorbar": {
              "outlinewidth": 0,
              "ticks": ""
             }
            },
            "type": "scatterpolargl"
           }
          ],
          "scatterternary": [
           {
            "marker": {
             "colorbar": {
              "outlinewidth": 0,
              "ticks": ""
             }
            },
            "type": "scatterternary"
           }
          ],
          "surface": [
           {
            "colorbar": {
             "outlinewidth": 0,
             "ticks": ""
            },
            "colorscale": [
             [
              0,
              "#0d0887"
             ],
             [
              0.1111111111111111,
              "#46039f"
             ],
             [
              0.2222222222222222,
              "#7201a8"
             ],
             [
              0.3333333333333333,
              "#9c179e"
             ],
             [
              0.4444444444444444,
              "#bd3786"
             ],
             [
              0.5555555555555556,
              "#d8576b"
             ],
             [
              0.6666666666666666,
              "#ed7953"
             ],
             [
              0.7777777777777778,
              "#fb9f3a"
             ],
             [
              0.8888888888888888,
              "#fdca26"
             ],
             [
              1,
              "#f0f921"
             ]
            ],
            "type": "surface"
           }
          ],
          "table": [
           {
            "cells": {
             "fill": {
              "color": "#EBF0F8"
             },
             "line": {
              "color": "white"
             }
            },
            "header": {
             "fill": {
              "color": "#C8D4E3"
             },
             "line": {
              "color": "white"
             }
            },
            "type": "table"
           }
          ]
         },
         "layout": {
          "annotationdefaults": {
           "arrowcolor": "#2a3f5f",
           "arrowhead": 0,
           "arrowwidth": 1
          },
          "coloraxis": {
           "colorbar": {
            "outlinewidth": 0,
            "ticks": ""
           }
          },
          "colorscale": {
           "diverging": [
            [
             0,
             "#8e0152"
            ],
            [
             0.1,
             "#c51b7d"
            ],
            [
             0.2,
             "#de77ae"
            ],
            [
             0.3,
             "#f1b6da"
            ],
            [
             0.4,
             "#fde0ef"
            ],
            [
             0.5,
             "#f7f7f7"
            ],
            [
             0.6,
             "#e6f5d0"
            ],
            [
             0.7,
             "#b8e186"
            ],
            [
             0.8,
             "#7fbc41"
            ],
            [
             0.9,
             "#4d9221"
            ],
            [
             1,
             "#276419"
            ]
           ],
           "sequential": [
            [
             0,
             "#0d0887"
            ],
            [
             0.1111111111111111,
             "#46039f"
            ],
            [
             0.2222222222222222,
             "#7201a8"
            ],
            [
             0.3333333333333333,
             "#9c179e"
            ],
            [
             0.4444444444444444,
             "#bd3786"
            ],
            [
             0.5555555555555556,
             "#d8576b"
            ],
            [
             0.6666666666666666,
             "#ed7953"
            ],
            [
             0.7777777777777778,
             "#fb9f3a"
            ],
            [
             0.8888888888888888,
             "#fdca26"
            ],
            [
             1,
             "#f0f921"
            ]
           ],
           "sequentialminus": [
            [
             0,
             "#0d0887"
            ],
            [
             0.1111111111111111,
             "#46039f"
            ],
            [
             0.2222222222222222,
             "#7201a8"
            ],
            [
             0.3333333333333333,
             "#9c179e"
            ],
            [
             0.4444444444444444,
             "#bd3786"
            ],
            [
             0.5555555555555556,
             "#d8576b"
            ],
            [
             0.6666666666666666,
             "#ed7953"
            ],
            [
             0.7777777777777778,
             "#fb9f3a"
            ],
            [
             0.8888888888888888,
             "#fdca26"
            ],
            [
             1,
             "#f0f921"
            ]
           ]
          },
          "colorway": [
           "#636efa",
           "#EF553B",
           "#00cc96",
           "#ab63fa",
           "#FFA15A",
           "#19d3f3",
           "#FF6692",
           "#B6E880",
           "#FF97FF",
           "#FECB52"
          ],
          "font": {
           "color": "#2a3f5f"
          },
          "geo": {
           "bgcolor": "white",
           "lakecolor": "white",
           "landcolor": "#E5ECF6",
           "showlakes": true,
           "showland": true,
           "subunitcolor": "white"
          },
          "hoverlabel": {
           "align": "left"
          },
          "hovermode": "closest",
          "mapbox": {
           "style": "light"
          },
          "paper_bgcolor": "white",
          "plot_bgcolor": "#E5ECF6",
          "polar": {
           "angularaxis": {
            "gridcolor": "white",
            "linecolor": "white",
            "ticks": ""
           },
           "bgcolor": "#E5ECF6",
           "radialaxis": {
            "gridcolor": "white",
            "linecolor": "white",
            "ticks": ""
           }
          },
          "scene": {
           "xaxis": {
            "backgroundcolor": "#E5ECF6",
            "gridcolor": "white",
            "gridwidth": 2,
            "linecolor": "white",
            "showbackground": true,
            "ticks": "",
            "zerolinecolor": "white"
           },
           "yaxis": {
            "backgroundcolor": "#E5ECF6",
            "gridcolor": "white",
            "gridwidth": 2,
            "linecolor": "white",
            "showbackground": true,
            "ticks": "",
            "zerolinecolor": "white"
           },
           "zaxis": {
            "backgroundcolor": "#E5ECF6",
            "gridcolor": "white",
            "gridwidth": 2,
            "linecolor": "white",
            "showbackground": true,
            "ticks": "",
            "zerolinecolor": "white"
           }
          },
          "shapedefaults": {
           "line": {
            "color": "#2a3f5f"
           }
          },
          "ternary": {
           "aaxis": {
            "gridcolor": "white",
            "linecolor": "white",
            "ticks": ""
           },
           "baxis": {
            "gridcolor": "white",
            "linecolor": "white",
            "ticks": ""
           },
           "bgcolor": "#E5ECF6",
           "caxis": {
            "gridcolor": "white",
            "linecolor": "white",
            "ticks": ""
           }
          },
          "title": {
           "x": 0.05
          },
          "xaxis": {
           "automargin": true,
           "gridcolor": "white",
           "linecolor": "white",
           "ticks": "",
           "title": {
            "standoff": 15
           },
           "zerolinecolor": "white",
           "zerolinewidth": 2
          },
          "yaxis": {
           "automargin": true,
           "gridcolor": "white",
           "linecolor": "white",
           "ticks": "",
           "title": {
            "standoff": 15
           },
           "zerolinecolor": "white",
           "zerolinewidth": 2
          }
         }
        },
        "title": {
         "font": {
          "color": "#4D5663"
         },
         "text": "Global Temperature Anomalies"
        },
        "xaxis": {
         "gridcolor": "#E1E5ED",
         "showgrid": true,
         "tickfont": {
          "color": "#4D5663"
         },
         "title": {
          "font": {
           "color": "#4D5663"
          },
          "text": "Time (years)"
         },
         "zerolinecolor": "#E1E5ED"
        },
        "yaxis": {
         "gridcolor": "#E1E5ED",
         "showgrid": true,
         "tickfont": {
          "color": "#4D5663"
         },
         "title": {
          "font": {
           "color": "#4D5663"
          },
          "text": "Temperature Anomaly (deg. Celsius)"
         },
         "zerolinecolor": "#E1E5ED"
        }
       }
      },
      "text/html": [
       "<div>\n",
       "        \n",
       "        \n",
       "            <div id=\"9e9946c4-02b4-4bec-9d58-e8eb0162bc27\" class=\"plotly-graph-div\" style=\"height:525px; width:100%;\"></div>\n",
       "            <script type=\"text/javascript\">\n",
       "                require([\"plotly\"], function(Plotly) {\n",
       "                    window.PLOTLYENV=window.PLOTLYENV || {};\n",
       "                    window.PLOTLYENV.BASE_URL='https://plot.ly';\n",
       "                    \n",
       "                if (document.getElementById(\"9e9946c4-02b4-4bec-9d58-e8eb0162bc27\")) {\n",
       "                    Plotly.newPlot(\n",
       "                        '9e9946c4-02b4-4bec-9d58-e8eb0162bc27',\n",
       "                        [{\"line\": {\"color\": \"rgba(28, 124, 84, 1.0)\", \"dash\": \"solid\", \"shape\": \"linear\", \"width\": 1.3}, \"mode\": \"lines\", \"name\": \"Avg_Anomaly_deg_C\", \"text\": \"\", \"type\": \"scatter\", \"x\": [\"1880-12-31\", \"1881-12-31\", \"1882-12-31\", \"1883-12-31\", \"1884-12-31\", \"1885-12-31\", \"1886-12-31\", \"1887-12-31\", \"1888-12-31\", \"1889-12-31\", \"1890-12-31\", \"1891-12-31\", \"1892-12-31\", \"1893-12-31\", \"1894-12-31\", \"1895-12-31\", \"1896-12-31\", \"1897-12-31\", \"1898-12-31\", \"1899-12-31\", \"1900-12-31\", \"1901-12-31\", \"1902-12-31\", \"1903-12-31\", \"1904-12-31\", \"1905-12-31\", \"1906-12-31\", \"1907-12-31\", \"1908-12-31\", \"1909-12-31\", \"1910-12-31\", \"1911-12-31\", \"1912-12-31\", \"1913-12-31\", \"1914-12-31\", \"1915-12-31\", \"1916-12-31\", \"1917-12-31\", \"1918-12-31\", \"1919-12-31\", \"1920-12-31\", \"1921-12-31\", \"1922-12-31\", \"1923-12-31\", \"1924-12-31\", \"1925-12-31\", \"1926-12-31\", \"1927-12-31\", \"1928-12-31\", \"1929-12-31\", \"1930-12-31\", \"1931-12-31\", \"1932-12-31\", \"1933-12-31\", \"1934-12-31\", \"1935-12-31\", \"1936-12-31\", \"1937-12-31\", \"1938-12-31\", \"1939-12-31\", \"1940-12-31\", \"1941-12-31\", \"1942-12-31\", \"1943-12-31\", \"1944-12-31\", \"1945-12-31\", \"1946-12-31\", \"1947-12-31\", \"1948-12-31\", \"1949-12-31\", \"1950-12-31\", \"1951-12-31\", \"1952-12-31\", \"1953-12-31\", \"1954-12-31\", \"1955-12-31\", \"1956-12-31\", \"1957-12-31\", \"1958-12-31\", \"1959-12-31\", \"1960-12-31\", \"1961-12-31\", \"1962-12-31\", \"1963-12-31\", \"1964-12-31\", \"1965-12-31\", \"1966-12-31\", \"1967-12-31\", \"1968-12-31\", \"1969-12-31\", \"1970-12-31\", \"1971-12-31\", \"1972-12-31\", \"1973-12-31\", \"1974-12-31\", \"1975-12-31\", \"1976-12-31\", \"1977-12-31\", \"1978-12-31\", \"1979-12-31\", \"1980-12-31\", \"1981-12-31\", \"1982-12-31\", \"1983-12-31\", \"1984-12-31\", \"1985-12-31\", \"1986-12-31\", \"1987-12-31\", \"1988-12-31\", \"1989-12-31\", \"1990-12-31\", \"1991-12-31\", \"1992-12-31\", \"1993-12-31\", \"1994-12-31\", \"1995-12-31\", \"1996-12-31\", \"1997-12-31\", \"1998-12-31\", \"1999-12-31\", \"2000-12-31\", \"2001-12-31\", \"2002-12-31\", \"2003-12-31\", \"2004-12-31\", \"2005-12-31\", \"2006-12-31\", \"2007-12-31\", \"2008-12-31\", \"2009-12-31\", \"2010-12-31\", \"2011-12-31\", \"2012-12-31\", \"2013-12-31\", \"2014-12-31\", \"2015-12-31\", \"2016-12-31\", \"2017-12-31\", \"2018-12-31\", \"2019-12-31\"], \"y\": [-0.1875, -0.10083333333333334, -0.10999999999999999, -0.19166666666666668, -0.29416666666666663, -0.315, -0.3233333333333333, -0.3516666666666666, -0.1791666666666667, -0.10833333333333334, -0.37083333333333335, -0.23666666666666666, -0.26833333333333337, -0.32, -0.31500000000000006, -0.2275, -0.11750000000000001, -0.11916666666666664, -0.2816666666666667, -0.18250000000000002, -0.09166666666666667, -0.15666666666666668, -0.29750000000000004, -0.38916666666666666, -0.4941666666666667, -0.2891666666666667, -0.22500000000000006, -0.39666666666666667, -0.43583333333333335, -0.4749999999999999, -0.43249999999999994, -0.43333333333333335, -0.3575, -0.35666666666666674, -0.15666666666666668, -0.12666666666666668, -0.3333333333333333, -0.44083333333333335, -0.2883333333333333, -0.2741666666666667, -0.265, -0.18333333333333332, -0.2775, -0.2508333333333333, -0.2591666666666667, -0.20833333333333337, -0.09583333333333334, -0.20833333333333334, -0.19666666666666666, -0.3508333333333334, -0.1491666666666667, -0.10083333333333334, -0.165, -0.295, -0.13583333333333333, -0.2041666666666667, -0.1575, -0.035833333333333335, -0.030833333333333334, -0.02666666666666667, 0.1175, 0.18333333333333335, 0.05499999999999999, 0.07083333333333335, 0.20833333333333334, 0.08750000000000001, -0.06999999999999999, -0.03833333333333333, -0.1025, -0.10666666666666667, -0.18166666666666667, -0.06666666666666667, 0.007499999999999999, 0.06833333333333334, -0.1475, -0.14333333333333334, -0.205, 0.0425, 0.06916666666666667, 0.02833333333333334, -0.02166666666666667, 0.05583333333333334, 0.03833333333333334, 0.06916666666666667, -0.1975, -0.10583333333333335, -0.04916666666666667, -0.023333333333333334, -0.07666666666666667, 0.0675, 0.03166666666666666, -0.09083333333333334, 0.013333333333333336, 0.16166666666666665, -0.07916666666666668, -0.013333333333333334, -0.1075, 0.1708333333333333, 0.06416666666666668, 0.15833333333333333, 0.27083333333333337, 0.33083333333333326, 0.13249999999999998, 0.315, 0.1608333333333333, 0.11833333333333335, 0.18000000000000002, 0.3325000000000001, 0.4075, 0.2891666666666666, 0.44083333333333335, 0.41416666666666657, 0.2233333333333333, 0.2383333333333334, 0.30750000000000005, 0.445, 0.335, 0.4683333333333333, 0.6225, 0.3966666666666667, 0.39916666666666667, 0.5291666666666667, 0.6208333333333333, 0.6050000000000001, 0.5316666666666666, 0.6666666666666666, 0.6166666666666667, 0.6375000000000001, 0.5158333333333333, 0.6316666666666667, 0.6966666666666667, 0.5824999999999999, 0.6175, 0.6466666666666668, 0.7316666666666666, 0.8658333333333332, 0.9916666666666668, 0.9025000000000002, 0.8233333333333334, 0.9150000000000001]}],\n",
       "                        {\"legend\": {\"bgcolor\": \"#F5F6F9\", \"font\": {\"color\": \"#4D5663\"}}, \"paper_bgcolor\": \"#F5F6F9\", \"plot_bgcolor\": \"#F5F6F9\", \"template\": {\"data\": {\"bar\": [{\"error_x\": {\"color\": \"#2a3f5f\"}, \"error_y\": {\"color\": \"#2a3f5f\"}, \"marker\": {\"line\": {\"color\": \"#E5ECF6\", \"width\": 0.5}}, \"type\": \"bar\"}], \"barpolar\": [{\"marker\": {\"line\": {\"color\": \"#E5ECF6\", \"width\": 0.5}}, \"type\": \"barpolar\"}], \"carpet\": [{\"aaxis\": {\"endlinecolor\": \"#2a3f5f\", \"gridcolor\": \"white\", \"linecolor\": \"white\", \"minorgridcolor\": \"white\", \"startlinecolor\": \"#2a3f5f\"}, \"baxis\": {\"endlinecolor\": \"#2a3f5f\", \"gridcolor\": \"white\", \"linecolor\": \"white\", \"minorgridcolor\": \"white\", \"startlinecolor\": \"#2a3f5f\"}, \"type\": \"carpet\"}], \"choropleth\": [{\"colorbar\": {\"outlinewidth\": 0, \"ticks\": \"\"}, \"type\": \"choropleth\"}], \"contour\": [{\"colorbar\": {\"outlinewidth\": 0, \"ticks\": \"\"}, \"colorscale\": [[0.0, \"#0d0887\"], [0.1111111111111111, \"#46039f\"], [0.2222222222222222, \"#7201a8\"], [0.3333333333333333, \"#9c179e\"], [0.4444444444444444, \"#bd3786\"], [0.5555555555555556, \"#d8576b\"], [0.6666666666666666, \"#ed7953\"], [0.7777777777777778, \"#fb9f3a\"], [0.8888888888888888, \"#fdca26\"], [1.0, \"#f0f921\"]], \"type\": \"contour\"}], \"contourcarpet\": [{\"colorbar\": {\"outlinewidth\": 0, \"ticks\": \"\"}, \"type\": \"contourcarpet\"}], \"heatmap\": [{\"colorbar\": {\"outlinewidth\": 0, \"ticks\": \"\"}, \"colorscale\": [[0.0, \"#0d0887\"], [0.1111111111111111, \"#46039f\"], [0.2222222222222222, \"#7201a8\"], [0.3333333333333333, \"#9c179e\"], [0.4444444444444444, \"#bd3786\"], [0.5555555555555556, \"#d8576b\"], [0.6666666666666666, \"#ed7953\"], [0.7777777777777778, \"#fb9f3a\"], [0.8888888888888888, \"#fdca26\"], [1.0, \"#f0f921\"]], \"type\": \"heatmap\"}], \"heatmapgl\": [{\"colorbar\": {\"outlinewidth\": 0, \"ticks\": \"\"}, \"colorscale\": [[0.0, \"#0d0887\"], [0.1111111111111111, \"#46039f\"], [0.2222222222222222, \"#7201a8\"], [0.3333333333333333, \"#9c179e\"], [0.4444444444444444, \"#bd3786\"], [0.5555555555555556, \"#d8576b\"], [0.6666666666666666, \"#ed7953\"], [0.7777777777777778, \"#fb9f3a\"], [0.8888888888888888, \"#fdca26\"], [1.0, \"#f0f921\"]], \"type\": \"heatmapgl\"}], \"histogram\": [{\"marker\": {\"colorbar\": {\"outlinewidth\": 0, \"ticks\": \"\"}}, \"type\": \"histogram\"}], \"histogram2d\": [{\"colorbar\": {\"outlinewidth\": 0, \"ticks\": \"\"}, \"colorscale\": [[0.0, \"#0d0887\"], [0.1111111111111111, \"#46039f\"], [0.2222222222222222, \"#7201a8\"], [0.3333333333333333, \"#9c179e\"], [0.4444444444444444, \"#bd3786\"], [0.5555555555555556, \"#d8576b\"], [0.6666666666666666, \"#ed7953\"], [0.7777777777777778, \"#fb9f3a\"], [0.8888888888888888, \"#fdca26\"], [1.0, \"#f0f921\"]], \"type\": \"histogram2d\"}], \"histogram2dcontour\": [{\"colorbar\": {\"outlinewidth\": 0, \"ticks\": \"\"}, \"colorscale\": [[0.0, \"#0d0887\"], [0.1111111111111111, \"#46039f\"], [0.2222222222222222, \"#7201a8\"], [0.3333333333333333, \"#9c179e\"], [0.4444444444444444, \"#bd3786\"], [0.5555555555555556, \"#d8576b\"], [0.6666666666666666, \"#ed7953\"], [0.7777777777777778, \"#fb9f3a\"], [0.8888888888888888, \"#fdca26\"], [1.0, \"#f0f921\"]], \"type\": \"histogram2dcontour\"}], \"mesh3d\": [{\"colorbar\": {\"outlinewidth\": 0, \"ticks\": \"\"}, \"type\": \"mesh3d\"}], \"parcoords\": [{\"line\": {\"colorbar\": {\"outlinewidth\": 0, \"ticks\": \"\"}}, \"type\": \"parcoords\"}], \"pie\": [{\"automargin\": true, \"type\": \"pie\"}], \"scatter\": [{\"marker\": {\"colorbar\": {\"outlinewidth\": 0, \"ticks\": \"\"}}, \"type\": \"scatter\"}], \"scatter3d\": [{\"line\": {\"colorbar\": {\"outlinewidth\": 0, \"ticks\": \"\"}}, \"marker\": {\"colorbar\": {\"outlinewidth\": 0, \"ticks\": \"\"}}, \"type\": \"scatter3d\"}], \"scattercarpet\": [{\"marker\": {\"colorbar\": {\"outlinewidth\": 0, \"ticks\": \"\"}}, \"type\": \"scattercarpet\"}], \"scattergeo\": [{\"marker\": {\"colorbar\": {\"outlinewidth\": 0, \"ticks\": \"\"}}, \"type\": \"scattergeo\"}], \"scattergl\": [{\"marker\": {\"colorbar\": {\"outlinewidth\": 0, \"ticks\": \"\"}}, \"type\": \"scattergl\"}], \"scattermapbox\": [{\"marker\": {\"colorbar\": {\"outlinewidth\": 0, \"ticks\": \"\"}}, \"type\": \"scattermapbox\"}], \"scatterpolar\": [{\"marker\": {\"colorbar\": {\"outlinewidth\": 0, \"ticks\": \"\"}}, \"type\": \"scatterpolar\"}], \"scatterpolargl\": [{\"marker\": {\"colorbar\": {\"outlinewidth\": 0, \"ticks\": \"\"}}, \"type\": \"scatterpolargl\"}], \"scatterternary\": [{\"marker\": {\"colorbar\": {\"outlinewidth\": 0, \"ticks\": \"\"}}, \"type\": \"scatterternary\"}], \"surface\": [{\"colorbar\": {\"outlinewidth\": 0, \"ticks\": \"\"}, \"colorscale\": [[0.0, \"#0d0887\"], [0.1111111111111111, \"#46039f\"], [0.2222222222222222, \"#7201a8\"], [0.3333333333333333, \"#9c179e\"], [0.4444444444444444, \"#bd3786\"], [0.5555555555555556, \"#d8576b\"], [0.6666666666666666, \"#ed7953\"], [0.7777777777777778, \"#fb9f3a\"], [0.8888888888888888, \"#fdca26\"], [1.0, \"#f0f921\"]], \"type\": \"surface\"}], \"table\": [{\"cells\": {\"fill\": {\"color\": \"#EBF0F8\"}, \"line\": {\"color\": \"white\"}}, \"header\": {\"fill\": {\"color\": \"#C8D4E3\"}, \"line\": {\"color\": \"white\"}}, \"type\": \"table\"}]}, \"layout\": {\"annotationdefaults\": {\"arrowcolor\": \"#2a3f5f\", \"arrowhead\": 0, \"arrowwidth\": 1}, \"coloraxis\": {\"colorbar\": {\"outlinewidth\": 0, \"ticks\": \"\"}}, \"colorscale\": {\"diverging\": [[0, \"#8e0152\"], [0.1, \"#c51b7d\"], [0.2, \"#de77ae\"], [0.3, \"#f1b6da\"], [0.4, \"#fde0ef\"], [0.5, \"#f7f7f7\"], [0.6, \"#e6f5d0\"], [0.7, \"#b8e186\"], [0.8, \"#7fbc41\"], [0.9, \"#4d9221\"], [1, \"#276419\"]], \"sequential\": [[0.0, \"#0d0887\"], [0.1111111111111111, \"#46039f\"], [0.2222222222222222, \"#7201a8\"], [0.3333333333333333, \"#9c179e\"], [0.4444444444444444, \"#bd3786\"], [0.5555555555555556, \"#d8576b\"], [0.6666666666666666, \"#ed7953\"], [0.7777777777777778, \"#fb9f3a\"], [0.8888888888888888, \"#fdca26\"], [1.0, \"#f0f921\"]], \"sequentialminus\": [[0.0, \"#0d0887\"], [0.1111111111111111, \"#46039f\"], [0.2222222222222222, \"#7201a8\"], [0.3333333333333333, \"#9c179e\"], [0.4444444444444444, \"#bd3786\"], [0.5555555555555556, \"#d8576b\"], [0.6666666666666666, \"#ed7953\"], [0.7777777777777778, \"#fb9f3a\"], [0.8888888888888888, \"#fdca26\"], [1.0, \"#f0f921\"]]}, \"colorway\": [\"#636efa\", \"#EF553B\", \"#00cc96\", \"#ab63fa\", \"#FFA15A\", \"#19d3f3\", \"#FF6692\", \"#B6E880\", \"#FF97FF\", \"#FECB52\"], \"font\": {\"color\": \"#2a3f5f\"}, \"geo\": {\"bgcolor\": \"white\", \"lakecolor\": \"white\", \"landcolor\": \"#E5ECF6\", \"showlakes\": true, \"showland\": true, \"subunitcolor\": \"white\"}, \"hoverlabel\": {\"align\": \"left\"}, \"hovermode\": \"closest\", \"mapbox\": {\"style\": \"light\"}, \"paper_bgcolor\": \"white\", \"plot_bgcolor\": \"#E5ECF6\", \"polar\": {\"angularaxis\": {\"gridcolor\": \"white\", \"linecolor\": \"white\", \"ticks\": \"\"}, \"bgcolor\": \"#E5ECF6\", \"radialaxis\": {\"gridcolor\": \"white\", \"linecolor\": \"white\", \"ticks\": \"\"}}, \"scene\": {\"xaxis\": {\"backgroundcolor\": \"#E5ECF6\", \"gridcolor\": \"white\", \"gridwidth\": 2, \"linecolor\": \"white\", \"showbackground\": true, \"ticks\": \"\", \"zerolinecolor\": \"white\"}, \"yaxis\": {\"backgroundcolor\": \"#E5ECF6\", \"gridcolor\": \"white\", \"gridwidth\": 2, \"linecolor\": \"white\", \"showbackground\": true, \"ticks\": \"\", \"zerolinecolor\": \"white\"}, \"zaxis\": {\"backgroundcolor\": \"#E5ECF6\", \"gridcolor\": \"white\", \"gridwidth\": 2, \"linecolor\": \"white\", \"showbackground\": true, \"ticks\": \"\", \"zerolinecolor\": \"white\"}}, \"shapedefaults\": {\"line\": {\"color\": \"#2a3f5f\"}}, \"ternary\": {\"aaxis\": {\"gridcolor\": \"white\", \"linecolor\": \"white\", \"ticks\": \"\"}, \"baxis\": {\"gridcolor\": \"white\", \"linecolor\": \"white\", \"ticks\": \"\"}, \"bgcolor\": \"#E5ECF6\", \"caxis\": {\"gridcolor\": \"white\", \"linecolor\": \"white\", \"ticks\": \"\"}}, \"title\": {\"x\": 0.05}, \"xaxis\": {\"automargin\": true, \"gridcolor\": \"white\", \"linecolor\": \"white\", \"ticks\": \"\", \"title\": {\"standoff\": 15}, \"zerolinecolor\": \"white\", \"zerolinewidth\": 2}, \"yaxis\": {\"automargin\": true, \"gridcolor\": \"white\", \"linecolor\": \"white\", \"ticks\": \"\", \"title\": {\"standoff\": 15}, \"zerolinecolor\": \"white\", \"zerolinewidth\": 2}}}, \"title\": {\"font\": {\"color\": \"#4D5663\"}, \"text\": \"Global Temperature Anomalies\"}, \"xaxis\": {\"gridcolor\": \"#E1E5ED\", \"showgrid\": true, \"tickfont\": {\"color\": \"#4D5663\"}, \"title\": {\"font\": {\"color\": \"#4D5663\"}, \"text\": \"Time (years)\"}, \"zerolinecolor\": \"#E1E5ED\"}, \"yaxis\": {\"gridcolor\": \"#E1E5ED\", \"showgrid\": true, \"tickfont\": {\"color\": \"#4D5663\"}, \"title\": {\"font\": {\"color\": \"#4D5663\"}, \"text\": \"Temperature Anomaly (deg. Celsius)\"}, \"zerolinecolor\": \"#E1E5ED\"}},\n",
       "                        {\"showLink\": true, \"linkText\": \"Export to plot.ly\", \"plotlyServerURL\": \"https://plot.ly\", \"responsive\": true}\n",
       "                    ).then(function(){\n",
       "                            \n",
       "var gd = document.getElementById('9e9946c4-02b4-4bec-9d58-e8eb0162bc27');\n",
       "var x = new MutationObserver(function (mutations, observer) {{\n",
       "        var display = window.getComputedStyle(gd).display;\n",
       "        if (!display || display === 'none') {{\n",
       "            console.log([gd, 'removed!']);\n",
       "            Plotly.purge(gd);\n",
       "            observer.disconnect();\n",
       "        }}\n",
       "}});\n",
       "\n",
       "// Listen for the removal of the full notebook cells\n",
       "var notebookContainer = gd.closest('#notebook-container');\n",
       "if (notebookContainer) {{\n",
       "    x.observe(notebookContainer, {childList: true});\n",
       "}}\n",
       "\n",
       "// Listen for the clearing of the current output cell\n",
       "var outputEl = gd.closest('.output');\n",
       "if (outputEl) {{\n",
       "    x.observe(outputEl, {childList: true});\n",
       "}}\n",
       "\n",
       "                        })\n",
       "                };\n",
       "                });\n",
       "            </script>\n",
       "        </div>"
      ]
     },
     "metadata": {},
     "output_type": "display_data"
    }
   ],
   "source": [
    "t.resample('A').mean().iplot(kind='line', xTitle='Time (years)', color='#1C7C54',\n",
    "                  yTitle='Temperature Anomaly (deg. Celsius)', title='Global Temperature Anomalies')"
   ]
  },
  {
   "cell_type": "code",
   "execution_count": 35,
   "metadata": {},
   "outputs": [
    {
     "data": {
      "application/vnd.plotly.v1+json": {
       "config": {
        "linkText": "Export to plot.ly",
        "plotlyServerURL": "https://plot.ly",
        "showLink": true
       },
       "data": [
        {
         "line": {
          "color": "rgba(51, 147, 255, 1.0)",
          "dash": "solid",
          "shape": "linear",
          "width": 1.3
         },
         "mode": "lines",
         "name": "Global CO2 Emissions per Capita",
         "text": "",
         "type": "scatter",
         "x": [
          "1960-12-31",
          "1961-12-31",
          "1962-12-31",
          "1963-12-31",
          "1964-12-31",
          "1965-12-31",
          "1966-12-31",
          "1967-12-31",
          "1968-12-31",
          "1969-12-31",
          "1970-12-31",
          "1971-12-31",
          "1972-12-31",
          "1973-12-31",
          "1974-12-31",
          "1975-12-31",
          "1976-12-31",
          "1977-12-31",
          "1978-12-31",
          "1979-12-31",
          "1980-12-31",
          "1981-12-31",
          "1982-12-31",
          "1983-12-31",
          "1984-12-31",
          "1985-12-31",
          "1986-12-31",
          "1987-12-31",
          "1988-12-31",
          "1989-12-31",
          "1990-12-31",
          "1991-12-31",
          "1992-12-31",
          "1993-12-31",
          "1994-12-31",
          "1995-12-31",
          "1996-12-31",
          "1997-12-31",
          "1998-12-31",
          "1999-12-31",
          "2000-12-31",
          "2001-12-31",
          "2002-12-31",
          "2003-12-31",
          "2004-12-31",
          "2005-12-31",
          "2006-12-31",
          "2007-12-31",
          "2008-12-31",
          "2009-12-31",
          "2010-12-31",
          "2011-12-31",
          "2012-12-31",
          "2013-12-31",
          "2014-12-31",
          "2015-12-31",
          "2016-12-31",
          "2017-12-31",
          "2018-12-31"
         ],
         "y": [
          3.09915696571311,
          3.07001772704687,
          3.1409570621150897,
          3.2451092447242997,
          3.36138017410429,
          3.4400530890425403,
          3.53874821442816,
          3.57757975933052,
          3.6838995468756606,
          3.82378468132355,
          4.01468453944009,
          4.07389648344391,
          4.1579810051539,
          4.29879186841427,
          4.223914699480471,
          4.12071583088996,
          4.2853998298668,
          4.343264238480209,
          4.31957765343635,
          4.48243991029829,
          4.35819384138257,
          4.15007329033415,
          4.04104470788555,
          3.95356223530583,
          4.0247788797033595,
          4.074092767184609,
          4.12427433395957,
          4.15215613688026,
          4.226609848187819,
          4.24379363256693,
          4.1938981530967405,
          4.17266757541549,
          4.06781861969129,
          4.00151299694455,
          4.0109182972932205,
          4.03633654630893,
          4.0707612526466,
          4.08219212961608,
          4.04953134907037,
          3.9864215937200402,
          4.03752632568026,
          4.08052181921399,
          4.08813101231018,
          4.25769939568282,
          4.414167570766759,
          4.52814559742754,
          4.63601134968222,
          4.67114483874643,
          4.76207891326422,
          4.66215511348895,
          4.83498930990917,
          4.9753633591459,
          5.00506884539493,
          4.9975990151972995,
          4.98070685188463,
          4.98070685188463,
          4.98070685188463,
          4.98070685188463,
          4.98070685188463
         ]
        }
       ],
       "layout": {
        "legend": {
         "bgcolor": "#F5F6F9",
         "font": {
          "color": "#4D5663"
         }
        },
        "paper_bgcolor": "#F5F6F9",
        "plot_bgcolor": "#F5F6F9",
        "template": {
         "data": {
          "bar": [
           {
            "error_x": {
             "color": "#2a3f5f"
            },
            "error_y": {
             "color": "#2a3f5f"
            },
            "marker": {
             "line": {
              "color": "#E5ECF6",
              "width": 0.5
             }
            },
            "type": "bar"
           }
          ],
          "barpolar": [
           {
            "marker": {
             "line": {
              "color": "#E5ECF6",
              "width": 0.5
             }
            },
            "type": "barpolar"
           }
          ],
          "carpet": [
           {
            "aaxis": {
             "endlinecolor": "#2a3f5f",
             "gridcolor": "white",
             "linecolor": "white",
             "minorgridcolor": "white",
             "startlinecolor": "#2a3f5f"
            },
            "baxis": {
             "endlinecolor": "#2a3f5f",
             "gridcolor": "white",
             "linecolor": "white",
             "minorgridcolor": "white",
             "startlinecolor": "#2a3f5f"
            },
            "type": "carpet"
           }
          ],
          "choropleth": [
           {
            "colorbar": {
             "outlinewidth": 0,
             "ticks": ""
            },
            "type": "choropleth"
           }
          ],
          "contour": [
           {
            "colorbar": {
             "outlinewidth": 0,
             "ticks": ""
            },
            "colorscale": [
             [
              0,
              "#0d0887"
             ],
             [
              0.1111111111111111,
              "#46039f"
             ],
             [
              0.2222222222222222,
              "#7201a8"
             ],
             [
              0.3333333333333333,
              "#9c179e"
             ],
             [
              0.4444444444444444,
              "#bd3786"
             ],
             [
              0.5555555555555556,
              "#d8576b"
             ],
             [
              0.6666666666666666,
              "#ed7953"
             ],
             [
              0.7777777777777778,
              "#fb9f3a"
             ],
             [
              0.8888888888888888,
              "#fdca26"
             ],
             [
              1,
              "#f0f921"
             ]
            ],
            "type": "contour"
           }
          ],
          "contourcarpet": [
           {
            "colorbar": {
             "outlinewidth": 0,
             "ticks": ""
            },
            "type": "contourcarpet"
           }
          ],
          "heatmap": [
           {
            "colorbar": {
             "outlinewidth": 0,
             "ticks": ""
            },
            "colorscale": [
             [
              0,
              "#0d0887"
             ],
             [
              0.1111111111111111,
              "#46039f"
             ],
             [
              0.2222222222222222,
              "#7201a8"
             ],
             [
              0.3333333333333333,
              "#9c179e"
             ],
             [
              0.4444444444444444,
              "#bd3786"
             ],
             [
              0.5555555555555556,
              "#d8576b"
             ],
             [
              0.6666666666666666,
              "#ed7953"
             ],
             [
              0.7777777777777778,
              "#fb9f3a"
             ],
             [
              0.8888888888888888,
              "#fdca26"
             ],
             [
              1,
              "#f0f921"
             ]
            ],
            "type": "heatmap"
           }
          ],
          "heatmapgl": [
           {
            "colorbar": {
             "outlinewidth": 0,
             "ticks": ""
            },
            "colorscale": [
             [
              0,
              "#0d0887"
             ],
             [
              0.1111111111111111,
              "#46039f"
             ],
             [
              0.2222222222222222,
              "#7201a8"
             ],
             [
              0.3333333333333333,
              "#9c179e"
             ],
             [
              0.4444444444444444,
              "#bd3786"
             ],
             [
              0.5555555555555556,
              "#d8576b"
             ],
             [
              0.6666666666666666,
              "#ed7953"
             ],
             [
              0.7777777777777778,
              "#fb9f3a"
             ],
             [
              0.8888888888888888,
              "#fdca26"
             ],
             [
              1,
              "#f0f921"
             ]
            ],
            "type": "heatmapgl"
           }
          ],
          "histogram": [
           {
            "marker": {
             "colorbar": {
              "outlinewidth": 0,
              "ticks": ""
             }
            },
            "type": "histogram"
           }
          ],
          "histogram2d": [
           {
            "colorbar": {
             "outlinewidth": 0,
             "ticks": ""
            },
            "colorscale": [
             [
              0,
              "#0d0887"
             ],
             [
              0.1111111111111111,
              "#46039f"
             ],
             [
              0.2222222222222222,
              "#7201a8"
             ],
             [
              0.3333333333333333,
              "#9c179e"
             ],
             [
              0.4444444444444444,
              "#bd3786"
             ],
             [
              0.5555555555555556,
              "#d8576b"
             ],
             [
              0.6666666666666666,
              "#ed7953"
             ],
             [
              0.7777777777777778,
              "#fb9f3a"
             ],
             [
              0.8888888888888888,
              "#fdca26"
             ],
             [
              1,
              "#f0f921"
             ]
            ],
            "type": "histogram2d"
           }
          ],
          "histogram2dcontour": [
           {
            "colorbar": {
             "outlinewidth": 0,
             "ticks": ""
            },
            "colorscale": [
             [
              0,
              "#0d0887"
             ],
             [
              0.1111111111111111,
              "#46039f"
             ],
             [
              0.2222222222222222,
              "#7201a8"
             ],
             [
              0.3333333333333333,
              "#9c179e"
             ],
             [
              0.4444444444444444,
              "#bd3786"
             ],
             [
              0.5555555555555556,
              "#d8576b"
             ],
             [
              0.6666666666666666,
              "#ed7953"
             ],
             [
              0.7777777777777778,
              "#fb9f3a"
             ],
             [
              0.8888888888888888,
              "#fdca26"
             ],
             [
              1,
              "#f0f921"
             ]
            ],
            "type": "histogram2dcontour"
           }
          ],
          "mesh3d": [
           {
            "colorbar": {
             "outlinewidth": 0,
             "ticks": ""
            },
            "type": "mesh3d"
           }
          ],
          "parcoords": [
           {
            "line": {
             "colorbar": {
              "outlinewidth": 0,
              "ticks": ""
             }
            },
            "type": "parcoords"
           }
          ],
          "pie": [
           {
            "automargin": true,
            "type": "pie"
           }
          ],
          "scatter": [
           {
            "marker": {
             "colorbar": {
              "outlinewidth": 0,
              "ticks": ""
             }
            },
            "type": "scatter"
           }
          ],
          "scatter3d": [
           {
            "line": {
             "colorbar": {
              "outlinewidth": 0,
              "ticks": ""
             }
            },
            "marker": {
             "colorbar": {
              "outlinewidth": 0,
              "ticks": ""
             }
            },
            "type": "scatter3d"
           }
          ],
          "scattercarpet": [
           {
            "marker": {
             "colorbar": {
              "outlinewidth": 0,
              "ticks": ""
             }
            },
            "type": "scattercarpet"
           }
          ],
          "scattergeo": [
           {
            "marker": {
             "colorbar": {
              "outlinewidth": 0,
              "ticks": ""
             }
            },
            "type": "scattergeo"
           }
          ],
          "scattergl": [
           {
            "marker": {
             "colorbar": {
              "outlinewidth": 0,
              "ticks": ""
             }
            },
            "type": "scattergl"
           }
          ],
          "scattermapbox": [
           {
            "marker": {
             "colorbar": {
              "outlinewidth": 0,
              "ticks": ""
             }
            },
            "type": "scattermapbox"
           }
          ],
          "scatterpolar": [
           {
            "marker": {
             "colorbar": {
              "outlinewidth": 0,
              "ticks": ""
             }
            },
            "type": "scatterpolar"
           }
          ],
          "scatterpolargl": [
           {
            "marker": {
             "colorbar": {
              "outlinewidth": 0,
              "ticks": ""
             }
            },
            "type": "scatterpolargl"
           }
          ],
          "scatterternary": [
           {
            "marker": {
             "colorbar": {
              "outlinewidth": 0,
              "ticks": ""
             }
            },
            "type": "scatterternary"
           }
          ],
          "surface": [
           {
            "colorbar": {
             "outlinewidth": 0,
             "ticks": ""
            },
            "colorscale": [
             [
              0,
              "#0d0887"
             ],
             [
              0.1111111111111111,
              "#46039f"
             ],
             [
              0.2222222222222222,
              "#7201a8"
             ],
             [
              0.3333333333333333,
              "#9c179e"
             ],
             [
              0.4444444444444444,
              "#bd3786"
             ],
             [
              0.5555555555555556,
              "#d8576b"
             ],
             [
              0.6666666666666666,
              "#ed7953"
             ],
             [
              0.7777777777777778,
              "#fb9f3a"
             ],
             [
              0.8888888888888888,
              "#fdca26"
             ],
             [
              1,
              "#f0f921"
             ]
            ],
            "type": "surface"
           }
          ],
          "table": [
           {
            "cells": {
             "fill": {
              "color": "#EBF0F8"
             },
             "line": {
              "color": "white"
             }
            },
            "header": {
             "fill": {
              "color": "#C8D4E3"
             },
             "line": {
              "color": "white"
             }
            },
            "type": "table"
           }
          ]
         },
         "layout": {
          "annotationdefaults": {
           "arrowcolor": "#2a3f5f",
           "arrowhead": 0,
           "arrowwidth": 1
          },
          "coloraxis": {
           "colorbar": {
            "outlinewidth": 0,
            "ticks": ""
           }
          },
          "colorscale": {
           "diverging": [
            [
             0,
             "#8e0152"
            ],
            [
             0.1,
             "#c51b7d"
            ],
            [
             0.2,
             "#de77ae"
            ],
            [
             0.3,
             "#f1b6da"
            ],
            [
             0.4,
             "#fde0ef"
            ],
            [
             0.5,
             "#f7f7f7"
            ],
            [
             0.6,
             "#e6f5d0"
            ],
            [
             0.7,
             "#b8e186"
            ],
            [
             0.8,
             "#7fbc41"
            ],
            [
             0.9,
             "#4d9221"
            ],
            [
             1,
             "#276419"
            ]
           ],
           "sequential": [
            [
             0,
             "#0d0887"
            ],
            [
             0.1111111111111111,
             "#46039f"
            ],
            [
             0.2222222222222222,
             "#7201a8"
            ],
            [
             0.3333333333333333,
             "#9c179e"
            ],
            [
             0.4444444444444444,
             "#bd3786"
            ],
            [
             0.5555555555555556,
             "#d8576b"
            ],
            [
             0.6666666666666666,
             "#ed7953"
            ],
            [
             0.7777777777777778,
             "#fb9f3a"
            ],
            [
             0.8888888888888888,
             "#fdca26"
            ],
            [
             1,
             "#f0f921"
            ]
           ],
           "sequentialminus": [
            [
             0,
             "#0d0887"
            ],
            [
             0.1111111111111111,
             "#46039f"
            ],
            [
             0.2222222222222222,
             "#7201a8"
            ],
            [
             0.3333333333333333,
             "#9c179e"
            ],
            [
             0.4444444444444444,
             "#bd3786"
            ],
            [
             0.5555555555555556,
             "#d8576b"
            ],
            [
             0.6666666666666666,
             "#ed7953"
            ],
            [
             0.7777777777777778,
             "#fb9f3a"
            ],
            [
             0.8888888888888888,
             "#fdca26"
            ],
            [
             1,
             "#f0f921"
            ]
           ]
          },
          "colorway": [
           "#636efa",
           "#EF553B",
           "#00cc96",
           "#ab63fa",
           "#FFA15A",
           "#19d3f3",
           "#FF6692",
           "#B6E880",
           "#FF97FF",
           "#FECB52"
          ],
          "font": {
           "color": "#2a3f5f"
          },
          "geo": {
           "bgcolor": "white",
           "lakecolor": "white",
           "landcolor": "#E5ECF6",
           "showlakes": true,
           "showland": true,
           "subunitcolor": "white"
          },
          "hoverlabel": {
           "align": "left"
          },
          "hovermode": "closest",
          "mapbox": {
           "style": "light"
          },
          "paper_bgcolor": "white",
          "plot_bgcolor": "#E5ECF6",
          "polar": {
           "angularaxis": {
            "gridcolor": "white",
            "linecolor": "white",
            "ticks": ""
           },
           "bgcolor": "#E5ECF6",
           "radialaxis": {
            "gridcolor": "white",
            "linecolor": "white",
            "ticks": ""
           }
          },
          "scene": {
           "xaxis": {
            "backgroundcolor": "#E5ECF6",
            "gridcolor": "white",
            "gridwidth": 2,
            "linecolor": "white",
            "showbackground": true,
            "ticks": "",
            "zerolinecolor": "white"
           },
           "yaxis": {
            "backgroundcolor": "#E5ECF6",
            "gridcolor": "white",
            "gridwidth": 2,
            "linecolor": "white",
            "showbackground": true,
            "ticks": "",
            "zerolinecolor": "white"
           },
           "zaxis": {
            "backgroundcolor": "#E5ECF6",
            "gridcolor": "white",
            "gridwidth": 2,
            "linecolor": "white",
            "showbackground": true,
            "ticks": "",
            "zerolinecolor": "white"
           }
          },
          "shapedefaults": {
           "line": {
            "color": "#2a3f5f"
           }
          },
          "ternary": {
           "aaxis": {
            "gridcolor": "white",
            "linecolor": "white",
            "ticks": ""
           },
           "baxis": {
            "gridcolor": "white",
            "linecolor": "white",
            "ticks": ""
           },
           "bgcolor": "#E5ECF6",
           "caxis": {
            "gridcolor": "white",
            "linecolor": "white",
            "ticks": ""
           }
          },
          "title": {
           "x": 0.05
          },
          "xaxis": {
           "automargin": true,
           "gridcolor": "white",
           "linecolor": "white",
           "ticks": "",
           "title": {
            "standoff": 15
           },
           "zerolinecolor": "white",
           "zerolinewidth": 2
          },
          "yaxis": {
           "automargin": true,
           "gridcolor": "white",
           "linecolor": "white",
           "ticks": "",
           "title": {
            "standoff": 15
           },
           "zerolinecolor": "white",
           "zerolinewidth": 2
          }
         }
        },
        "title": {
         "font": {
          "color": "#4D5663"
         },
         "text": "Global CO2 Emission over Time"
        },
        "xaxis": {
         "gridcolor": "#E1E5ED",
         "showgrid": true,
         "tickfont": {
          "color": "#4D5663"
         },
         "title": {
          "font": {
           "color": "#4D5663"
          },
          "text": "Time (years)"
         },
         "zerolinecolor": "#E1E5ED"
        },
        "yaxis": {
         "gridcolor": "#E1E5ED",
         "showgrid": true,
         "tickfont": {
          "color": "#4D5663"
         },
         "title": {
          "font": {
           "color": "#4D5663"
          },
          "text": "Emissions (Metric Tons per Capita)"
         },
         "zerolinecolor": "#E1E5ED"
        }
       }
      },
      "text/html": [
       "<div>\n",
       "        \n",
       "        \n",
       "            <div id=\"9ae10ca1-13ba-4cc6-ae95-7aeca4829925\" class=\"plotly-graph-div\" style=\"height:525px; width:100%;\"></div>\n",
       "            <script type=\"text/javascript\">\n",
       "                require([\"plotly\"], function(Plotly) {\n",
       "                    window.PLOTLYENV=window.PLOTLYENV || {};\n",
       "                    window.PLOTLYENV.BASE_URL='https://plot.ly';\n",
       "                    \n",
       "                if (document.getElementById(\"9ae10ca1-13ba-4cc6-ae95-7aeca4829925\")) {\n",
       "                    Plotly.newPlot(\n",
       "                        '9ae10ca1-13ba-4cc6-ae95-7aeca4829925',\n",
       "                        [{\"line\": {\"color\": \"rgba(51, 147, 255, 1.0)\", \"dash\": \"solid\", \"shape\": \"linear\", \"width\": 1.3}, \"mode\": \"lines\", \"name\": \"Global CO2 Emissions per Capita\", \"text\": \"\", \"type\": \"scatter\", \"x\": [\"1960-12-31\", \"1961-12-31\", \"1962-12-31\", \"1963-12-31\", \"1964-12-31\", \"1965-12-31\", \"1966-12-31\", \"1967-12-31\", \"1968-12-31\", \"1969-12-31\", \"1970-12-31\", \"1971-12-31\", \"1972-12-31\", \"1973-12-31\", \"1974-12-31\", \"1975-12-31\", \"1976-12-31\", \"1977-12-31\", \"1978-12-31\", \"1979-12-31\", \"1980-12-31\", \"1981-12-31\", \"1982-12-31\", \"1983-12-31\", \"1984-12-31\", \"1985-12-31\", \"1986-12-31\", \"1987-12-31\", \"1988-12-31\", \"1989-12-31\", \"1990-12-31\", \"1991-12-31\", \"1992-12-31\", \"1993-12-31\", \"1994-12-31\", \"1995-12-31\", \"1996-12-31\", \"1997-12-31\", \"1998-12-31\", \"1999-12-31\", \"2000-12-31\", \"2001-12-31\", \"2002-12-31\", \"2003-12-31\", \"2004-12-31\", \"2005-12-31\", \"2006-12-31\", \"2007-12-31\", \"2008-12-31\", \"2009-12-31\", \"2010-12-31\", \"2011-12-31\", \"2012-12-31\", \"2013-12-31\", \"2014-12-31\", \"2015-12-31\", \"2016-12-31\", \"2017-12-31\", \"2018-12-31\"], \"y\": [3.09915696571311, 3.07001772704687, 3.1409570621150897, 3.2451092447242997, 3.36138017410429, 3.4400530890425403, 3.53874821442816, 3.57757975933052, 3.6838995468756606, 3.82378468132355, 4.01468453944009, 4.07389648344391, 4.1579810051539, 4.29879186841427, 4.223914699480471, 4.12071583088996, 4.2853998298668, 4.343264238480209, 4.31957765343635, 4.48243991029829, 4.35819384138257, 4.15007329033415, 4.04104470788555, 3.95356223530583, 4.0247788797033595, 4.074092767184609, 4.12427433395957, 4.15215613688026, 4.226609848187819, 4.24379363256693, 4.1938981530967405, 4.17266757541549, 4.06781861969129, 4.00151299694455, 4.0109182972932205, 4.03633654630893, 4.0707612526466, 4.08219212961608, 4.04953134907037, 3.9864215937200402, 4.03752632568026, 4.08052181921399, 4.08813101231018, 4.25769939568282, 4.414167570766759, 4.52814559742754, 4.63601134968222, 4.67114483874643, 4.76207891326422, 4.66215511348895, 4.83498930990917, 4.9753633591459, 5.00506884539493, 4.9975990151972995, 4.98070685188463, 4.98070685188463, 4.98070685188463, 4.98070685188463, 4.98070685188463]}],\n",
       "                        {\"legend\": {\"bgcolor\": \"#F5F6F9\", \"font\": {\"color\": \"#4D5663\"}}, \"paper_bgcolor\": \"#F5F6F9\", \"plot_bgcolor\": \"#F5F6F9\", \"template\": {\"data\": {\"bar\": [{\"error_x\": {\"color\": \"#2a3f5f\"}, \"error_y\": {\"color\": \"#2a3f5f\"}, \"marker\": {\"line\": {\"color\": \"#E5ECF6\", \"width\": 0.5}}, \"type\": \"bar\"}], \"barpolar\": [{\"marker\": {\"line\": {\"color\": \"#E5ECF6\", \"width\": 0.5}}, \"type\": \"barpolar\"}], \"carpet\": [{\"aaxis\": {\"endlinecolor\": \"#2a3f5f\", \"gridcolor\": \"white\", \"linecolor\": \"white\", \"minorgridcolor\": \"white\", \"startlinecolor\": \"#2a3f5f\"}, \"baxis\": {\"endlinecolor\": \"#2a3f5f\", \"gridcolor\": \"white\", \"linecolor\": \"white\", \"minorgridcolor\": \"white\", \"startlinecolor\": \"#2a3f5f\"}, \"type\": \"carpet\"}], \"choropleth\": [{\"colorbar\": {\"outlinewidth\": 0, \"ticks\": \"\"}, \"type\": \"choropleth\"}], \"contour\": [{\"colorbar\": {\"outlinewidth\": 0, \"ticks\": \"\"}, \"colorscale\": [[0.0, \"#0d0887\"], [0.1111111111111111, \"#46039f\"], [0.2222222222222222, \"#7201a8\"], [0.3333333333333333, \"#9c179e\"], [0.4444444444444444, \"#bd3786\"], [0.5555555555555556, \"#d8576b\"], [0.6666666666666666, \"#ed7953\"], [0.7777777777777778, \"#fb9f3a\"], [0.8888888888888888, \"#fdca26\"], [1.0, \"#f0f921\"]], \"type\": \"contour\"}], \"contourcarpet\": [{\"colorbar\": {\"outlinewidth\": 0, \"ticks\": \"\"}, \"type\": \"contourcarpet\"}], \"heatmap\": [{\"colorbar\": {\"outlinewidth\": 0, \"ticks\": \"\"}, \"colorscale\": [[0.0, \"#0d0887\"], [0.1111111111111111, \"#46039f\"], [0.2222222222222222, \"#7201a8\"], [0.3333333333333333, \"#9c179e\"], [0.4444444444444444, \"#bd3786\"], [0.5555555555555556, \"#d8576b\"], [0.6666666666666666, \"#ed7953\"], [0.7777777777777778, \"#fb9f3a\"], [0.8888888888888888, \"#fdca26\"], [1.0, \"#f0f921\"]], \"type\": \"heatmap\"}], \"heatmapgl\": [{\"colorbar\": {\"outlinewidth\": 0, \"ticks\": \"\"}, \"colorscale\": [[0.0, \"#0d0887\"], [0.1111111111111111, \"#46039f\"], [0.2222222222222222, \"#7201a8\"], [0.3333333333333333, \"#9c179e\"], [0.4444444444444444, \"#bd3786\"], [0.5555555555555556, \"#d8576b\"], [0.6666666666666666, \"#ed7953\"], [0.7777777777777778, \"#fb9f3a\"], [0.8888888888888888, \"#fdca26\"], [1.0, \"#f0f921\"]], \"type\": \"heatmapgl\"}], \"histogram\": [{\"marker\": {\"colorbar\": {\"outlinewidth\": 0, \"ticks\": \"\"}}, \"type\": \"histogram\"}], \"histogram2d\": [{\"colorbar\": {\"outlinewidth\": 0, \"ticks\": \"\"}, \"colorscale\": [[0.0, \"#0d0887\"], [0.1111111111111111, \"#46039f\"], [0.2222222222222222, \"#7201a8\"], [0.3333333333333333, \"#9c179e\"], [0.4444444444444444, \"#bd3786\"], [0.5555555555555556, \"#d8576b\"], [0.6666666666666666, \"#ed7953\"], [0.7777777777777778, \"#fb9f3a\"], [0.8888888888888888, \"#fdca26\"], [1.0, \"#f0f921\"]], \"type\": \"histogram2d\"}], \"histogram2dcontour\": [{\"colorbar\": {\"outlinewidth\": 0, \"ticks\": \"\"}, \"colorscale\": [[0.0, \"#0d0887\"], [0.1111111111111111, \"#46039f\"], [0.2222222222222222, \"#7201a8\"], [0.3333333333333333, \"#9c179e\"], [0.4444444444444444, \"#bd3786\"], [0.5555555555555556, \"#d8576b\"], [0.6666666666666666, \"#ed7953\"], [0.7777777777777778, \"#fb9f3a\"], [0.8888888888888888, \"#fdca26\"], [1.0, \"#f0f921\"]], \"type\": \"histogram2dcontour\"}], \"mesh3d\": [{\"colorbar\": {\"outlinewidth\": 0, \"ticks\": \"\"}, \"type\": \"mesh3d\"}], \"parcoords\": [{\"line\": {\"colorbar\": {\"outlinewidth\": 0, \"ticks\": \"\"}}, \"type\": \"parcoords\"}], \"pie\": [{\"automargin\": true, \"type\": \"pie\"}], \"scatter\": [{\"marker\": {\"colorbar\": {\"outlinewidth\": 0, \"ticks\": \"\"}}, \"type\": \"scatter\"}], \"scatter3d\": [{\"line\": {\"colorbar\": {\"outlinewidth\": 0, \"ticks\": \"\"}}, \"marker\": {\"colorbar\": {\"outlinewidth\": 0, \"ticks\": \"\"}}, \"type\": \"scatter3d\"}], \"scattercarpet\": [{\"marker\": {\"colorbar\": {\"outlinewidth\": 0, \"ticks\": \"\"}}, \"type\": \"scattercarpet\"}], \"scattergeo\": [{\"marker\": {\"colorbar\": {\"outlinewidth\": 0, \"ticks\": \"\"}}, \"type\": \"scattergeo\"}], \"scattergl\": [{\"marker\": {\"colorbar\": {\"outlinewidth\": 0, \"ticks\": \"\"}}, \"type\": \"scattergl\"}], \"scattermapbox\": [{\"marker\": {\"colorbar\": {\"outlinewidth\": 0, \"ticks\": \"\"}}, \"type\": \"scattermapbox\"}], \"scatterpolar\": [{\"marker\": {\"colorbar\": {\"outlinewidth\": 0, \"ticks\": \"\"}}, \"type\": \"scatterpolar\"}], \"scatterpolargl\": [{\"marker\": {\"colorbar\": {\"outlinewidth\": 0, \"ticks\": \"\"}}, \"type\": \"scatterpolargl\"}], \"scatterternary\": [{\"marker\": {\"colorbar\": {\"outlinewidth\": 0, \"ticks\": \"\"}}, \"type\": \"scatterternary\"}], \"surface\": [{\"colorbar\": {\"outlinewidth\": 0, \"ticks\": \"\"}, \"colorscale\": [[0.0, \"#0d0887\"], [0.1111111111111111, \"#46039f\"], [0.2222222222222222, \"#7201a8\"], [0.3333333333333333, \"#9c179e\"], [0.4444444444444444, \"#bd3786\"], [0.5555555555555556, \"#d8576b\"], [0.6666666666666666, \"#ed7953\"], [0.7777777777777778, \"#fb9f3a\"], [0.8888888888888888, \"#fdca26\"], [1.0, \"#f0f921\"]], \"type\": \"surface\"}], \"table\": [{\"cells\": {\"fill\": {\"color\": \"#EBF0F8\"}, \"line\": {\"color\": \"white\"}}, \"header\": {\"fill\": {\"color\": \"#C8D4E3\"}, \"line\": {\"color\": \"white\"}}, \"type\": \"table\"}]}, \"layout\": {\"annotationdefaults\": {\"arrowcolor\": \"#2a3f5f\", \"arrowhead\": 0, \"arrowwidth\": 1}, \"coloraxis\": {\"colorbar\": {\"outlinewidth\": 0, \"ticks\": \"\"}}, \"colorscale\": {\"diverging\": [[0, \"#8e0152\"], [0.1, \"#c51b7d\"], [0.2, \"#de77ae\"], [0.3, \"#f1b6da\"], [0.4, \"#fde0ef\"], [0.5, \"#f7f7f7\"], [0.6, \"#e6f5d0\"], [0.7, \"#b8e186\"], [0.8, \"#7fbc41\"], [0.9, \"#4d9221\"], [1, \"#276419\"]], \"sequential\": [[0.0, \"#0d0887\"], [0.1111111111111111, \"#46039f\"], [0.2222222222222222, \"#7201a8\"], [0.3333333333333333, \"#9c179e\"], [0.4444444444444444, \"#bd3786\"], [0.5555555555555556, \"#d8576b\"], [0.6666666666666666, \"#ed7953\"], [0.7777777777777778, \"#fb9f3a\"], [0.8888888888888888, \"#fdca26\"], [1.0, \"#f0f921\"]], \"sequentialminus\": [[0.0, \"#0d0887\"], [0.1111111111111111, \"#46039f\"], [0.2222222222222222, \"#7201a8\"], [0.3333333333333333, \"#9c179e\"], [0.4444444444444444, \"#bd3786\"], [0.5555555555555556, \"#d8576b\"], [0.6666666666666666, \"#ed7953\"], [0.7777777777777778, \"#fb9f3a\"], [0.8888888888888888, \"#fdca26\"], [1.0, \"#f0f921\"]]}, \"colorway\": [\"#636efa\", \"#EF553B\", \"#00cc96\", \"#ab63fa\", \"#FFA15A\", \"#19d3f3\", \"#FF6692\", \"#B6E880\", \"#FF97FF\", \"#FECB52\"], \"font\": {\"color\": \"#2a3f5f\"}, \"geo\": {\"bgcolor\": \"white\", \"lakecolor\": \"white\", \"landcolor\": \"#E5ECF6\", \"showlakes\": true, \"showland\": true, \"subunitcolor\": \"white\"}, \"hoverlabel\": {\"align\": \"left\"}, \"hovermode\": \"closest\", \"mapbox\": {\"style\": \"light\"}, \"paper_bgcolor\": \"white\", \"plot_bgcolor\": \"#E5ECF6\", \"polar\": {\"angularaxis\": {\"gridcolor\": \"white\", \"linecolor\": \"white\", \"ticks\": \"\"}, \"bgcolor\": \"#E5ECF6\", \"radialaxis\": {\"gridcolor\": \"white\", \"linecolor\": \"white\", \"ticks\": \"\"}}, \"scene\": {\"xaxis\": {\"backgroundcolor\": \"#E5ECF6\", \"gridcolor\": \"white\", \"gridwidth\": 2, \"linecolor\": \"white\", \"showbackground\": true, \"ticks\": \"\", \"zerolinecolor\": \"white\"}, \"yaxis\": {\"backgroundcolor\": \"#E5ECF6\", \"gridcolor\": \"white\", \"gridwidth\": 2, \"linecolor\": \"white\", \"showbackground\": true, \"ticks\": \"\", \"zerolinecolor\": \"white\"}, \"zaxis\": {\"backgroundcolor\": \"#E5ECF6\", \"gridcolor\": \"white\", \"gridwidth\": 2, \"linecolor\": \"white\", \"showbackground\": true, \"ticks\": \"\", \"zerolinecolor\": \"white\"}}, \"shapedefaults\": {\"line\": {\"color\": \"#2a3f5f\"}}, \"ternary\": {\"aaxis\": {\"gridcolor\": \"white\", \"linecolor\": \"white\", \"ticks\": \"\"}, \"baxis\": {\"gridcolor\": \"white\", \"linecolor\": \"white\", \"ticks\": \"\"}, \"bgcolor\": \"#E5ECF6\", \"caxis\": {\"gridcolor\": \"white\", \"linecolor\": \"white\", \"ticks\": \"\"}}, \"title\": {\"x\": 0.05}, \"xaxis\": {\"automargin\": true, \"gridcolor\": \"white\", \"linecolor\": \"white\", \"ticks\": \"\", \"title\": {\"standoff\": 15}, \"zerolinecolor\": \"white\", \"zerolinewidth\": 2}, \"yaxis\": {\"automargin\": true, \"gridcolor\": \"white\", \"linecolor\": \"white\", \"ticks\": \"\", \"title\": {\"standoff\": 15}, \"zerolinecolor\": \"white\", \"zerolinewidth\": 2}}}, \"title\": {\"font\": {\"color\": \"#4D5663\"}, \"text\": \"Global CO2 Emission over Time\"}, \"xaxis\": {\"gridcolor\": \"#E1E5ED\", \"showgrid\": true, \"tickfont\": {\"color\": \"#4D5663\"}, \"title\": {\"font\": {\"color\": \"#4D5663\"}, \"text\": \"Time (years)\"}, \"zerolinecolor\": \"#E1E5ED\"}, \"yaxis\": {\"gridcolor\": \"#E1E5ED\", \"showgrid\": true, \"tickfont\": {\"color\": \"#4D5663\"}, \"title\": {\"font\": {\"color\": \"#4D5663\"}, \"text\": \"Emissions (Metric Tons per Capita)\"}, \"zerolinecolor\": \"#E1E5ED\"}},\n",
       "                        {\"showLink\": true, \"linkText\": \"Export to plot.ly\", \"plotlyServerURL\": \"https://plot.ly\", \"responsive\": true}\n",
       "                    ).then(function(){\n",
       "                            \n",
       "var gd = document.getElementById('9ae10ca1-13ba-4cc6-ae95-7aeca4829925');\n",
       "var x = new MutationObserver(function (mutations, observer) {{\n",
       "        var display = window.getComputedStyle(gd).display;\n",
       "        if (!display || display === 'none') {{\n",
       "            console.log([gd, 'removed!']);\n",
       "            Plotly.purge(gd);\n",
       "            observer.disconnect();\n",
       "        }}\n",
       "}});\n",
       "\n",
       "// Listen for the removal of the full notebook cells\n",
       "var notebookContainer = gd.closest('#notebook-container');\n",
       "if (notebookContainer) {{\n",
       "    x.observe(notebookContainer, {childList: true});\n",
       "}}\n",
       "\n",
       "// Listen for the clearing of the current output cell\n",
       "var outputEl = gd.closest('.output');\n",
       "if (outputEl) {{\n",
       "    x.observe(outputEl, {childList: true});\n",
       "}}\n",
       "\n",
       "                        })\n",
       "                };\n",
       "                });\n",
       "            </script>\n",
       "        </div>"
      ]
     },
     "metadata": {},
     "output_type": "display_data"
    }
   ],
   "source": [
    "e.iplot(kind='line', xTitle='Time (years)', color='#3393FF',\n",
    "                  yTitle='Emissions (Metric Tons per Capita)', title='Global CO2 Emission over Time')"
   ]
  },
  {
   "cell_type": "code",
   "execution_count": 36,
   "metadata": {},
   "outputs": [
    {
     "name": "stdout",
     "output_type": "stream",
     "text": [
      "Variable              Type             Data/Info\n",
      "------------------------------------------------\n",
      "ZipFile               type             <class 'zipfile.ZipFile'>\n",
      "ax                    AxesSubplot      Axes(0.125,0.125;0.775x0.755)\n",
      "calendar              module           <module 'calendar' from '<...>b/python3.6/calendar.py'>\n",
      "clean_anomaly_value   function         <function clean_anomaly_value at 0x11b0be510>\n",
      "cufflinks             module           <module 'cufflinks' from <...>s/cufflinks/__init__.py'>\n",
      "date_rng              DatetimeIndex    DatetimeIndex(['1960-12-3<...>ime64[ns]', freq='A-DEC')\n",
      "datetime              type             <class 'datetime.datetime'>\n",
      "e                     DataFrame                    Global CO2 Em<...>                 4.980707\n",
      "fig                   Figure           Figure(720x576)\n",
      "go                    module           <module 'plotly.graph_obj<...>/graph_objs/__init__.py'>\n",
      "init_notebook_mode    function         <function init_notebook_mode at 0x11fbd8ea0>\n",
      "iplot                 function         <function iplot at 0x11fbd8f28>\n",
      "np                    module           <module 'numpy' from '/an<...>kages/numpy/__init__.py'>\n",
      "pd                    module           <module 'pandas' from '/a<...>ages/pandas/__init__.py'>\n",
      "plt                   module           <module 'matplotlib.pyplo<...>es/matplotlib/pyplot.py'>\n",
      "populate_anom         function         <function populate_anom at 0x10ba56378>\n",
      "populate_df           function         <function populate_df at 0x11b5040d0>\n",
      "py                    module           <module 'chart_studio.plo<...>udio/plotly/__init__.py'>\n",
      "raw_e                 DataFrame             Country Name Country<...>\\n[264 rows x 65 columns]\n",
      "raw_e_world           DataFrame                 value\\n1960  3.0<...>      NaN\\n2018       NaN\n",
      "raw_t                 DataFrame             Year   Jan   Feb   M<...>\\n[140 rows x 13 columns]\n",
      "t                     DataFrame                    Avg_Anomaly_d<...>\\n[1680 rows x 1 columns]\n",
      "t_resampled           DataFrame                    Avg_Anomaly_d<...>n\\n[140 rows x 1 columns]\n",
      "v                     DataFrame               value\\n0   3.09915<...>7       NaN\\n58       NaN\n",
      "x                     function         <function <lambda> at 0x10ba2bf28>\n",
      "zip                   ZipFile          <zipfile.ZipFile [closed]>\n"
     ]
    }
   ],
   "source": [
    "%whos"
   ]
  },
  {
   "cell_type": "code",
   "execution_count": null,
   "metadata": {},
   "outputs": [],
   "source": []
  }
 ],
 "metadata": {
  "kernelspec": {
   "display_name": "Python 3",
   "language": "python",
   "name": "python3"
  },
  "language_info": {
   "codemirror_mode": {
    "name": "ipython",
    "version": 3
   },
   "file_extension": ".py",
   "mimetype": "text/x-python",
   "name": "python",
   "nbconvert_exporter": "python",
   "pygments_lexer": "ipython3",
   "version": "3.6.7"
  }
 },
 "nbformat": 4,
 "nbformat_minor": 2
}
