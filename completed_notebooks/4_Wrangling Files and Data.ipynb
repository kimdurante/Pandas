{
 "cells": [
  {
   "cell_type": "markdown",
   "metadata": {},
   "source": [
    "## Wrangling Files and Data\n",
    "\n",
    "Reading files with unstructured data. \n",
    "\n",
    "Import pandas as pd:"
   ]
  },
  {
   "cell_type": "code",
   "execution_count": 21,
   "metadata": {},
   "outputs": [],
   "source": [
    "import pandas as pd"
   ]
  },
  {
   "cell_type": "markdown",
   "metadata": {},
   "source": [
    "From the Berkeley Earth surface temperature dataset, download localized data for New York City:"
   ]
  },
  {
   "cell_type": "code",
   "execution_count": 22,
   "metadata": {},
   "outputs": [
    {
     "name": "stdout",
     "output_type": "stream",
     "text": [
      "  % Total    % Received % Xferd  Average Speed   Time    Time     Time  Current\n",
      "                                 Dload  Upload   Total   Spent    Left  Speed\n",
      "100  313k  100  313k    0     0  5425k      0 --:--:-- --:--:-- --:--:-- 5497k\n"
     ]
    }
   ],
   "source": [
    "! curl -o ./data/nyc_temp.txt http://berkeleyearth.lbl.gov/auto/Local/TAVG/Text/40.99N-74.56W-TAVG-Trend.txt"
   ]
  },
  {
   "cell_type": "markdown",
   "metadata": {},
   "source": [
    "Inspect the file:\n",
    "\n",
    "`! head ./data/nyc_temp.txt`\n",
    "\n",
    "This file is not well-formatted. Use head/tail to narrow the selection:\n",
    "\n",
    "`! head -72 nyc_temp.txt | tail -8`"
   ]
  },
  {
   "cell_type": "code",
   "execution_count": 23,
   "metadata": {},
   "outputs": [
    {
     "name": "stdout",
     "output_type": "stream",
     "text": [
      "head: nyc_temp.txt: No such file or directory\r\n"
     ]
    }
   ],
   "source": [
    "! head -72 nyc_temp.txt | tail -8"
   ]
  },
  {
   "cell_type": "markdown",
   "metadata": {},
   "source": [
    "### Reading and Formatting Files\n",
    "\n",
    "Create a list of column names:\n",
    "\n",
    "`col_names = ['year', 'month', 'monthly_anom']`\n",
    "\n",
    "Supply the following arguments in `read_csv`:\n",
    "\n",
    "`header=None`\n",
    "\n",
    "`usecols=[0,1,2]`\n",
    "\n",
    "`names = col_names`\n",
    "\n",
    "`delim_whitespace=True`\n",
    "\n",
    "`comment=\"%\"`\n",
    "\n",
    "`temp = pd.read_csv('nyc_temp.txt', header=None, delim_whitespace=True, usecols=[0,1,2], names=col_names, comment=\"%\")`\n",
    "\n"
   ]
  },
  {
   "cell_type": "code",
   "execution_count": 24,
   "metadata": {},
   "outputs": [
    {
     "data": {
      "text/html": [
       "<div>\n",
       "<style scoped>\n",
       "    .dataframe tbody tr th:only-of-type {\n",
       "        vertical-align: middle;\n",
       "    }\n",
       "\n",
       "    .dataframe tbody tr th {\n",
       "        vertical-align: top;\n",
       "    }\n",
       "\n",
       "    .dataframe thead th {\n",
       "        text-align: right;\n",
       "    }\n",
       "</style>\n",
       "<table border=\"1\" class=\"dataframe\">\n",
       "  <thead>\n",
       "    <tr style=\"text-align: right;\">\n",
       "      <th></th>\n",
       "      <th>year</th>\n",
       "      <th>month</th>\n",
       "      <th>monthly_anom</th>\n",
       "    </tr>\n",
       "  </thead>\n",
       "  <tbody>\n",
       "    <tr>\n",
       "      <th>0</th>\n",
       "      <td>1743</td>\n",
       "      <td>11</td>\n",
       "      <td>-2.276</td>\n",
       "    </tr>\n",
       "    <tr>\n",
       "      <th>1</th>\n",
       "      <td>1743</td>\n",
       "      <td>12</td>\n",
       "      <td>NaN</td>\n",
       "    </tr>\n",
       "    <tr>\n",
       "      <th>2</th>\n",
       "      <td>1744</td>\n",
       "      <td>1</td>\n",
       "      <td>NaN</td>\n",
       "    </tr>\n",
       "    <tr>\n",
       "      <th>3</th>\n",
       "      <td>1744</td>\n",
       "      <td>2</td>\n",
       "      <td>NaN</td>\n",
       "    </tr>\n",
       "    <tr>\n",
       "      <th>4</th>\n",
       "      <td>1744</td>\n",
       "      <td>3</td>\n",
       "      <td>NaN</td>\n",
       "    </tr>\n",
       "    <tr>\n",
       "      <th>...</th>\n",
       "      <td>...</td>\n",
       "      <td>...</td>\n",
       "      <td>...</td>\n",
       "    </tr>\n",
       "    <tr>\n",
       "      <th>3234</th>\n",
       "      <td>2013</td>\n",
       "      <td>5</td>\n",
       "      <td>0.574</td>\n",
       "    </tr>\n",
       "    <tr>\n",
       "      <th>3235</th>\n",
       "      <td>2013</td>\n",
       "      <td>6</td>\n",
       "      <td>0.982</td>\n",
       "    </tr>\n",
       "    <tr>\n",
       "      <th>3236</th>\n",
       "      <td>2013</td>\n",
       "      <td>7</td>\n",
       "      <td>2.172</td>\n",
       "    </tr>\n",
       "    <tr>\n",
       "      <th>3237</th>\n",
       "      <td>2013</td>\n",
       "      <td>8</td>\n",
       "      <td>-0.659</td>\n",
       "    </tr>\n",
       "    <tr>\n",
       "      <th>3238</th>\n",
       "      <td>2013</td>\n",
       "      <td>9</td>\n",
       "      <td>-0.172</td>\n",
       "    </tr>\n",
       "  </tbody>\n",
       "</table>\n",
       "<p>3239 rows × 3 columns</p>\n",
       "</div>"
      ],
      "text/plain": [
       "      year  month  monthly_anom\n",
       "0     1743     11        -2.276\n",
       "1     1743     12           NaN\n",
       "2     1744      1           NaN\n",
       "3     1744      2           NaN\n",
       "4     1744      3           NaN\n",
       "...    ...    ...           ...\n",
       "3234  2013      5         0.574\n",
       "3235  2013      6         0.982\n",
       "3236  2013      7         2.172\n",
       "3237  2013      8        -0.659\n",
       "3238  2013      9        -0.172\n",
       "\n",
       "[3239 rows x 3 columns]"
      ]
     },
     "execution_count": 24,
     "metadata": {},
     "output_type": "execute_result"
    }
   ],
   "source": [
    "col_names = ['year', 'month', 'monthly_anom']\n",
    "temp = pd.read_csv('../data/nyc_temp.txt', header=None, delim_whitespace=True, usecols=[0,1,2], names=col_names, comment=\"%\")\n",
    "temp"
   ]
  },
  {
   "cell_type": "markdown",
   "metadata": {},
   "source": [
    "### Create a DateTime Index\n",
    "\n",
    "`date_df = temp.drop('monthly_anom', axis=1)`\n",
    "\n",
    "`date_df[\"day\"] = 1`\n",
    "\n",
    "`date_index = pd.DatetimeIndex(pd.to_datetime(date_df))`\n",
    "\n",
    "`temp = temp.set_index(date_index).drop([\"year\", \"month\"], axis=1)`"
   ]
  },
  {
   "cell_type": "code",
   "execution_count": 25,
   "metadata": {},
   "outputs": [
    {
     "data": {
      "text/html": [
       "<div>\n",
       "<style scoped>\n",
       "    .dataframe tbody tr th:only-of-type {\n",
       "        vertical-align: middle;\n",
       "    }\n",
       "\n",
       "    .dataframe tbody tr th {\n",
       "        vertical-align: top;\n",
       "    }\n",
       "\n",
       "    .dataframe thead th {\n",
       "        text-align: right;\n",
       "    }\n",
       "</style>\n",
       "<table border=\"1\" class=\"dataframe\">\n",
       "  <thead>\n",
       "    <tr style=\"text-align: right;\">\n",
       "      <th></th>\n",
       "      <th>monthly_anom</th>\n",
       "    </tr>\n",
       "  </thead>\n",
       "  <tbody>\n",
       "    <tr>\n",
       "      <th>1743-11-01</th>\n",
       "      <td>-2.276</td>\n",
       "    </tr>\n",
       "    <tr>\n",
       "      <th>1743-12-01</th>\n",
       "      <td>NaN</td>\n",
       "    </tr>\n",
       "    <tr>\n",
       "      <th>1744-01-01</th>\n",
       "      <td>NaN</td>\n",
       "    </tr>\n",
       "    <tr>\n",
       "      <th>1744-02-01</th>\n",
       "      <td>NaN</td>\n",
       "    </tr>\n",
       "    <tr>\n",
       "      <th>1744-03-01</th>\n",
       "      <td>NaN</td>\n",
       "    </tr>\n",
       "    <tr>\n",
       "      <th>...</th>\n",
       "      <td>...</td>\n",
       "    </tr>\n",
       "    <tr>\n",
       "      <th>2013-05-01</th>\n",
       "      <td>0.574</td>\n",
       "    </tr>\n",
       "    <tr>\n",
       "      <th>2013-06-01</th>\n",
       "      <td>0.982</td>\n",
       "    </tr>\n",
       "    <tr>\n",
       "      <th>2013-07-01</th>\n",
       "      <td>2.172</td>\n",
       "    </tr>\n",
       "    <tr>\n",
       "      <th>2013-08-01</th>\n",
       "      <td>-0.659</td>\n",
       "    </tr>\n",
       "    <tr>\n",
       "      <th>2013-09-01</th>\n",
       "      <td>-0.172</td>\n",
       "    </tr>\n",
       "  </tbody>\n",
       "</table>\n",
       "<p>3239 rows × 1 columns</p>\n",
       "</div>"
      ],
      "text/plain": [
       "            monthly_anom\n",
       "1743-11-01        -2.276\n",
       "1743-12-01           NaN\n",
       "1744-01-01           NaN\n",
       "1744-02-01           NaN\n",
       "1744-03-01           NaN\n",
       "...                  ...\n",
       "2013-05-01         0.574\n",
       "2013-06-01         0.982\n",
       "2013-07-01         2.172\n",
       "2013-08-01        -0.659\n",
       "2013-09-01        -0.172\n",
       "\n",
       "[3239 rows x 1 columns]"
      ]
     },
     "execution_count": 25,
     "metadata": {},
     "output_type": "execute_result"
    }
   ],
   "source": [
    "col_names = ['year', 'month', 'monthly_anom']\n",
    "temp = pd.read_csv('../data/nyc_temp.txt', header=None, usecols=[0, 1, 2], names=col_names, delim_whitespace=True, comment='%')\n",
    "\n",
    "date_df = temp.drop('monthly_anom', axis=1)\n",
    "date_df[\"day\"] = 1\n",
    "date_index = pd.DatetimeIndex(pd.to_datetime(date_df))\n",
    "temp = temp.set_index(date_index).drop([\"year\", \"month\"], axis=1)\n",
    "temp"
   ]
  },
  {
   "cell_type": "markdown",
   "metadata": {},
   "source": [
    "### Fill Missing Values\n",
    "\n",
    "`temp = temp.fillna(method=\"ffill\")`"
   ]
  },
  {
   "cell_type": "code",
   "execution_count": 26,
   "metadata": {},
   "outputs": [
    {
     "data": {
      "text/html": [
       "<div>\n",
       "<style scoped>\n",
       "    .dataframe tbody tr th:only-of-type {\n",
       "        vertical-align: middle;\n",
       "    }\n",
       "\n",
       "    .dataframe tbody tr th {\n",
       "        vertical-align: top;\n",
       "    }\n",
       "\n",
       "    .dataframe thead th {\n",
       "        text-align: right;\n",
       "    }\n",
       "</style>\n",
       "<table border=\"1\" class=\"dataframe\">\n",
       "  <thead>\n",
       "    <tr style=\"text-align: right;\">\n",
       "      <th></th>\n",
       "      <th>monthly_anom</th>\n",
       "    </tr>\n",
       "  </thead>\n",
       "  <tbody>\n",
       "    <tr>\n",
       "      <th>1743-11-01</th>\n",
       "      <td>-2.276</td>\n",
       "    </tr>\n",
       "    <tr>\n",
       "      <th>1743-12-01</th>\n",
       "      <td>-2.276</td>\n",
       "    </tr>\n",
       "    <tr>\n",
       "      <th>1744-01-01</th>\n",
       "      <td>-2.276</td>\n",
       "    </tr>\n",
       "    <tr>\n",
       "      <th>1744-02-01</th>\n",
       "      <td>-2.276</td>\n",
       "    </tr>\n",
       "    <tr>\n",
       "      <th>1744-03-01</th>\n",
       "      <td>-2.276</td>\n",
       "    </tr>\n",
       "    <tr>\n",
       "      <th>...</th>\n",
       "      <td>...</td>\n",
       "    </tr>\n",
       "    <tr>\n",
       "      <th>2013-05-01</th>\n",
       "      <td>0.574</td>\n",
       "    </tr>\n",
       "    <tr>\n",
       "      <th>2013-06-01</th>\n",
       "      <td>0.982</td>\n",
       "    </tr>\n",
       "    <tr>\n",
       "      <th>2013-07-01</th>\n",
       "      <td>2.172</td>\n",
       "    </tr>\n",
       "    <tr>\n",
       "      <th>2013-08-01</th>\n",
       "      <td>-0.659</td>\n",
       "    </tr>\n",
       "    <tr>\n",
       "      <th>2013-09-01</th>\n",
       "      <td>-0.172</td>\n",
       "    </tr>\n",
       "  </tbody>\n",
       "</table>\n",
       "<p>3239 rows × 1 columns</p>\n",
       "</div>"
      ],
      "text/plain": [
       "            monthly_anom\n",
       "1743-11-01        -2.276\n",
       "1743-12-01        -2.276\n",
       "1744-01-01        -2.276\n",
       "1744-02-01        -2.276\n",
       "1744-03-01        -2.276\n",
       "...                  ...\n",
       "2013-05-01         0.574\n",
       "2013-06-01         0.982\n",
       "2013-07-01         2.172\n",
       "2013-08-01        -0.659\n",
       "2013-09-01        -0.172\n",
       "\n",
       "[3239 rows x 1 columns]"
      ]
     },
     "execution_count": 26,
     "metadata": {},
     "output_type": "execute_result"
    }
   ],
   "source": [
    "temp = temp.fillna(method=\"ffill\")\n",
    "temp"
   ]
  },
  {
   "cell_type": "markdown",
   "metadata": {},
   "source": [
    "## Working with Large Datasets\n",
    "\n",
    "Using the `chunksize` argument of `read_csv` to parse or perfrom operations on large files"
   ]
  },
  {
   "cell_type": "code",
   "execution_count": 27,
   "metadata": {},
   "outputs": [
    {
     "name": "stdout",
     "output_type": "stream",
     "text": [
      "(200000, 47)\n",
      "(200000, 47)\n",
      "(200000, 47)\n",
      "(18764, 47)\n"
     ]
    }
   ],
   "source": [
    "filename = \"../data/311_Cases2019.csv\"\n",
    "c_size = 200000\n",
    "\n",
    "for sf_chunk in pd.read_csv(filename, chunksize=c_size):\n",
    "    print (sf_chunk.shape)"
   ]
  },
  {
   "cell_type": "markdown",
   "metadata": {},
   "source": [
    "Chunking Multiple Operations"
   ]
  },
  {
   "cell_type": "code",
   "execution_count": 28,
   "metadata": {},
   "outputs": [
    {
     "name": "stdout",
     "output_type": "stream",
     "text": [
      "0            Hayes Valley\n",
      "1            Potrero Hill\n",
      "2         Diamond Heights\n",
      "3                 Mission\n",
      "4               Japantown\n",
      "               ...       \n",
      "199995       Outer Sunset\n",
      "199996    South of Market\n",
      "199997          Oceanview\n",
      "199998      Hunters Point\n",
      "199999           Nob Hill\n",
      "Name: Neighborhood, Length: 200000, dtype: object\n",
      "200000    Mission Dolores\n",
      "200001    Dolores Heights\n",
      "200002            Mission\n",
      "200003            Mission\n",
      "200004            Mission\n",
      "               ...       \n",
      "399995    South of Market\n",
      "399996            Mission\n",
      "399997            Mission\n",
      "399998           Parkside\n",
      "399999            Mission\n",
      "Name: Neighborhood, Length: 200000, dtype: object\n",
      "400000            Tenderloin\n",
      "400001        Haight Ashbury\n",
      "400002       Dolores Heights\n",
      "400003                  None\n",
      "400004            Tenderloin\n",
      "                 ...        \n",
      "599995       Dolores Heights\n",
      "599996    Financial District\n",
      "599997                Marina\n",
      "599998          Outer Sunset\n",
      "599999       South of Market\n",
      "Name: Neighborhood, Length: 200000, dtype: object\n",
      "600000     Bernal Heights\n",
      "600001     Bernal Heights\n",
      "600002       Russian Hill\n",
      "600003    South of Market\n",
      "600004          Excelsior\n",
      "               ...       \n",
      "618759    South of Market\n",
      "618760               None\n",
      "618761               None\n",
      "618762               None\n",
      "618763               None\n",
      "Name: Neighborhood, Length: 18764, dtype: object\n"
     ]
    }
   ],
   "source": [
    "for sf_chunk in pd.read_csv(filename, chunksize=c_size):\n",
    "    sf_chunk = sf_chunk.iloc[:, 0:18]\n",
    "    sf_chunk = sf_chunk.fillna(\"None\")\n",
    "    date_index = pd.DatetimeIndex(pd.to_datetime(sf_chunk[\"Opened\"]))\n",
    "    sf_chunk.loc[:,\"Opened\"] = date_index\n",
    "    sf_chunk.loc[:,\"Weekday\"] = date_index.weekday_name\n",
    "    print (sf_chunk[\"Neighborhood\"])"
   ]
  },
  {
   "cell_type": "markdown",
   "metadata": {},
   "source": [
    "### NaN Functions\n",
    "\n",
    "`import numpy as np`\n",
    "\n",
    "`df = pd.DataFrame(np.random.randn(3, 3), index=['a', 'c', 'e'], columns=['one','two', 'three'])`\n",
    "\n",
    "`print (\"Original\" + \"\\n\")`\n",
    "\n",
    "`print (df)`\n",
    "\n",
    "`df = df.reindex(['a', 'b', 'c'])`\n",
    "\n",
    "`print (\"\\n\"  + \"Reindexed:\" + '\\n')`\n",
    "\n",
    "`print (df)`\n",
    "\n",
    "`print (\"\\n\"  + \"NaN replaced with '0':\" + \"\\n\")`\n",
    "\n",
    "`print (df.fillna(0))`"
   ]
  },
  {
   "cell_type": "code",
   "execution_count": 32,
   "metadata": {},
   "outputs": [
    {
     "name": "stdout",
     "output_type": "stream",
     "text": [
      "Original\n",
      "\n",
      "        one       two     three\n",
      "a -1.199687 -0.914891 -0.732964\n",
      "c -1.529484 -1.597783 -0.152724\n",
      "e  0.353078  0.482614  1.049960\n",
      "\n",
      "Reindexed:\n",
      "\n",
      "        one       two     three\n",
      "a -1.199687 -0.914891 -0.732964\n",
      "b       NaN       NaN       NaN\n",
      "c -1.529484 -1.597783 -0.152724\n",
      "\n",
      "NaN replaced with '0':\n",
      "\n",
      "        one       two     three\n",
      "a -1.199687 -0.914891 -0.732964\n",
      "b  0.000000  0.000000  0.000000\n",
      "c -1.529484 -1.597783 -0.152724\n"
     ]
    }
   ],
   "source": [
    "import numpy as np\n",
    "\n",
    "df = pd.DataFrame(np.random.randn(3, 3), index=['a', 'c', 'e'], columns=['one','two', 'three'])\n",
    "print (\"Original\" + \"\\n\")\n",
    "print (df)\n",
    "df = df.reindex(['a', 'b', 'c'])\n",
    "print (\"\\n\"  + \"Reindexed:\" + '\\n')\n",
    "print (df)\n",
    "print (\"\\n\"  + \"NaN replaced with '0':\" + \"\\n\")\n",
    "print (df.fillna(0))"
   ]
  },
  {
   "cell_type": "code",
   "execution_count": 33,
   "metadata": {},
   "outputs": [
    {
     "name": "stdout",
     "output_type": "stream",
     "text": [
      "Original\n",
      "\n",
      "        one       two     three\n",
      "a -0.644861 -1.105221  0.069899\n",
      "c -0.423894  1.130578  0.289239\n",
      "e -1.557106 -1.898490  1.500030\n",
      "\n",
      "Reindexed:\n",
      "\n",
      "        one       two     three\n",
      "a -0.644861 -1.105221  0.069899\n",
      "b       NaN       NaN       NaN\n",
      "c -0.423894  1.130578  0.289239\n",
      "\n",
      "After Dropping NaN rows:\n",
      "\n",
      "        one       two     three\n",
      "a -0.644861 -1.105221  0.069899\n",
      "c -0.423894  1.130578  0.289239\n"
     ]
    }
   ],
   "source": [
    "df = pd.DataFrame(np.random.randn(3, 3), index=['a', 'c', 'e'], columns=['one','two', 'three'])\n",
    "print (\"Original\" + \"\\n\")\n",
    "print (df)\n",
    "df = df.reindex(['a', 'b', 'c'])\n",
    "print (\"\\n\"  + \"Reindexed:\" + '\\n')\n",
    "print (df)\n",
    "df = df.dropna()\n",
    "print (\"\\n\"  + \"After Dropping NaN rows:\" + '\\n')\n",
    "print (df)"
   ]
  },
  {
   "cell_type": "code",
   "execution_count": null,
   "metadata": {},
   "outputs": [],
   "source": []
  }
 ],
 "metadata": {
  "kernelspec": {
   "display_name": "Python 3",
   "language": "python",
   "name": "python3"
  },
  "language_info": {
   "codemirror_mode": {
    "name": "ipython",
    "version": 3
   },
   "file_extension": ".py",
   "mimetype": "text/x-python",
   "name": "python",
   "nbconvert_exporter": "python",
   "pygments_lexer": "ipython3",
   "version": "3.6.7"
  }
 },
 "nbformat": 4,
 "nbformat_minor": 4
}
